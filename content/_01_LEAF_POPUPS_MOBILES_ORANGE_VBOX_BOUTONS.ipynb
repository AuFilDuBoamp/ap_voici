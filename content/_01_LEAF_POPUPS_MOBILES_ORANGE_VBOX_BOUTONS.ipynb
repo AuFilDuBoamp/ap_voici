{
 "cells": [
  {
   "cell_type": "code",
   "execution_count": 1,
   "metadata": {},
   "outputs": [],
   "source": [
    "#from semaine52lab.configs import *\n",
    "import IPython.display\n",
    "from IPython.display import display, YouTubeVideo, clear_output\n",
    "\n",
    "import ipyleaflet as leaf\n",
    "import ipywidgets as wg\n",
    "from ipyleaflet import Map, Marker, Popup, FullScreenControl, WidgetControl, basemaps, basemap_to_tiles\n",
    "from ipywidgets import interact, interactive, IntSlider, HBox, VBox, HTML, Layout, Output, Box\n"
   ]
  },
  {
   "cell_type": "code",
   "execution_count": 2,
   "metadata": {},
   "outputs": [],
   "source": [
    "s1 =''\n",
    "IPython.display.HTML(f'{s1}');"
   ]
  },
  {
   "cell_type": "code",
   "execution_count": 3,
   "metadata": {},
   "outputs": [],
   "source": [
    "s_ass_nat = (\"\"\"\n",
    "<a class=\"twitter-timeline\" data-chrome=\"\"\n",
    "data-link-color=\"#ffcc00\" data-theme=\"dark\"\n",
    "height=\"500\" width=\"500\"\n",
    "href=\"https://twitter.com/AssembleeNat\"></a>\n",
    "<script async src=\"//platform.twitter.com/widgets.js\" charset=\"utf-8\"></script>\n",
    "\"\"\")\n",
    "s_cons_constit = (\"\"\"\n",
    "<a class=\"twitter-timeline\" data-chrome=\"\"\n",
    "data-link-color=\"#ffcc00\" data-theme=\"dark\"\n",
    "height=\"500\" width=\"500\"\n",
    "href=\"https://twitter.com/conseil_constit\"></a>\n",
    "<script async src=\"//platform.twitter.com/widgets.js\" charset=\"utf-8\"></script>\n",
    "\"\"\")\n",
    "s_cese = (\"\"\"\n",
    "<a class=\"twitter-timeline\" data-chrome=\"\"\n",
    "data-link-color=\"#ffcc00\" data-theme=\"dark\"\n",
    "height=\"500\" width=\"500\"\n",
    "href=\"https://twitter.com/lecese\"></a>\n",
    "<script async src=\"//platform.twitter.com/widgets.js\" charset=\"utf-8\"></script>\n",
    "\"\"\")\n",
    "s_cons_etat = (\"\"\"\n",
    "<a class=\"twitter-timeline\" data-chrome=\"\"\n",
    "data-link-color=\"#ffcc00\" data-theme=\"dark\"\n",
    "height=\"500\" width=\"500\"\n",
    "href=\"https://twitter.com/Conseil_Etat\"></a>\n",
    "<script async src=\"//platform.twitter.com/widgets.js\" charset=\"utf-8\"></script>\n",
    "\"\"\")\n",
    "s_csm = (\"\"\"\n",
    "<a class=\"twitter-timeline\" data-chrome=\"\"\n",
    "data-link-color=\"#ffcc00\" data-theme=\"dark\"\n",
    "height=\"500\" width=\"500\"\n",
    "href=\"https://twitter.com/CSMagistrature\"></a>\n",
    "<script async src=\"//platform.twitter.com/widgets.js\" charset=\"utf-8\"></script>\n",
    "\"\"\")\n",
    "s_cour_cass = (\"\"\"\n",
    "<a class=\"twitter-timeline\" data-chrome=\"\"\n",
    "data-link-color=\"#ffcc00\" data-theme=\"dark\"\n",
    "height=\"500\" width=\"500\"\n",
    "href=\"https://twitter.com/Courdecassation\"></a>\n",
    "<script async src=\"//platform.twitter.com/widgets.js\" charset=\"utf-8\"></script>\n",
    "\"\"\")\n",
    "s_cour_comptes = (\"\"\"\n",
    "<a class=\"twitter-timeline\" data-chrome=\"\"\n",
    "data-link-color=\"#ffcc00\" data-theme=\"dark\"\n",
    "height=\"500\" width=\"500\"\n",
    "href=\"https://twitter.com/Courdescomptes\"></a>\n",
    "<script async src=\"//platform.twitter.com/widgets.js\" charset=\"utf-8\"></script>\n",
    "\"\"\")\n",
    "s_def_droits = (\"\"\"\n",
    "<a class=\"twitter-timeline\" data-chrome=\"\"\n",
    "data-link-color=\"#ffcc00\" data-theme=\"dark\"\n",
    "height=\"500\" width=\"500\"\n",
    "href=\"https://twitter.com/defenseurdroits\"></a>\n",
    "<script async src=\"//platform.twitter.com/widgets.js\" charset=\"utf-8\"></script>\n",
    "\"\"\")\n",
    "s_senat = (\"\"\"\n",
    "<a class=\"twitter-timeline\" data-chrome=\"\"\n",
    "data-link-color=\"#ffcc00\" data-theme=\"dark\"\n",
    "height=\"500\" width=\"500\"\n",
    "href=\"https://twitter.com/senat\"></a>\n",
    "<script async src=\"//platform.twitter.com/widgets.js\" charset=\"utf-8\"></script>\n",
    "\"\"\")\n"
   ]
  },
  {
   "cell_type": "code",
   "execution_count": null,
   "metadata": {},
   "outputs": [],
   "source": [
    "\n",
    "\n"
   ]
  },
  {
   "cell_type": "code",
   "execution_count": 4,
   "metadata": {},
   "outputs": [],
   "source": [
    "instits = ['Assemblée nationale', 'Conseil constitutionnel', 'CESE', 'Conseil d\\'État', 'C.Sup. magistrature', 'Cour de cassation', 'Cour des comptes', 'Défenseur des droits', 'Sénat']"
   ]
  },
  {
   "cell_type": "code",
   "execution_count": 5,
   "metadata": {},
   "outputs": [],
   "source": [
    "from ipywidgets import Layout, Button, Box, Label\n",
    "\n",
    "item_layout = Layout(height='auto', width='180px', min_width='180px', max_width='180px', border='2px solid #000000',)\n",
    "items = [Button(layout=item_layout, description=str(i), button_style='warning') for i in instits]\n",
    "box_layout = Layout(overflow_x='scroll',\n",
    "                    border='0px solid black',\n",
    "                    width='200px',\n",
    "                    margin='10px 10px 10px 10px',\n",
    "                    height='auto', \n",
    "                    \n",
    "                    \n",
    "                    )\n",
    "carousel = VBox(children=items, layout=box_layout)\n",
    "\n"
   ]
  },
  {
   "cell_type": "code",
   "execution_count": 6,
   "metadata": {},
   "outputs": [
    {
     "data": {
      "application/vnd.jupyter.widget-view+json": {
       "model_id": "b7f53fb028334b51b62faabdc35d7b4e",
       "version_major": 2,
       "version_minor": 0
      },
      "text/plain": [
       "Output(layout=Layout(border_bottom='1px solid black', border_left='1px solid black', border_right='1px solid b…"
      ]
     },
     "metadata": {},
     "output_type": "display_data"
    }
   ],
   "source": [
    "out_mapCAR = wg.Output(layout=dict(border='4px solid black'))\n",
    "###\n",
    "out_map_ass_nat = wg.Output(layout=dict(border='4px solid black'))\n",
    "out_mapCC = wg.Output(layout=dict(border='4px solid black'))\n",
    "out_mapCESE = wg.Output(layout=dict(border='4px solid black'))\n",
    "out_mapCE = wg.Output(layout=dict(border='4px solid black'))\n",
    "out_mapCSM = wg.Output(layout=dict(border='4px solid black'))\n",
    "out_map_cour_cass = wg.Output(layout=dict(border='4px solid black'))\n",
    "out_map_cour_comptes = wg.Output(layout=dict(border='4px solid black'))\n",
    "out_map_def_droits = wg.Output(layout=dict(border='4px solid black'))\n",
    "out_mapSenat = wg.Output(layout=dict(border='4px solid black'))\n",
    "\n",
    "# Carte\n",
    "m = leaf.Map(center=(0.0,0.0), zoom=4, close_popup_on_click=False, basemap=basemaps.CartoDB.DarkMatter)\n",
    "\n",
    "\n",
    "# Layer\n",
    "#dark_matter_layer = basemap_to_tiles(basemaps.NASAGIBS.ViirsEarthAtNight2012)\n",
    "#m.add_layer(dark_matter_layer)\n",
    "\n",
    "\n",
    "# Markers\n",
    "\n",
    "## L1\n",
    "mk1 = leaf.Marker(location=(m.center[0]-20, m.center[1]), popup=wg.HTML(''), title='')\n",
    "m.add_layer(mk1)\n",
    "\n",
    "mk2 = leaf.Marker(location=(m.center[0]-20, m.center[1]-40.0), popup=wg.HTML(''),  title='')\n",
    "m.add_layer(mk2)\n",
    "\n",
    "mk3 = leaf.Marker(location=(m.center[0]-20, m.center[1]-80.0), popup=wg.HTML(''),  title='')\n",
    "m.add_layer(mk3)\n",
    "\n",
    "mk4 = leaf.Marker(location=(m.center[0]-20, m.center[1]+40.0), popup=wg.HTML(''),  title='')\n",
    "m.add_layer(mk4)\n",
    "\n",
    "mk5 = leaf.Marker(location=(m.center[0]-20, m.center[1]+80.0), popup=wg.HTML(''),  title='')\n",
    "m.add_layer(mk5)\n",
    "\n",
    "\n",
    "\n",
    "## L2\n",
    "mk6 = leaf.Marker(location=(m.center[0]+40, m.center[1]), popup=wg.HTML('pop_inter6'), title='title1')\n",
    "m.add_layer(mk6)\n",
    "\n",
    "mk7 = leaf.Marker(location=(m.center[0]+40, m.center[1]-40.0), popup=wg.HTML('pop_inter7'),  title='title2')\n",
    "m.add_layer(mk7)\n",
    "\n",
    "mk8 = leaf.Marker(location=(m.center[0]+40, m.center[1]-80.0), popup=wg.HTML('pop_inter8'),  title='title2')\n",
    "m.add_layer(mk8)\n",
    "\n",
    "mk9 = leaf.Marker(location=(m.center[0]+40, m.center[1]+40.0), popup=wg.HTML('pop_inter9'),  title='title2')\n",
    "m.add_layer(mk9)\n",
    "\n",
    "\n",
    "\n",
    "\n",
    "\n",
    "\n",
    "# Boutons\n",
    "## Bout1\n",
    "#boutCE = wg.Button(description=\"Conseil d'État\", button_style='warning',\n",
    "#                              tooltip='Conseil d\\'État',\n",
    "#                              icon='check')\n",
    "#widget_boutCE = WidgetControl(widget=boutCE, position='topright')\n",
    "#m.add_control(widget_boutCE)\n",
    "#\n",
    "\n",
    "\n",
    "\n",
    "@out_map_ass_nat.capture(clear_output=True, wait=True)\n",
    "def on_button1_clicked(b):    \n",
    "    m.center = mk1.location\n",
    "    out_map_ass_nat = wg.Output(layout=dict(border='1px solid black'))\n",
    "    rce11 = IPython.display.HTML(f'{s_ass_nat}')\n",
    "    rce12 = wg.HTML(f\"<html><div style='color:white'>{display(rce11)}</div></html>\")\n",
    "    \n",
    "carousel.children[0].on_click(on_button1_clicked)\n",
    "\n",
    "\n",
    "@out_mapCC.capture(clear_output=True, wait=True)\n",
    "def on_button2_clicked(b):    \n",
    "    m.center = mk2.location\n",
    "    out_mapCC = wg.Output(layout=dict(border='1px solid black'))\n",
    "    rce21 = IPython.display.HTML(f'{s_cons_constit}');\n",
    "    rce22 = wg.HTML(f\"<html><div style='color:white'>{display(rce21)}</div></html>\")\n",
    "    \n",
    "carousel.children[1].on_click(on_button2_clicked)\n",
    "\n",
    "@out_mapCESE.capture(clear_output=True, wait=True)\n",
    "def on_button3_clicked(b):    \n",
    "    m.center = mk3.location\n",
    "    out_mapCESE = wg.Output(layout=dict(border='1px solid black'))\n",
    "    rce31 = IPython.display.HTML(f'{s_cese}');\n",
    "    rce32 = wg.HTML(f\"<html><div style='color:white'>{display(rce31)}</div></html>\")\n",
    "    \n",
    "carousel.children[2].on_click(on_button3_clicked)\n",
    "\n",
    "@out_mapCE.capture(clear_output=True, wait=True)\n",
    "def on_button4_clicked(b):    \n",
    "    m.center = mk4.location\n",
    "    out_mapCE = wg.Output(layout=dict(border='1px solid black'))\n",
    "    rce41 = IPython.display.HTML(f'{s_cons_etat}');\n",
    "    rce42 = wg.HTML(f\"<html><div style='color:white'>{display(rce41)}</div></html>\")\n",
    "    \n",
    "carousel.children[3].on_click(on_button4_clicked)\n",
    "\n",
    "\n",
    "@out_mapCSM.capture(clear_output=True, wait=True)\n",
    "def on_button5_clicked(b):    \n",
    "    m.center = mk5.location\n",
    "    out_mapCSM = wg.Output(layout=dict(border='1px solid black'))\n",
    "    rce51 = IPython.display.HTML(f'{s_csm}');\n",
    "    rce52 = wg.HTML(f\"<html><div style='color:white'>{display(rce51)}</div></html>\")\n",
    "    \n",
    "carousel.children[4].on_click(on_button5_clicked)\n",
    "\n",
    "@out_map_cour_cass.capture(clear_output=True, wait=True)\n",
    "def on_button6_clicked(b):    \n",
    "    m.center = mk6.location\n",
    "    out_map_cour_cass = wg.Output(layout=dict(border='1px solid black'))\n",
    "    rce61 = IPython.display.HTML(f'{s_cour_cass}');\n",
    "    rce62 = wg.HTML(f\"<html><div style='color:white'>{display(rce61)}</div></html>\")\n",
    "    \n",
    "carousel.children[5].on_click(on_button6_clicked)\n",
    "\n",
    "@out_map_cour_comptes.capture(clear_output=True, wait=True)\n",
    "def on_button7_clicked(b):    \n",
    "    m.center = mk7.location\n",
    "    out_map_cour_comptes = wg.Output(layout=dict(border='1px solid black'))\n",
    "    rce71 = IPython.display.HTML(f'{s_cour_comptes}');\n",
    "    rce72 = wg.HTML(f\"<html><div style='color:white'>{display(rce71)}</div></html>\")\n",
    "    \n",
    "carousel.children[6].on_click(on_button7_clicked)\n",
    "\n",
    "@out_map_def_droits.capture(clear_output=True, wait=True)\n",
    "def on_button8_clicked(b):    \n",
    "    m.center = mk8.location\n",
    "    out_map_def_droits = wg.Output(layout=dict(border='1px solid black'))\n",
    "    rce81 = IPython.display.HTML(f'{s_def_droits}');\n",
    "    rce82 = wg.HTML(f\"<html><div style='color:white'>{display(rce81)}</div></html>\")\n",
    "    \n",
    "carousel.children[7].on_click(on_button8_clicked)\n",
    "\n",
    "\n",
    "@out_mapSenat.capture(clear_output=True, wait=True)\n",
    "def on_button9_clicked(b):    \n",
    "    m.center = mk9.location\n",
    "    out_mapSenat = wg.Output(layout=dict(border='1px solid black'));\n",
    "    rcc91 = IPython.display.HTML(f'{s_senat}');\n",
    "    rcc92 = wg.HTML(f\"<html><div style='color:white'>{display(rcc91)}</div></html>\")\n",
    "    \n",
    "    \n",
    "carousel.children[8].on_click(on_button9_clicked)\n",
    "\n",
    "##BoutCC\n",
    "# 'success', 'info', 'warning', 'danger' or ''\n",
    "#boutCC = wg.Button(description='Conseil constitutionnel', button_style='success',\n",
    "#                  tooltip='Conseil constitutionnel',\n",
    "#                  icon='check')\n",
    "#widget_boutCC = WidgetControl(widget=boutCC, position='topright')\n",
    "#m.add_control(widget_boutCC)\n",
    "\n",
    "\n",
    "\n",
    "# Carrousel\n",
    "\n",
    "widget_carousel = WidgetControl(widget=carousel, position='topright')\n",
    "\n",
    "m.add_control(widget_carousel)    \n",
    "\n",
    "\n",
    "\n",
    "    \n",
    "# POPUPS\n",
    "\n",
    "\n",
    "###\n",
    "pop1 = leaf.Popup(location=(mk1.location[0]-15.0,mk1.location[1]),\n",
    "                  child=wg.VBox([wg.HTML(value='Assemblée nationale'), out_map_ass_nat]), auto_close=True,\n",
    "                  close_on_escape_key=False, close_button=False,\n",
    "                  keep_in_view=False, min_width=400,)\n",
    "m.add_layer(pop1)\n",
    "\n",
    "###\n",
    "pop2 = leaf.Popup(location=(mk2.location[0]-15.0,mk2.location[1]),\n",
    "                  child=wg.VBox([wg.HTML(value='Conseil constitutionnel'), out_mapCC, ]), auto_close=False,\n",
    "                  close_on_escape_key=False, close_button=False,\n",
    "                  keep_in_view=False, min_width=400,)\n",
    "m.add_layer(pop2)\n",
    "###\n",
    "\n",
    "###\n",
    "pop3 = leaf.Popup(location=(mk3.location[0]-15.0,mk3.location[1]),\n",
    "                  child=wg.VBox([wg.HTML(value='CESE'), out_mapCESE]), auto_close=False,\n",
    "                  close_on_escape_key=False, close_button=False,\n",
    "                  keep_in_view=False, min_width=400,)\n",
    "m.add_layer(pop3)\n",
    "\n",
    "###\n",
    "pop4 = leaf.Popup(location=(mk4.location[0]-15.0,mk4.location[1]),\n",
    "                  child=wg.VBox([wg.HTML(value='Conseil d\\'État'), out_mapCE ]), auto_close=False,\n",
    "                  close_on_escape_key=False, close_button=False,\n",
    "                  keep_in_view=False, min_width=400,)\n",
    "m.add_layer(pop4)\n",
    "###\n",
    "\n",
    "###\n",
    "pop5 = leaf.Popup(location=(mk5.location[0]-15.0,mk5.location[1]),\n",
    "                  child=wg.VBox([wg.HTML(value='CSM'), out_mapCSM]), auto_close=False,\n",
    "                  close_on_escape_key=False, close_button=False,\n",
    "                  keep_in_view=False, min_width=400,)\n",
    "m.add_layer(pop5)\n",
    "\n",
    "###\n",
    "pop6 = leaf.Popup(location=(mk6.location[0]-15.0,mk6.location[1]),\n",
    "                  child=wg.VBox([wg.HTML(value='Cour de cassation'), out_map_cour_cass  ]), auto_close=False,\n",
    "                  close_on_escape_key=False, close_button=False,\n",
    "                  keep_in_view=False, min_width=400,)\n",
    "m.add_layer(pop6)\n",
    "###\n",
    "\n",
    "###\n",
    "pop7 = leaf.Popup(location=(mk7.location[0]-15.0,mk7.location[1]),\n",
    "                  child=wg.VBox([wg.HTML(value='Cour des comptes'), out_map_cour_comptes]), auto_close=False,\n",
    "                  close_on_escape_key=False, close_button=False,\n",
    "                  keep_in_view=False, min_width=400,)\n",
    "m.add_layer(pop7)\n",
    "\n",
    "###\n",
    "pop8 = leaf.Popup(location=(mk8.location[0]-15.0,mk8.location[1]),\n",
    "                  child=wg.VBox([wg.HTML(value='Défenseur des droits'), out_map_def_droits ]), auto_close=False,\n",
    "                  close_on_escape_key=False, close_button=False,\n",
    "                  keep_in_view=False, min_width=400,)\n",
    "m.add_layer(pop8)\n",
    "###\n",
    "\n",
    "###\n",
    "pop9 = leaf.Popup(location=(mk9.location[0]-15.0,mk9.location[1]),\n",
    "                  child=wg.VBox([wg.HTML(value='Sénat'), out_mapSenat]), auto_close=False,\n",
    "                  close_on_escape_key=False, close_button=False,\n",
    "                  keep_in_view=False, min_width=400,)\n",
    "m.add_layer(pop9)\n",
    "\n",
    "###\n",
    "\n",
    "# contrôles\n",
    "m.add_control(FullScreenControl())\n",
    "\n",
    "\n",
    "\n",
    "out = wg.Output(layout=dict(border='1px solid black'))\n",
    "\n",
    "\n",
    "with out:    \n",
    "    display(m)\n",
    "    \n",
    "display(out)\n",
    "\n"
   ]
  },
  {
   "cell_type": "code",
   "execution_count": null,
   "metadata": {},
   "outputs": [],
   "source": []
  }
 ],
 "metadata": {
  "kernelspec": {
   "display_name": "Python 3 (ipykernel)",
   "language": "python",
   "name": "python3"
  },
  "language_info": {
   "codemirror_mode": {
    "name": "ipython",
    "version": 3
   },
   "file_extension": ".py",
   "mimetype": "text/x-python",
   "name": "python",
   "nbconvert_exporter": "python",
   "pygments_lexer": "ipython3",
   "version": "3.11.5"
  },
  "widgets": {
   "application/vnd.jupyter.widget-state+json": {
    "state": {
     "0023de9fc5364b1db977edebe4c56ef6": {
      "model_module": "@jupyter-widgets/base",
      "model_module_version": "2.0.0",
      "model_name": "LayoutModel",
      "state": {}
     },
     "00e93fa6baa74fe5a4e1e7f3c5119e11": {
      "model_module": "@jupyter-widgets/output",
      "model_module_version": "1.0.0",
      "model_name": "OutputModel",
      "state": {
       "layout": "IPY_MODEL_48527b50aba84027a0508b8742591b8a"
      }
     },
     "01411ad8ff284a4f95ce1ec6317bf74a": {
      "model_module": "@jupyter-widgets/controls",
      "model_module_version": "2.0.0",
      "model_name": "HTMLStyleModel",
      "state": {
       "description_width": "",
       "font_size": null,
       "text_color": null
      }
     },
     "017b783fc0af46e18408e38845156821": {
      "model_module": "@jupyter-widgets/base",
      "model_module_version": "2.0.0",
      "model_name": "LayoutModel",
      "state": {
       "border_bottom": "1px solid black",
       "border_left": "1px solid black",
       "border_right": "1px solid black",
       "border_top": "1px solid black"
      }
     },
     "01c434ccdfbf438fbfd076f686cec705": {
      "model_module": "jupyter-leaflet",
      "model_module_version": "^0.17",
      "model_name": "LeafletMapStyleModel",
      "state": {
       "_model_module_version": "^0.17",
       "cursor": "move"
      }
     },
     "023b6e95ab0a40ae96987cbb0f1f5ddd": {
      "model_module": "@jupyter-widgets/base",
      "model_module_version": "2.0.0",
      "model_name": "LayoutModel",
      "state": {}
     },
     "02827aee954d4ece8814aca20f3c87ca": {
      "model_module": "@jupyter-widgets/output",
      "model_module_version": "1.0.0",
      "model_name": "OutputModel",
      "state": {
       "layout": "IPY_MODEL_54e8095fdf2946babd83ec5423b56746"
      }
     },
     "043ae955b2b14cf6b9c57f392c1fdfff": {
      "model_module": "@jupyter-widgets/base",
      "model_module_version": "2.0.0",
      "model_name": "LayoutModel",
      "state": {}
     },
     "05d91a0979004c06a81a38579b19d23b": {
      "model_module": "@jupyter-widgets/controls",
      "model_module_version": "2.0.0",
      "model_name": "HTMLModel",
      "state": {
       "layout": "IPY_MODEL_af2b873105c644cca41037b5cb34c1fd",
       "style": "IPY_MODEL_904fa1aae38c4fdbb8fdb24b9b8be767",
       "value": "pop_inter9"
      }
     },
     "06e0405b698741428b0d98eb4dff3600": {
      "model_module": "@jupyter-widgets/controls",
      "model_module_version": "2.0.0",
      "model_name": "HTMLStyleModel",
      "state": {
       "description_width": "",
       "font_size": null,
       "text_color": null
      }
     },
     "06e4582c5e294fd3ae1232141391a1ff": {
      "model_module": "@jupyter-widgets/controls",
      "model_module_version": "2.0.0",
      "model_name": "HTMLStyleModel",
      "state": {
       "description_width": "",
       "font_size": null,
       "text_color": null
      }
     },
     "073a1c88e13348f3ac55d557b47703b4": {
      "model_module": "@jupyter-widgets/base",
      "model_module_version": "2.0.0",
      "model_name": "LayoutModel",
      "state": {}
     },
     "07a29d9b35f1472b9cd59ddb8f1ca7d8": {
      "model_module": "@jupyter-widgets/controls",
      "model_module_version": "2.0.0",
      "model_name": "HTMLModel",
      "state": {
       "layout": "IPY_MODEL_ad76b931cb9d419ca3eca153d2d411a4",
       "style": "IPY_MODEL_06e0405b698741428b0d98eb4dff3600",
       "value": "pop_inter8"
      }
     },
     "07b17a5378af4c66bb0238484d55adb9": {
      "model_module": "@jupyter-widgets/controls",
      "model_module_version": "2.0.0",
      "model_name": "HTMLModel",
      "state": {
       "layout": "IPY_MODEL_ccfe619799b346aa833cd6a3307ee510",
       "style": "IPY_MODEL_9f3877af037e4e71a6355d583a22929c",
       "value": "Conseil d'État"
      }
     },
     "09ef84885cd1473fa426d60f806b2a39": {
      "model_module": "@jupyter-widgets/base",
      "model_module_version": "2.0.0",
      "model_name": "LayoutModel",
      "state": {
       "border_bottom": "4px solid black",
       "border_left": "4px solid black",
       "border_right": "4px solid black",
       "border_top": "4px solid black"
      }
     },
     "0c907cfbd99242fb851e42d0f2c90078": {
      "model_module": "@jupyter-widgets/controls",
      "model_module_version": "2.0.0",
      "model_name": "HTMLStyleModel",
      "state": {
       "description_width": "",
       "font_size": null,
       "text_color": null
      }
     },
     "0cc5bf18c71443798425f94264d84b96": {
      "model_module": "jupyter-leaflet",
      "model_module_version": "^0.17",
      "model_name": "LeafletTileLayerModel",
      "state": {
       "_model_module_version": "^0.17",
       "_view_module_version": "^0.17",
       "attribution": "&copy; <a href=\"https://www.openstreetmap.org/copyright\">OpenStreetMap</a> contributors &copy; <a href=\"https://carto.com/attributions\">CARTO</a>",
       "base": true,
       "max_zoom": 20,
       "min_zoom": 1,
       "name": "CartoDB.DarkMatter",
       "options": [
        "attribution",
        "bounds",
        "detect_retina",
        "max_native_zoom",
        "max_zoom",
        "min_native_zoom",
        "min_zoom",
        "no_wrap",
        "tile_size",
        "tms",
        "zoom_offset"
       ],
       "url": "https://a.basemaps.cartocdn.com/dark_all/{z}/{x}/{y}.png"
      }
     },
     "0cf78a4bfbf84231a41264cbec95ea01": {
      "model_module": "@jupyter-widgets/controls",
      "model_module_version": "2.0.0",
      "model_name": "HTMLStyleModel",
      "state": {
       "description_width": "",
       "font_size": null,
       "text_color": null
      }
     },
     "0d844c9f7edd42e0be7d793be647e812": {
      "model_module": "jupyter-leaflet",
      "model_module_version": "^0.17",
      "model_name": "LeafletPopupModel",
      "state": {
       "_model_module_version": "^0.17",
       "_view_module_version": "^0.17",
       "auto_close": false,
       "auto_pan": true,
       "auto_pan_padding": [
        5,
        5
       ],
       "auto_pan_padding_bottom_right": null,
       "auto_pan_padding_top_left": null,
       "child": "IPY_MODEL_e361b333ba66460986ed9111049c15c2",
       "close_button": false,
       "close_on_escape_key": false,
       "keep_in_view": false,
       "location": [
        -35,
        -40
       ],
       "min_width": 400,
       "options": [
        "auto_close",
        "auto_pan",
        "auto_pan_padding",
        "auto_pan_padding_bottom_right",
        "auto_pan_padding_top_left",
        "close_button",
        "close_on_escape_key",
        "keep_in_view",
        "max_height",
        "max_width",
        "min_width"
       ]
      }
     },
     "0ec5c4ad5f8d470fa04cedc508d0b85d": {
      "model_module": "@jupyter-widgets/output",
      "model_module_version": "1.0.0",
      "model_name": "OutputModel",
      "state": {
       "layout": "IPY_MODEL_56a902556e8a47f1a168ff228d8253d5"
      }
     },
     "0fd29046cb2c43049e5f801153833ca3": {
      "model_module": "@jupyter-widgets/output",
      "model_module_version": "1.0.0",
      "model_name": "OutputModel",
      "state": {
       "layout": "IPY_MODEL_c00494e026f24ece9734a3029e227b8d",
       "outputs": [
        {
         "data": {
          "text/html": "\n<a class=\"twitter-timeline\" data-chrome=\"\"\ndata-link-color=\"#ffcc00\" data-theme=\"dark\"\nheight=\"500\" width=\"500\"\nhref=\"https://twitter.com/Courdescomptes\"></a>\n<script async src=\"//platform.twitter.com/widgets.js\" charset=\"utf-8\"></script>\n",
          "text/plain": "<IPython.core.display.HTML object>"
         },
         "metadata": {},
         "output_type": "display_data"
        }
       ]
      }
     },
     "10edb24b870946cb8cbbe747c3cd2231": {
      "model_module": "@jupyter-widgets/controls",
      "model_module_version": "2.0.0",
      "model_name": "HTMLModel",
      "state": {
       "layout": "IPY_MODEL_adbf292e95524dc9b93ac54d6f4b24dc",
       "style": "IPY_MODEL_f7028bdaa6994d37b7f7a921f9ec3f6c",
       "value": "pop_inter6"
      }
     },
     "1306ec40cf2e437ca4fd0752afc8da70": {
      "model_module": "@jupyter-widgets/controls",
      "model_module_version": "2.0.0",
      "model_name": "HTMLModel",
      "state": {
       "layout": "IPY_MODEL_8aa32f9fe0c64017b14a5631f49ead08",
       "style": "IPY_MODEL_15d2ab3ea7c54dfa9eb6754808ea47c0",
       "value": "Assemblée nationale"
      }
     },
     "1437664d1dff46d3a8b20c01ba0951b0": {
      "model_module": "@jupyter-widgets/output",
      "model_module_version": "1.0.0",
      "model_name": "OutputModel",
      "state": {
       "layout": "IPY_MODEL_c142cc9de228487da5b4fb4c50729ac2"
      }
     },
     "1523dde78efb4be6a29b32b9d048924d": {
      "model_module": "@jupyter-widgets/controls",
      "model_module_version": "2.0.0",
      "model_name": "VBoxModel",
      "state": {
       "children": [
        "IPY_MODEL_1306ec40cf2e437ca4fd0752afc8da70",
        "IPY_MODEL_664fd65274ec4fbbba0e41603eb355d0"
       ],
       "layout": "IPY_MODEL_a09b458a1d354ef18a1dd88e604f22e9"
      }
     },
     "15418900e90a4add9a0db398a09c3a36": {
      "model_module": "@jupyter-widgets/controls",
      "model_module_version": "2.0.0",
      "model_name": "HTMLStyleModel",
      "state": {
       "description_width": "",
       "font_size": null,
       "text_color": null
      }
     },
     "15d2ab3ea7c54dfa9eb6754808ea47c0": {
      "model_module": "@jupyter-widgets/controls",
      "model_module_version": "2.0.0",
      "model_name": "HTMLStyleModel",
      "state": {
       "description_width": "",
       "font_size": null,
       "text_color": null
      }
     },
     "161d849d6ebc4006a191534a5d16017f": {
      "model_module": "@jupyter-widgets/controls",
      "model_module_version": "2.0.0",
      "model_name": "HTMLModel",
      "state": {
       "layout": "IPY_MODEL_6b77d4d9711747ab9cc31ece768e709f",
       "style": "IPY_MODEL_b5441097225144779eac9cbddeb4eddf",
       "value": "Défenseur des droits"
      }
     },
     "17122da00c294a0b9fb2fce70b1f5633": {
      "model_module": "@jupyter-widgets/output",
      "model_module_version": "1.0.0",
      "model_name": "OutputModel",
      "state": {
       "layout": "IPY_MODEL_f301248ac3464781bff4be57a84dfad1",
       "outputs": [
        {
         "data": {
          "text/html": "\n<a class=\"twitter-timeline\" data-chrome=\"\"\ndata-link-color=\"#ffcc00\" data-theme=\"dark\"\nheight=\"500\" width=\"500\"\nhref=\"https://twitter.com/defenseurdroits\"></a>\n<script async src=\"//platform.twitter.com/widgets.js\" charset=\"utf-8\"></script>\n",
          "text/plain": "<IPython.core.display.HTML object>"
         },
         "metadata": {},
         "output_type": "display_data"
        }
       ]
      }
     },
     "179ea974ccac4f52a827679af72c0385": {
      "model_module": "@jupyter-widgets/base",
      "model_module_version": "2.0.0",
      "model_name": "LayoutModel",
      "state": {
       "border_bottom": "1px solid black",
       "border_left": "1px solid black",
       "border_right": "1px solid black",
       "border_top": "1px solid black"
      }
     },
     "195baf408ebf489e8962ff1c311155a5": {
      "model_module": "@jupyter-widgets/output",
      "model_module_version": "1.0.0",
      "model_name": "OutputModel",
      "state": {
       "layout": "IPY_MODEL_9b1d51c7cc0645c981c6e5bb0b020c36"
      }
     },
     "199920adcb754b348d4775c3e6c55157": {
      "model_module": "@jupyter-widgets/base",
      "model_module_version": "2.0.0",
      "model_name": "LayoutModel",
      "state": {}
     },
     "1a54106b6f8f410cb799b7b3c2b01e15": {
      "model_module": "@jupyter-widgets/controls",
      "model_module_version": "2.0.0",
      "model_name": "HTMLModel",
      "state": {
       "layout": "IPY_MODEL_ef67e1ce4be74b62a5137385803f06a0",
       "style": "IPY_MODEL_339a2593a0f548a4a3eb373f9faf9819",
       "value": "CSM"
      }
     },
     "1b82acd182374912aa6ba51aa249657b": {
      "model_module": "@jupyter-widgets/controls",
      "model_module_version": "2.0.0",
      "model_name": "HTMLStyleModel",
      "state": {
       "description_width": "",
       "font_size": null,
       "text_color": null
      }
     },
     "1bf5b99b1c7347aa89c386928bbafb68": {
      "model_module": "@jupyter-widgets/controls",
      "model_module_version": "2.0.0",
      "model_name": "HTMLStyleModel",
      "state": {
       "description_width": "",
       "font_size": null,
       "text_color": null
      }
     },
     "1c11a10750a04cf5834427c35ee06d1d": {
      "model_module": "@jupyter-widgets/controls",
      "model_module_version": "2.0.0",
      "model_name": "VBoxModel",
      "state": {
       "children": [
        "IPY_MODEL_f8c2d17306be4922a2adab4abcccdf4c",
        "IPY_MODEL_0fd29046cb2c43049e5f801153833ca3"
       ],
       "layout": "IPY_MODEL_3417dc7375e2454db2edbd793818c7d3"
      }
     },
     "1e31011a67864db6a4978fe2a5256215": {
      "model_module": "@jupyter-widgets/controls",
      "model_module_version": "2.0.0",
      "model_name": "ButtonModel",
      "state": {
       "button_style": "warning",
       "description": "Sénat",
       "layout": "IPY_MODEL_ca72d5567cde41edb92e0494504f01c4",
       "style": "IPY_MODEL_e9cb2053e0f94f2790b16517577ccf13",
       "tooltip": null
      }
     },
     "1e832477d2c24173b40180d6c6b7b49c": {
      "model_module": "@jupyter-widgets/controls",
      "model_module_version": "2.0.0",
      "model_name": "HTMLModel",
      "state": {
       "layout": "IPY_MODEL_073a1c88e13348f3ac55d557b47703b4",
       "style": "IPY_MODEL_a3238e0b601b45ea91dfd6d9ef75085a",
       "value": "<html><div style='color:white'>None</div></html>"
      }
     },
     "202c2bb5f786422e878ff614a87fdf9b": {
      "model_module": "@jupyter-widgets/controls",
      "model_module_version": "2.0.0",
      "model_name": "ButtonModel",
      "state": {
       "button_style": "warning",
       "description": "Défenseur des droits",
       "layout": "IPY_MODEL_ca72d5567cde41edb92e0494504f01c4",
       "style": "IPY_MODEL_8338aef3bdb44b79a08aab88d17dbfad",
       "tooltip": null
      }
     },
     "20b6f24b854745339fa2d4c98c8f2817": {
      "model_module": "@jupyter-widgets/base",
      "model_module_version": "2.0.0",
      "model_name": "LayoutModel",
      "state": {}
     },
     "23e0ae0136054970b30ea902cf4e195f": {
      "model_module": "@jupyter-widgets/controls",
      "model_module_version": "2.0.0",
      "model_name": "HTMLModel",
      "state": {
       "layout": "IPY_MODEL_a61f8bbf67914e6eb78bc2686f389b7b",
       "style": "IPY_MODEL_01411ad8ff284a4f95ce1ec6317bf74a",
       "value": "<html><div style='color:white'>None</div></html>"
      }
     },
     "298647ddca5145cda735412bec67c395": {
      "model_module": "@jupyter-widgets/controls",
      "model_module_version": "2.0.0",
      "model_name": "HTMLStyleModel",
      "state": {
       "description_width": "",
       "font_size": null,
       "text_color": null
      }
     },
     "29f7c9d1c20e4d4b9d6441f9b2fbc230": {
      "model_module": "jupyter-leaflet",
      "model_module_version": "^0.17",
      "model_name": "LeafletMarkerModel",
      "state": {
       "_model_module_version": "^0.17",
       "_view_module_version": "^0.17",
       "location": [
        40,
        0
       ],
       "options": [
        "alt",
        "draggable",
        "keyboard",
        "rise_offset",
        "rise_on_hover",
        "rotation_angle",
        "rotation_origin",
        "title",
        "z_index_offset"
       ],
       "popup": "IPY_MODEL_10edb24b870946cb8cbbe747c3cd2231",
       "title": "title1"
      }
     },
     "2a1cf93c6ef5406e9514755cd3c65280": {
      "model_module": "@jupyter-widgets/controls",
      "model_module_version": "2.0.0",
      "model_name": "HTMLModel",
      "state": {
       "layout": "IPY_MODEL_f950098314c64d4bb15cf7c35dfab6e8",
       "style": "IPY_MODEL_8487540192344a3d9f9c9f5e31f04ffa",
       "value": "Sénat"
      }
     },
     "2bfbbf84646b4a4e875fde6b998aa725": {
      "model_module": "@jupyter-widgets/base",
      "model_module_version": "2.0.0",
      "model_name": "LayoutModel",
      "state": {}
     },
     "2cbeb49d9352402099d9a4c651b0a1da": {
      "model_module": "jupyter-leaflet",
      "model_module_version": "^0.17",
      "model_name": "LeafletMarkerModel",
      "state": {
       "_model_module_version": "^0.17",
       "_view_module_version": "^0.17",
       "location": [
        -20,
        40
       ],
       "options": [
        "alt",
        "draggable",
        "keyboard",
        "rise_offset",
        "rise_on_hover",
        "rotation_angle",
        "rotation_origin",
        "title",
        "z_index_offset"
       ],
       "popup": "IPY_MODEL_c53455ab2dd1404289b77ad2b30445f4"
      }
     },
     "2dfa8302763b4ac6a91a1422c7f0c7d6": {
      "model_module": "jupyter-leaflet",
      "model_module_version": "^0.17",
      "model_name": "LeafletWidgetControlModel",
      "state": {
       "_model_module": "jupyter-leaflet",
       "_model_module_version": "^0.17",
       "_view_count": null,
       "_view_module": "jupyter-leaflet",
       "_view_module_version": "^0.17",
       "options": [
        "position",
        "transparent_bg"
       ],
       "position": "topright",
       "widget": "IPY_MODEL_fd8c35adec5545df93f056f30150facd"
      }
     },
     "2fceb691770748289cc0948b480c4f3a": {
      "model_module": "jupyter-leaflet",
      "model_module_version": "^0.17",
      "model_name": "LeafletPopupModel",
      "state": {
       "_model_module_version": "^0.17",
       "_view_module_version": "^0.17",
       "auto_close": false,
       "auto_pan": true,
       "auto_pan_padding": [
        5,
        5
       ],
       "auto_pan_padding_bottom_right": null,
       "auto_pan_padding_top_left": null,
       "child": "IPY_MODEL_7d33896ca566495dba18d5732ebfad62",
       "close_button": false,
       "close_on_escape_key": false,
       "keep_in_view": false,
       "location": [
        25,
        -80
       ],
       "min_width": 400,
       "options": [
        "auto_close",
        "auto_pan",
        "auto_pan_padding",
        "auto_pan_padding_bottom_right",
        "auto_pan_padding_top_left",
        "close_button",
        "close_on_escape_key",
        "keep_in_view",
        "max_height",
        "max_width",
        "min_width"
       ]
      }
     },
     "3350ed54e81c4230abc168d756b58836": {
      "model_module": "@jupyter-widgets/controls",
      "model_module_version": "2.0.0",
      "model_name": "VBoxModel",
      "state": {
       "children": [
        "IPY_MODEL_07b17a5378af4c66bb0238484d55adb9",
        "IPY_MODEL_a75f1bfb24b74d11a5f34d9f94d048f9"
       ],
       "layout": "IPY_MODEL_60aca153b30c414b991808d9420fa966"
      }
     },
     "3371aaf5ffd541d09c8e01b7379a8838": {
      "model_module": "@jupyter-widgets/base",
      "model_module_version": "2.0.0",
      "model_name": "LayoutModel",
      "state": {}
     },
     "338c839d2f724230a95f9154248df580": {
      "model_module": "jupyter-leaflet",
      "model_module_version": "^0.17",
      "model_name": "LeafletAttributionControlModel",
      "state": {
       "_model_module_version": "^0.17",
       "_view_module_version": "^0.17",
       "options": [
        "position",
        "prefix"
       ],
       "position": "bottomright",
       "prefix": "ipyleaflet"
      }
     },
     "339a2593a0f548a4a3eb373f9faf9819": {
      "model_module": "@jupyter-widgets/controls",
      "model_module_version": "2.0.0",
      "model_name": "HTMLStyleModel",
      "state": {
       "description_width": "",
       "font_size": null,
       "text_color": null
      }
     },
     "3417dc7375e2454db2edbd793818c7d3": {
      "model_module": "@jupyter-widgets/base",
      "model_module_version": "2.0.0",
      "model_name": "LayoutModel",
      "state": {}
     },
     "3509856a8bd34175bfc63d77825c6399": {
      "model_module": "@jupyter-widgets/base",
      "model_module_version": "2.0.0",
      "model_name": "LayoutModel",
      "state": {}
     },
     "354660079589435f80c13d5974152a84": {
      "model_module": "jupyter-leaflet",
      "model_module_version": "^0.17",
      "model_name": "LeafletZoomControlModel",
      "state": {
       "_model_module_version": "^0.17",
       "_view_module_version": "^0.17",
       "options": [
        "position",
        "zoom_in_text",
        "zoom_in_title",
        "zoom_out_text",
        "zoom_out_title"
       ]
      }
     },
     "381c4509014345c4adb77f680096ef0d": {
      "model_module": "@jupyter-widgets/controls",
      "model_module_version": "2.0.0",
      "model_name": "HTMLModel",
      "state": {
       "layout": "IPY_MODEL_d5598f64b0f34b42a72d72d2f52a72f6",
       "style": "IPY_MODEL_ec68933c5eb84e1b9711a54daf22d1c8",
       "value": "<html><div style='color:white'>None</div></html>"
      }
     },
     "393a274d9c344c83b8cd99ae2de809ff": {
      "model_module": "@jupyter-widgets/controls",
      "model_module_version": "2.0.0",
      "model_name": "HTMLStyleModel",
      "state": {
       "description_width": "",
       "font_size": null,
       "text_color": null
      }
     },
     "3c20311000d0496b982b828880cf0951": {
      "model_module": "@jupyter-widgets/controls",
      "model_module_version": "2.0.0",
      "model_name": "ButtonStyleModel",
      "state": {
       "font_family": null,
       "font_size": null,
       "font_style": null,
       "font_variant": null,
       "font_weight": null,
       "text_color": null,
       "text_decoration": null
      }
     },
     "3c502abe05b0428294ecffec2f44ab67": {
      "model_module": "@jupyter-widgets/output",
      "model_module_version": "1.0.0",
      "model_name": "OutputModel",
      "state": {
       "layout": "IPY_MODEL_09ef84885cd1473fa426d60f806b2a39"
      }
     },
     "3d349167bc224e5aa4b9539af9f93875": {
      "model_module": "@jupyter-widgets/controls",
      "model_module_version": "2.0.0",
      "model_name": "HTMLModel",
      "state": {
       "layout": "IPY_MODEL_a2fa7e926a1e40d0a6e3dff05d1599fa",
       "style": "IPY_MODEL_ea68a8a345cb451aa849574e7f4276ef"
      }
     },
     "3f2f4237414a43498e48531b4cab36cd": {
      "model_module": "@jupyter-widgets/base",
      "model_module_version": "2.0.0",
      "model_name": "LayoutModel",
      "state": {}
     },
     "40053ca4bd304eff81b96c400d43c4b4": {
      "model_module": "@jupyter-widgets/controls",
      "model_module_version": "2.0.0",
      "model_name": "HTMLModel",
      "state": {
       "layout": "IPY_MODEL_880810a7c04a4ceb94f125d782e76aba",
       "style": "IPY_MODEL_fc9da6a4fb5941288033df829dc13f4d"
      }
     },
     "415e7ef1d9f2445793b2e45c18f0f845": {
      "model_module": "@jupyter-widgets/controls",
      "model_module_version": "2.0.0",
      "model_name": "HTMLStyleModel",
      "state": {
       "description_width": "",
       "font_size": null,
       "text_color": null
      }
     },
     "4194e54d140044a0bf0f71f3448c097e": {
      "model_module": "@jupyter-widgets/base",
      "model_module_version": "2.0.0",
      "model_name": "LayoutModel",
      "state": {
       "border_bottom": "1px solid black",
       "border_left": "1px solid black",
       "border_right": "1px solid black",
       "border_top": "1px solid black"
      }
     },
     "42fd50e7bc9841b99c04edc2fdddf0d2": {
      "model_module": "jupyter-leaflet",
      "model_module_version": "^0.17",
      "model_name": "LeafletPopupModel",
      "state": {
       "_model_module_version": "^0.17",
       "_view_module_version": "^0.17",
       "auto_close": false,
       "auto_pan": true,
       "auto_pan_padding": [
        5,
        5
       ],
       "auto_pan_padding_bottom_right": null,
       "auto_pan_padding_top_left": null,
       "child": "IPY_MODEL_d87c4cc780434ca0beff3286f843c452",
       "close_button": false,
       "close_on_escape_key": false,
       "keep_in_view": false,
       "location": [
        -35,
        -80
       ],
       "min_width": 400,
       "options": [
        "auto_close",
        "auto_pan",
        "auto_pan_padding",
        "auto_pan_padding_bottom_right",
        "auto_pan_padding_top_left",
        "close_button",
        "close_on_escape_key",
        "keep_in_view",
        "max_height",
        "max_width",
        "min_width"
       ]
      }
     },
     "44ed824b1d5544c393e44e396cae2f5a": {
      "model_module": "@jupyter-widgets/base",
      "model_module_version": "2.0.0",
      "model_name": "LayoutModel",
      "state": {}
     },
     "4718336dc0ac48b291c799a85d2b7d9f": {
      "model_module": "jupyter-leaflet",
      "model_module_version": "^0.17",
      "model_name": "LeafletMarkerModel",
      "state": {
       "_model_module_version": "^0.17",
       "_view_module_version": "^0.17",
       "location": [
        40,
        -40
       ],
       "options": [
        "alt",
        "draggable",
        "keyboard",
        "rise_offset",
        "rise_on_hover",
        "rotation_angle",
        "rotation_origin",
        "title",
        "z_index_offset"
       ],
       "popup": "IPY_MODEL_72836e0190634d51bf5c64d5b7093257",
       "title": "title2"
      }
     },
     "4757f6c5def84eaba9b7dc9c0e58afb2": {
      "model_module": "@jupyter-widgets/base",
      "model_module_version": "2.0.0",
      "model_name": "LayoutModel",
      "state": {}
     },
     "4786d8eb57f34485b41284a0b3a22c35": {
      "model_module": "@jupyter-widgets/controls",
      "model_module_version": "2.0.0",
      "model_name": "HTMLStyleModel",
      "state": {
       "description_width": "",
       "font_size": null,
       "text_color": null
      }
     },
     "482f139b08e2429f9770cbd00a1dec55": {
      "model_module": "@jupyter-widgets/controls",
      "model_module_version": "2.0.0",
      "model_name": "HTMLModel",
      "state": {
       "layout": "IPY_MODEL_f8d782c24fa24c0dbce8b0ba6ae5830a",
       "style": "IPY_MODEL_6f5e2d45c81945f9b9b85e9b374a1548",
       "value": "<html><div style='color:white'>None</div></html>"
      }
     },
     "483b4b0fc6bc466db278849d6c08a5dc": {
      "model_module": "@jupyter-widgets/controls",
      "model_module_version": "2.0.0",
      "model_name": "HTMLModel",
      "state": {
       "layout": "IPY_MODEL_44ed824b1d5544c393e44e396cae2f5a",
       "style": "IPY_MODEL_1b82acd182374912aa6ba51aa249657b",
       "value": "<html><div style='color:white'>None</div></html>"
      }
     },
     "48527b50aba84027a0508b8742591b8a": {
      "model_module": "@jupyter-widgets/base",
      "model_module_version": "2.0.0",
      "model_name": "LayoutModel",
      "state": {
       "border_bottom": "4px solid black",
       "border_left": "4px solid black",
       "border_right": "4px solid black",
       "border_top": "4px solid black"
      }
     },
     "48c4583187904c73b7d8901af8773d71": {
      "model_module": "@jupyter-widgets/controls",
      "model_module_version": "2.0.0",
      "model_name": "HTMLModel",
      "state": {
       "layout": "IPY_MODEL_67801d4d734e4950861c8a0a2886929b",
       "style": "IPY_MODEL_fa82c2ddfb964f16b5a838ac41ec6d7e",
       "value": "<html><div style='color:white'>None</div></html>"
      }
     },
     "491b0c2380bc4c26a35db5cd8b868ca6": {
      "model_module": "jupyter-leaflet",
      "model_module_version": "^0.17",
      "model_name": "LeafletMarkerModel",
      "state": {
       "_model_module_version": "^0.17",
       "_view_module_version": "^0.17",
       "location": [
        40,
        -80
       ],
       "options": [
        "alt",
        "draggable",
        "keyboard",
        "rise_offset",
        "rise_on_hover",
        "rotation_angle",
        "rotation_origin",
        "title",
        "z_index_offset"
       ],
       "popup": "IPY_MODEL_07a29d9b35f1472b9cd59ddb8f1ca7d8",
       "title": "title2"
      }
     },
     "4a3e93a8f703487fa79d80f511736a71": {
      "model_module": "@jupyter-widgets/controls",
      "model_module_version": "2.0.0",
      "model_name": "ButtonStyleModel",
      "state": {
       "font_family": null,
       "font_size": null,
       "font_style": null,
       "font_variant": null,
       "font_weight": null,
       "text_color": null,
       "text_decoration": null
      }
     },
     "4b050e151067423db9abaf5cf76b1efa": {
      "model_module": "jupyter-leaflet",
      "model_module_version": "^0.17",
      "model_name": "LeafletMarkerModel",
      "state": {
       "_model_module_version": "^0.17",
       "_view_module_version": "^0.17",
       "location": [
        -20,
        80
       ],
       "options": [
        "alt",
        "draggable",
        "keyboard",
        "rise_offset",
        "rise_on_hover",
        "rotation_angle",
        "rotation_origin",
        "title",
        "z_index_offset"
       ],
       "popup": "IPY_MODEL_e6449ff8b5a046fbb62cc3b20a2281ce"
      }
     },
     "5190cfc206df4b85b68e7e94d018e80d": {
      "model_module": "@jupyter-widgets/controls",
      "model_module_version": "2.0.0",
      "model_name": "ButtonModel",
      "state": {
       "button_style": "warning",
       "description": "Cour de cassation",
       "layout": "IPY_MODEL_ca72d5567cde41edb92e0494504f01c4",
       "style": "IPY_MODEL_64fc85c62fe74cffa9d22d7ebf925938",
       "tooltip": null
      }
     },
     "51a5d3420e7c4563b0b9d5fe1af5da1f": {
      "model_module": "jupyter-leaflet",
      "model_module_version": "^0.17",
      "model_name": "LeafletPopupModel",
      "state": {
       "_model_module_version": "^0.17",
       "_view_module_version": "^0.17",
       "auto_close": false,
       "auto_pan": true,
       "auto_pan_padding": [
        5,
        5
       ],
       "auto_pan_padding_bottom_right": null,
       "auto_pan_padding_top_left": null,
       "child": "IPY_MODEL_73e9885c8af04febbfe448e30b9dff66",
       "close_button": false,
       "close_on_escape_key": false,
       "keep_in_view": false,
       "location": [
        25,
        0
       ],
       "min_width": 400,
       "options": [
        "auto_close",
        "auto_pan",
        "auto_pan_padding",
        "auto_pan_padding_bottom_right",
        "auto_pan_padding_top_left",
        "close_button",
        "close_on_escape_key",
        "keep_in_view",
        "max_height",
        "max_width",
        "min_width"
       ]
      }
     },
     "51f3f11f48414579b398260e47e0a46b": {
      "model_module": "@jupyter-widgets/base",
      "model_module_version": "2.0.0",
      "model_name": "LayoutModel",
      "state": {
       "border_bottom": "4px solid black",
       "border_left": "4px solid black",
       "border_right": "4px solid black",
       "border_top": "4px solid black"
      }
     },
     "53738dd73b264f06ad31198b03eceb57": {
      "model_module": "@jupyter-widgets/base",
      "model_module_version": "2.0.0",
      "model_name": "LayoutModel",
      "state": {
       "border_bottom": "4px solid black",
       "border_left": "4px solid black",
       "border_right": "4px solid black",
       "border_top": "4px solid black"
      }
     },
     "538ed20b0302474d9f1971fb976c9f90": {
      "model_module": "@jupyter-widgets/output",
      "model_module_version": "1.0.0",
      "model_name": "OutputModel",
      "state": {
       "layout": "IPY_MODEL_7b933f3c259945538f3dd1610ae479f5"
      }
     },
     "53d2f087e72d4756817029b0c0c0433b": {
      "model_module": "jupyter-leaflet",
      "model_module_version": "^0.17",
      "model_name": "LeafletPopupModel",
      "state": {
       "_model_module_version": "^0.17",
       "_view_module_version": "^0.17",
       "auto_close": false,
       "auto_pan": true,
       "auto_pan_padding": [
        5,
        5
       ],
       "auto_pan_padding_bottom_right": null,
       "auto_pan_padding_top_left": null,
       "child": "IPY_MODEL_ee05ee906fb74fb2a85a7807983b9e62",
       "close_button": false,
       "close_on_escape_key": false,
       "keep_in_view": false,
       "location": [
        25,
        40
       ],
       "min_width": 400,
       "options": [
        "auto_close",
        "auto_pan",
        "auto_pan_padding",
        "auto_pan_padding_bottom_right",
        "auto_pan_padding_top_left",
        "close_button",
        "close_on_escape_key",
        "keep_in_view",
        "max_height",
        "max_width",
        "min_width"
       ]
      }
     },
     "54e8095fdf2946babd83ec5423b56746": {
      "model_module": "@jupyter-widgets/base",
      "model_module_version": "2.0.0",
      "model_name": "LayoutModel",
      "state": {
       "border_bottom": "1px solid black",
       "border_left": "1px solid black",
       "border_right": "1px solid black",
       "border_top": "1px solid black"
      }
     },
     "56a902556e8a47f1a168ff228d8253d5": {
      "model_module": "@jupyter-widgets/base",
      "model_module_version": "2.0.0",
      "model_name": "LayoutModel",
      "state": {
       "border_bottom": "1px solid black",
       "border_left": "1px solid black",
       "border_right": "1px solid black",
       "border_top": "1px solid black"
      }
     },
     "59826e4a5d2a4043b6be05473f69a881": {
      "model_module": "jupyter-leaflet",
      "model_module_version": "^0.17",
      "model_name": "LeafletMarkerModel",
      "state": {
       "_model_module_version": "^0.17",
       "_view_module_version": "^0.17",
       "location": [
        40,
        40
       ],
       "options": [
        "alt",
        "draggable",
        "keyboard",
        "rise_offset",
        "rise_on_hover",
        "rotation_angle",
        "rotation_origin",
        "title",
        "z_index_offset"
       ],
       "popup": "IPY_MODEL_05d91a0979004c06a81a38579b19d23b",
       "title": "title2"
      }
     },
     "5b07183a9d63439f8c9d598767d6abce": {
      "model_module": "jupyter-leaflet",
      "model_module_version": "^0.17",
      "model_name": "LeafletMapStyleModel",
      "state": {
       "_model_module_version": "^0.17"
      }
     },
     "5bc69046107d4d9c9c4a27eccf34df54": {
      "model_module": "@jupyter-widgets/output",
      "model_module_version": "1.0.0",
      "model_name": "OutputModel",
      "state": {
       "layout": "IPY_MODEL_4194e54d140044a0bf0f71f3448c097e"
      }
     },
     "5bfa184402344fd19869296859c014af": {
      "model_module": "@jupyter-widgets/base",
      "model_module_version": "2.0.0",
      "model_name": "LayoutModel",
      "state": {}
     },
     "5cf4ffb1efe64c41baf3a12ef374365e": {
      "model_module": "@jupyter-widgets/controls",
      "model_module_version": "2.0.0",
      "model_name": "ButtonModel",
      "state": {
       "button_style": "warning",
       "description": "Conseil constitutionnel",
       "layout": "IPY_MODEL_ca72d5567cde41edb92e0494504f01c4",
       "style": "IPY_MODEL_4a3e93a8f703487fa79d80f511736a71",
       "tooltip": null
      }
     },
     "5eb89d6ae5904457887ad9949bdf6e84": {
      "model_module": "@jupyter-widgets/controls",
      "model_module_version": "2.0.0",
      "model_name": "HTMLModel",
      "state": {
       "layout": "IPY_MODEL_0023de9fc5364b1db977edebe4c56ef6",
       "style": "IPY_MODEL_415e7ef1d9f2445793b2e45c18f0f845",
       "value": "<html><div style='color:white'>None</div></html>"
      }
     },
     "5ef4998f71ac4006bd4eb0c7ed8e470a": {
      "model_module": "jupyter-leaflet",
      "model_module_version": "^0.17",
      "model_name": "LeafletPopupModel",
      "state": {
       "_model_module_version": "^0.17",
       "_view_module_version": "^0.17",
       "auto_close": false,
       "auto_pan": true,
       "auto_pan_padding": [
        5,
        5
       ],
       "auto_pan_padding_bottom_right": null,
       "auto_pan_padding_top_left": null,
       "child": "IPY_MODEL_3350ed54e81c4230abc168d756b58836",
       "close_button": false,
       "close_on_escape_key": false,
       "keep_in_view": false,
       "location": [
        -35,
        40
       ],
       "min_width": 400,
       "options": [
        "auto_close",
        "auto_pan",
        "auto_pan_padding",
        "auto_pan_padding_bottom_right",
        "auto_pan_padding_top_left",
        "close_button",
        "close_on_escape_key",
        "keep_in_view",
        "max_height",
        "max_width",
        "min_width"
       ]
      }
     },
     "60aca153b30c414b991808d9420fa966": {
      "model_module": "@jupyter-widgets/base",
      "model_module_version": "2.0.0",
      "model_name": "LayoutModel",
      "state": {}
     },
     "615ae1ab54cf4851b397d9df443d1ffd": {
      "model_module": "@jupyter-widgets/output",
      "model_module_version": "1.0.0",
      "model_name": "OutputModel",
      "state": {
       "layout": "IPY_MODEL_751c96dd5d72455c844d0bdd6d83b4e5"
      }
     },
     "62d72aa760f44600a2dff6dff16f8461": {
      "model_module": "@jupyter-widgets/output",
      "model_module_version": "1.0.0",
      "model_name": "OutputModel",
      "state": {
       "layout": "IPY_MODEL_910de5e2deae457ab8d15d6b3ec6ddf4"
      }
     },
     "64b151a4f58f48309eca118d80495685": {
      "model_module": "@jupyter-widgets/output",
      "model_module_version": "1.0.0",
      "model_name": "OutputModel",
      "state": {
       "layout": "IPY_MODEL_017b783fc0af46e18408e38845156821"
      }
     },
     "64fc85c62fe74cffa9d22d7ebf925938": {
      "model_module": "@jupyter-widgets/controls",
      "model_module_version": "2.0.0",
      "model_name": "ButtonStyleModel",
      "state": {
       "font_family": null,
       "font_size": null,
       "font_style": null,
       "font_variant": null,
       "font_weight": null,
       "text_color": null,
       "text_decoration": null
      }
     },
     "664fd65274ec4fbbba0e41603eb355d0": {
      "model_module": "@jupyter-widgets/output",
      "model_module_version": "1.0.0",
      "model_name": "OutputModel",
      "state": {
       "layout": "IPY_MODEL_89e851feb9284a2293f81faadc622526",
       "outputs": [
        {
         "data": {
          "text/html": "\n<a class=\"twitter-timeline\" data-chrome=\"\"\ndata-link-color=\"#ffcc00\" data-theme=\"dark\"\nheight=\"500\" width=\"500\"\nhref=\"https://twitter.com/AssembleeNat\"></a>\n<script async src=\"//platform.twitter.com/widgets.js\" charset=\"utf-8\"></script>\n",
          "text/plain": "<IPython.core.display.HTML object>"
         },
         "metadata": {},
         "output_type": "display_data"
        }
       ]
      }
     },
     "66c5fb9fb18c47118c16edb9ff8e6aaa": {
      "model_module": "@jupyter-widgets/base",
      "model_module_version": "2.0.0",
      "model_name": "LayoutModel",
      "state": {}
     },
     "67801d4d734e4950861c8a0a2886929b": {
      "model_module": "@jupyter-widgets/base",
      "model_module_version": "2.0.0",
      "model_name": "LayoutModel",
      "state": {}
     },
     "6a170e3c26654130a21f9a03798dca6c": {
      "model_module": "@jupyter-widgets/output",
      "model_module_version": "1.0.0",
      "model_name": "OutputModel",
      "state": {
       "layout": "IPY_MODEL_51f3f11f48414579b398260e47e0a46b",
       "outputs": [
        {
         "data": {
          "text/html": "\n<a class=\"twitter-timeline\" data-chrome=\"\"\ndata-link-color=\"#ffcc00\" data-theme=\"dark\"\nheight=\"500\" width=\"500\"\nhref=\"https://twitter.com/conseil_constit\"></a>\n<script async src=\"//platform.twitter.com/widgets.js\" charset=\"utf-8\"></script>\n",
          "text/plain": "<IPython.core.display.HTML object>"
         },
         "metadata": {},
         "output_type": "display_data"
        }
       ]
      }
     },
     "6aafc311acdf4718b4d77504ad1f329a": {
      "model_module": "@jupyter-widgets/output",
      "model_module_version": "1.0.0",
      "model_name": "OutputModel",
      "state": {
       "layout": "IPY_MODEL_715a944a68804d929b35244fcde9c326"
      }
     },
     "6b6099ef16b5451d9f2dc2da631ad7a5": {
      "model_module": "@jupyter-widgets/controls",
      "model_module_version": "2.0.0",
      "model_name": "HTMLModel",
      "state": {
       "layout": "IPY_MODEL_ec84968833e04cf3857d63242ff9032a",
       "style": "IPY_MODEL_06e4582c5e294fd3ae1232141391a1ff",
       "value": "<html><div style='color:white'>None</div></html>"
      }
     },
     "6b77d4d9711747ab9cc31ece768e709f": {
      "model_module": "@jupyter-widgets/base",
      "model_module_version": "2.0.0",
      "model_name": "LayoutModel",
      "state": {}
     },
     "6c035554278547f9bf712cb3b9f66cd7": {
      "model_module": "@jupyter-widgets/controls",
      "model_module_version": "2.0.0",
      "model_name": "HTMLStyleModel",
      "state": {
       "description_width": "",
       "font_size": null,
       "text_color": null
      }
     },
     "6c6650f0b6e1458fa8fbb72d49e786db": {
      "model_module": "@jupyter-widgets/output",
      "model_module_version": "1.0.0",
      "model_name": "OutputModel",
      "state": {
       "layout": "IPY_MODEL_9e60ac96ede8487aaf556e573c9c054f"
      }
     },
     "6c866dc7d10f474ea33bf8d09887d04c": {
      "model_module": "@jupyter-widgets/output",
      "model_module_version": "1.0.0",
      "model_name": "OutputModel",
      "state": {
       "layout": "IPY_MODEL_bb237dd6217c423ab1d7eefde94eacea"
      }
     },
     "6f5e2d45c81945f9b9b85e9b374a1548": {
      "model_module": "@jupyter-widgets/controls",
      "model_module_version": "2.0.0",
      "model_name": "HTMLStyleModel",
      "state": {
       "description_width": "",
       "font_size": null,
       "text_color": null
      }
     },
     "6ffeed0fcb35461ab043b15bc604446a": {
      "model_module": "@jupyter-widgets/base",
      "model_module_version": "2.0.0",
      "model_name": "LayoutModel",
      "state": {}
     },
     "71358330f25941588253366fba673a2f": {
      "model_module": "@jupyter-widgets/controls",
      "model_module_version": "2.0.0",
      "model_name": "ButtonStyleModel",
      "state": {
       "font_family": null,
       "font_size": null,
       "font_style": null,
       "font_variant": null,
       "font_weight": null,
       "text_color": null,
       "text_decoration": null
      }
     },
     "715a944a68804d929b35244fcde9c326": {
      "model_module": "@jupyter-widgets/base",
      "model_module_version": "2.0.0",
      "model_name": "LayoutModel",
      "state": {
       "border_bottom": "4px solid black",
       "border_left": "4px solid black",
       "border_right": "4px solid black",
       "border_top": "4px solid black"
      }
     },
     "72836e0190634d51bf5c64d5b7093257": {
      "model_module": "@jupyter-widgets/controls",
      "model_module_version": "2.0.0",
      "model_name": "HTMLModel",
      "state": {
       "layout": "IPY_MODEL_199920adcb754b348d4775c3e6c55157",
       "style": "IPY_MODEL_e68aacecd1854c96bd80131925327a08",
       "value": "pop_inter7"
      }
     },
     "73e9885c8af04febbfe448e30b9dff66": {
      "model_module": "@jupyter-widgets/controls",
      "model_module_version": "2.0.0",
      "model_name": "VBoxModel",
      "state": {
       "children": [
        "IPY_MODEL_96be4152bf734e8d81caada7a82cb1f2",
        "IPY_MODEL_3c502abe05b0428294ecffec2f44ab67"
       ],
       "layout": "IPY_MODEL_998f992a6b114fe5b59be1b55dc17499"
      }
     },
     "751c96dd5d72455c844d0bdd6d83b4e5": {
      "model_module": "@jupyter-widgets/base",
      "model_module_version": "2.0.0",
      "model_name": "LayoutModel",
      "state": {
       "border_bottom": "1px solid black",
       "border_left": "1px solid black",
       "border_right": "1px solid black",
       "border_top": "1px solid black"
      }
     },
     "768f8a22243e4b41bc65752219005f9d": {
      "model_module": "@jupyter-widgets/base",
      "model_module_version": "2.0.0",
      "model_name": "LayoutModel",
      "state": {
       "border_bottom": "1px solid black",
       "border_left": "1px solid black",
       "border_right": "1px solid black",
       "border_top": "1px solid black"
      }
     },
     "77d60aca35ac48bf9c08c219690ba243": {
      "model_module": "@jupyter-widgets/controls",
      "model_module_version": "2.0.0",
      "model_name": "HTMLModel",
      "state": {
       "layout": "IPY_MODEL_4757f6c5def84eaba9b7dc9c0e58afb2",
       "style": "IPY_MODEL_be43e299d94742b288ba88b7b02c52ca",
       "value": "<html><div style='color:white'>None</div></html>"
      }
     },
     "7b933f3c259945538f3dd1610ae479f5": {
      "model_module": "@jupyter-widgets/base",
      "model_module_version": "2.0.0",
      "model_name": "LayoutModel",
      "state": {
       "border_bottom": "1px solid black",
       "border_left": "1px solid black",
       "border_right": "1px solid black",
       "border_top": "1px solid black"
      }
     },
     "7d33896ca566495dba18d5732ebfad62": {
      "model_module": "@jupyter-widgets/controls",
      "model_module_version": "2.0.0",
      "model_name": "VBoxModel",
      "state": {
       "children": [
        "IPY_MODEL_161d849d6ebc4006a191534a5d16017f",
        "IPY_MODEL_17122da00c294a0b9fb2fce70b1f5633"
       ],
       "layout": "IPY_MODEL_2bfbbf84646b4a4e875fde6b998aa725"
      }
     },
     "808c81c1197e4c8aa24227bc4f4ed3f7": {
      "model_module": "@jupyter-widgets/controls",
      "model_module_version": "2.0.0",
      "model_name": "ButtonModel",
      "state": {
       "button_style": "warning",
       "description": "Conseil d'État",
       "layout": "IPY_MODEL_ca72d5567cde41edb92e0494504f01c4",
       "style": "IPY_MODEL_82997e17c86a4dfc8df17524208ca8a0",
       "tooltip": null
      }
     },
     "82997e17c86a4dfc8df17524208ca8a0": {
      "model_module": "@jupyter-widgets/controls",
      "model_module_version": "2.0.0",
      "model_name": "ButtonStyleModel",
      "state": {
       "font_family": null,
       "font_size": null,
       "font_style": null,
       "font_variant": null,
       "font_weight": null,
       "text_color": null,
       "text_decoration": null
      }
     },
     "8338aef3bdb44b79a08aab88d17dbfad": {
      "model_module": "@jupyter-widgets/controls",
      "model_module_version": "2.0.0",
      "model_name": "ButtonStyleModel",
      "state": {
       "font_family": null,
       "font_size": null,
       "font_style": null,
       "font_variant": null,
       "font_weight": null,
       "text_color": null,
       "text_decoration": null
      }
     },
     "84704b8931cc4c899dde55b39a892c93": {
      "model_module": "@jupyter-widgets/controls",
      "model_module_version": "2.0.0",
      "model_name": "ButtonModel",
      "state": {
       "button_style": "warning",
       "description": "Assemblée nationale",
       "layout": "IPY_MODEL_ca72d5567cde41edb92e0494504f01c4",
       "style": "IPY_MODEL_3c20311000d0496b982b828880cf0951",
       "tooltip": null
      }
     },
     "847a53b1cd0f4380be11bcbbfccafaa5": {
      "model_module": "@jupyter-widgets/controls",
      "model_module_version": "2.0.0",
      "model_name": "HTMLModel",
      "state": {
       "layout": "IPY_MODEL_ea540aa53978481f88a635cf331a7e1b",
       "style": "IPY_MODEL_ae8d3ab836d0474fbf35c3b057e47484",
       "value": "<html><div style='color:white'>None</div></html>"
      }
     },
     "8487540192344a3d9f9c9f5e31f04ffa": {
      "model_module": "@jupyter-widgets/controls",
      "model_module_version": "2.0.0",
      "model_name": "HTMLStyleModel",
      "state": {
       "description_width": "",
       "font_size": null,
       "text_color": null
      }
     },
     "84f170baea2642c48a55fe86c7716d29": {
      "model_module": "@jupyter-widgets/base",
      "model_module_version": "2.0.0",
      "model_name": "LayoutModel",
      "state": {
       "border_bottom": "4px solid black",
       "border_left": "4px solid black",
       "border_right": "4px solid black",
       "border_top": "4px solid black"
      }
     },
     "880810a7c04a4ceb94f125d782e76aba": {
      "model_module": "@jupyter-widgets/base",
      "model_module_version": "2.0.0",
      "model_name": "LayoutModel",
      "state": {}
     },
     "89e851feb9284a2293f81faadc622526": {
      "model_module": "@jupyter-widgets/base",
      "model_module_version": "2.0.0",
      "model_name": "LayoutModel",
      "state": {
       "border_bottom": "4px solid black",
       "border_left": "4px solid black",
       "border_right": "4px solid black",
       "border_top": "4px solid black"
      }
     },
     "8aa32f9fe0c64017b14a5631f49ead08": {
      "model_module": "@jupyter-widgets/base",
      "model_module_version": "2.0.0",
      "model_name": "LayoutModel",
      "state": {}
     },
     "8c26b470b7c243c18ec1642cec0662da": {
      "model_module": "@jupyter-widgets/controls",
      "model_module_version": "2.0.0",
      "model_name": "ButtonModel",
      "state": {
       "button_style": "warning",
       "description": "Cour des comptes",
       "layout": "IPY_MODEL_ca72d5567cde41edb92e0494504f01c4",
       "style": "IPY_MODEL_71358330f25941588253366fba673a2f",
       "tooltip": null
      }
     },
     "8f5fbac9d2ea4643a1cfeb20a47991a9": {
      "model_module": "@jupyter-widgets/output",
      "model_module_version": "1.0.0",
      "model_name": "OutputModel",
      "state": {
       "layout": "IPY_MODEL_bb2bbf6c9d7b4e13bccec3c0c1b8eab0"
      }
     },
     "904fa1aae38c4fdbb8fdb24b9b8be767": {
      "model_module": "@jupyter-widgets/controls",
      "model_module_version": "2.0.0",
      "model_name": "HTMLStyleModel",
      "state": {
       "description_width": "",
       "font_size": null,
       "text_color": null
      }
     },
     "910de5e2deae457ab8d15d6b3ec6ddf4": {
      "model_module": "@jupyter-widgets/base",
      "model_module_version": "2.0.0",
      "model_name": "LayoutModel",
      "state": {
       "border_bottom": "1px solid black",
       "border_left": "1px solid black",
       "border_right": "1px solid black",
       "border_top": "1px solid black"
      }
     },
     "9421d32459e3419d88bcb1c5e17085ec": {
      "model_module": "@jupyter-widgets/controls",
      "model_module_version": "2.0.0",
      "model_name": "HTMLStyleModel",
      "state": {
       "description_width": "",
       "font_size": null,
       "text_color": null
      }
     },
     "96be4152bf734e8d81caada7a82cb1f2": {
      "model_module": "@jupyter-widgets/controls",
      "model_module_version": "2.0.0",
      "model_name": "HTMLModel",
      "state": {
       "layout": "IPY_MODEL_5bfa184402344fd19869296859c014af",
       "style": "IPY_MODEL_6c035554278547f9bf712cb3b9f66cd7",
       "value": "Cour de cassation"
      }
     },
     "998f992a6b114fe5b59be1b55dc17499": {
      "model_module": "@jupyter-widgets/base",
      "model_module_version": "2.0.0",
      "model_name": "LayoutModel",
      "state": {}
     },
     "9b1d51c7cc0645c981c6e5bb0b020c36": {
      "model_module": "@jupyter-widgets/base",
      "model_module_version": "2.0.0",
      "model_name": "LayoutModel",
      "state": {
       "border_bottom": "1px solid black",
       "border_left": "1px solid black",
       "border_right": "1px solid black",
       "border_top": "1px solid black"
      }
     },
     "9e60ac96ede8487aaf556e573c9c054f": {
      "model_module": "@jupyter-widgets/base",
      "model_module_version": "2.0.0",
      "model_name": "LayoutModel",
      "state": {
       "border_bottom": "1px solid black",
       "border_left": "1px solid black",
       "border_right": "1px solid black",
       "border_top": "1px solid black"
      }
     },
     "9f3877af037e4e71a6355d583a22929c": {
      "model_module": "@jupyter-widgets/controls",
      "model_module_version": "2.0.0",
      "model_name": "HTMLStyleModel",
      "state": {
       "description_width": "",
       "font_size": null,
       "text_color": null
      }
     },
     "9f9fc3b2c69d46529cda98a58327542c": {
      "model_module": "jupyter-leaflet",
      "model_module_version": "^0.17",
      "model_name": "LeafletMarkerModel",
      "state": {
       "_model_module_version": "^0.17",
       "_view_module_version": "^0.17",
       "location": [
        -20,
        0
       ],
       "options": [
        "alt",
        "draggable",
        "keyboard",
        "rise_offset",
        "rise_on_hover",
        "rotation_angle",
        "rotation_origin",
        "title",
        "z_index_offset"
       ],
       "popup": "IPY_MODEL_abaf3c518c004ed39ef296494d78656c"
      }
     },
     "a00568e6e8344532951bffd4e07858f9": {
      "model_module": "jupyter-leaflet",
      "model_module_version": "^0.17",
      "model_name": "LeafletMarkerModel",
      "state": {
       "_model_module_version": "^0.17",
       "_view_module_version": "^0.17",
       "location": [
        -20,
        -80
       ],
       "options": [
        "alt",
        "draggable",
        "keyboard",
        "rise_offset",
        "rise_on_hover",
        "rotation_angle",
        "rotation_origin",
        "title",
        "z_index_offset"
       ],
       "popup": "IPY_MODEL_40053ca4bd304eff81b96c400d43c4b4"
      }
     },
     "a09b458a1d354ef18a1dd88e604f22e9": {
      "model_module": "@jupyter-widgets/base",
      "model_module_version": "2.0.0",
      "model_name": "LayoutModel",
      "state": {}
     },
     "a2fa7e926a1e40d0a6e3dff05d1599fa": {
      "model_module": "@jupyter-widgets/base",
      "model_module_version": "2.0.0",
      "model_name": "LayoutModel",
      "state": {}
     },
     "a3238e0b601b45ea91dfd6d9ef75085a": {
      "model_module": "@jupyter-widgets/controls",
      "model_module_version": "2.0.0",
      "model_name": "HTMLStyleModel",
      "state": {
       "description_width": "",
       "font_size": null,
       "text_color": null
      }
     },
     "a61f8bbf67914e6eb78bc2686f389b7b": {
      "model_module": "@jupyter-widgets/base",
      "model_module_version": "2.0.0",
      "model_name": "LayoutModel",
      "state": {}
     },
     "a75f1bfb24b74d11a5f34d9f94d048f9": {
      "model_module": "@jupyter-widgets/output",
      "model_module_version": "1.0.0",
      "model_name": "OutputModel",
      "state": {
       "layout": "IPY_MODEL_84f170baea2642c48a55fe86c7716d29",
       "outputs": [
        {
         "data": {
          "text/html": "\n<a class=\"twitter-timeline\" data-chrome=\"\"\ndata-link-color=\"#ffcc00\" data-theme=\"dark\"\nheight=\"500\" width=\"500\"\nhref=\"https://twitter.com/Conseil_Etat\"></a>\n<script async src=\"//platform.twitter.com/widgets.js\" charset=\"utf-8\"></script>\n",
          "text/plain": "<IPython.core.display.HTML object>"
         },
         "metadata": {},
         "output_type": "display_data"
        }
       ]
      }
     },
     "a95d2504247644aa8233e45c3605338f": {
      "model_module": "@jupyter-widgets/output",
      "model_module_version": "1.0.0",
      "model_name": "OutputModel",
      "state": {
       "layout": "IPY_MODEL_53738dd73b264f06ad31198b03eceb57",
       "outputs": [
        {
         "data": {
          "text/html": "\n<a class=\"twitter-timeline\" data-chrome=\"\"\ndata-link-color=\"#ffcc00\" data-theme=\"dark\"\nheight=\"500\" width=\"500\"\nhref=\"https://twitter.com/senat\"></a>\n<script async src=\"//platform.twitter.com/widgets.js\" charset=\"utf-8\"></script>\n",
          "text/plain": "<IPython.core.display.HTML object>"
         },
         "metadata": {},
         "output_type": "display_data"
        }
       ]
      }
     },
     "a9658d52300640a4bf7f7659416bff32": {
      "model_module": "jupyter-leaflet",
      "model_module_version": "^0.17",
      "model_name": "LeafletPopupModel",
      "state": {
       "_model_module_version": "^0.17",
       "_view_module_version": "^0.17",
       "auto_close": false,
       "auto_pan": true,
       "auto_pan_padding": [
        5,
        5
       ],
       "auto_pan_padding_bottom_right": null,
       "auto_pan_padding_top_left": null,
       "child": "IPY_MODEL_1c11a10750a04cf5834427c35ee06d1d",
       "close_button": false,
       "close_on_escape_key": false,
       "keep_in_view": false,
       "location": [
        25,
        -40
       ],
       "min_width": 400,
       "options": [
        "auto_close",
        "auto_pan",
        "auto_pan_padding",
        "auto_pan_padding_bottom_right",
        "auto_pan_padding_top_left",
        "close_button",
        "close_on_escape_key",
        "keep_in_view",
        "max_height",
        "max_width",
        "min_width"
       ]
      }
     },
     "abaf3c518c004ed39ef296494d78656c": {
      "model_module": "@jupyter-widgets/controls",
      "model_module_version": "2.0.0",
      "model_name": "HTMLModel",
      "state": {
       "layout": "IPY_MODEL_bc9126ba6f384e3ba79c14c940a83d68",
       "style": "IPY_MODEL_0c907cfbd99242fb851e42d0f2c90078"
      }
     },
     "ad76b931cb9d419ca3eca153d2d411a4": {
      "model_module": "@jupyter-widgets/base",
      "model_module_version": "2.0.0",
      "model_name": "LayoutModel",
      "state": {}
     },
     "adbf292e95524dc9b93ac54d6f4b24dc": {
      "model_module": "@jupyter-widgets/base",
      "model_module_version": "2.0.0",
      "model_name": "LayoutModel",
      "state": {}
     },
     "ae8d3ab836d0474fbf35c3b057e47484": {
      "model_module": "@jupyter-widgets/controls",
      "model_module_version": "2.0.0",
      "model_name": "HTMLStyleModel",
      "state": {
       "description_width": "",
       "font_size": null,
       "text_color": null
      }
     },
     "af2b873105c644cca41037b5cb34c1fd": {
      "model_module": "@jupyter-widgets/base",
      "model_module_version": "2.0.0",
      "model_name": "LayoutModel",
      "state": {}
     },
     "b051bc7bf9784633b3f1db54f4e4760b": {
      "model_module": "@jupyter-widgets/controls",
      "model_module_version": "2.0.0",
      "model_name": "ButtonModel",
      "state": {
       "button_style": "warning",
       "description": "C.Sup. magistrature",
       "layout": "IPY_MODEL_ca72d5567cde41edb92e0494504f01c4",
       "style": "IPY_MODEL_f4c97a5756dc4fd5b9b95974476c6bb5",
       "tooltip": null
      }
     },
     "b11877c3a2434b0caac698ce6fceea73": {
      "model_module": "@jupyter-widgets/controls",
      "model_module_version": "2.0.0",
      "model_name": "HTMLStyleModel",
      "state": {
       "description_width": "",
       "font_size": null,
       "text_color": null
      }
     },
     "b23b9ddedfff47d5b2413d3eced83238": {
      "model_module": "@jupyter-widgets/base",
      "model_module_version": "2.0.0",
      "model_name": "LayoutModel",
      "state": {}
     },
     "b5441097225144779eac9cbddeb4eddf": {
      "model_module": "@jupyter-widgets/controls",
      "model_module_version": "2.0.0",
      "model_name": "HTMLStyleModel",
      "state": {
       "description_width": "",
       "font_size": null,
       "text_color": null
      }
     },
     "b602f863ab0b4a7ab8c145ec8790e80c": {
      "model_module": "@jupyter-widgets/output",
      "model_module_version": "1.0.0",
      "model_name": "OutputModel",
      "state": {
       "layout": "IPY_MODEL_ec0303077d3149619eb30dfd6aee93f5"
      }
     },
     "b786a9ed24984bf38bc6d90f2c3fc15e": {
      "model_module": "@jupyter-widgets/controls",
      "model_module_version": "2.0.0",
      "model_name": "HTMLModel",
      "state": {
       "layout": "IPY_MODEL_3371aaf5ffd541d09c8e01b7379a8838",
       "style": "IPY_MODEL_1bf5b99b1c7347aa89c386928bbafb68",
       "value": "Conseil constitutionnel"
      }
     },
     "b7f53fb028334b51b62faabdc35d7b4e": {
      "model_module": "@jupyter-widgets/output",
      "model_module_version": "1.0.0",
      "model_name": "OutputModel",
      "state": {
       "layout": "IPY_MODEL_179ea974ccac4f52a827679af72c0385",
       "outputs": [
        {
         "data": {
          "application/vnd.jupyter.widget-view+json": {
           "model_id": "d541ab9f12554826bdd3344a7467a849",
           "version_major": 2,
           "version_minor": 0
          },
          "text/plain": "Map(center=[0.0, 0.0], close_popup_on_click=False, controls=(ZoomControl(options=['position', 'zoom_in_text', …"
         },
         "metadata": {},
         "output_type": "display_data"
        }
       ]
      }
     },
     "bb237dd6217c423ab1d7eefde94eacea": {
      "model_module": "@jupyter-widgets/base",
      "model_module_version": "2.0.0",
      "model_name": "LayoutModel",
      "state": {
       "border_bottom": "1px solid black",
       "border_left": "1px solid black",
       "border_right": "1px solid black",
       "border_top": "1px solid black"
      }
     },
     "bb2bbf6c9d7b4e13bccec3c0c1b8eab0": {
      "model_module": "@jupyter-widgets/base",
      "model_module_version": "2.0.0",
      "model_name": "LayoutModel",
      "state": {
       "border_bottom": "4px solid black",
       "border_left": "4px solid black",
       "border_right": "4px solid black",
       "border_top": "4px solid black"
      }
     },
     "bc9126ba6f384e3ba79c14c940a83d68": {
      "model_module": "@jupyter-widgets/base",
      "model_module_version": "2.0.0",
      "model_name": "LayoutModel",
      "state": {}
     },
     "be43e299d94742b288ba88b7b02c52ca": {
      "model_module": "@jupyter-widgets/controls",
      "model_module_version": "2.0.0",
      "model_name": "HTMLStyleModel",
      "state": {
       "description_width": "",
       "font_size": null,
       "text_color": null
      }
     },
     "c00494e026f24ece9734a3029e227b8d": {
      "model_module": "@jupyter-widgets/base",
      "model_module_version": "2.0.0",
      "model_name": "LayoutModel",
      "state": {
       "border_bottom": "4px solid black",
       "border_left": "4px solid black",
       "border_right": "4px solid black",
       "border_top": "4px solid black"
      }
     },
     "c142cc9de228487da5b4fb4c50729ac2": {
      "model_module": "@jupyter-widgets/base",
      "model_module_version": "2.0.0",
      "model_name": "LayoutModel",
      "state": {
       "border_bottom": "1px solid black",
       "border_left": "1px solid black",
       "border_right": "1px solid black",
       "border_top": "1px solid black"
      }
     },
     "c20cd843b352437984ddc30c380f39a4": {
      "model_module": "@jupyter-widgets/controls",
      "model_module_version": "2.0.0",
      "model_name": "ButtonModel",
      "state": {
       "button_style": "warning",
       "description": "CESE",
       "layout": "IPY_MODEL_ca72d5567cde41edb92e0494504f01c4",
       "style": "IPY_MODEL_f07bf9e4bc2646a7ad66a2ad1e331461",
       "tooltip": null
      }
     },
     "c4972b7f0e3048e8beca2d19ff74f972": {
      "model_module": "@jupyter-widgets/base",
      "model_module_version": "2.0.0",
      "model_name": "LayoutModel",
      "state": {}
     },
     "c53455ab2dd1404289b77ad2b30445f4": {
      "model_module": "@jupyter-widgets/controls",
      "model_module_version": "2.0.0",
      "model_name": "HTMLModel",
      "state": {
       "layout": "IPY_MODEL_66c5fb9fb18c47118c16edb9ff8e6aaa",
       "style": "IPY_MODEL_ee009ad121f648dd937229d6e4a54d2c"
      }
     },
     "c7a91db077a94abf8ca2e672f4dc1e20": {
      "model_module": "@jupyter-widgets/controls",
      "model_module_version": "2.0.0",
      "model_name": "HTMLModel",
      "state": {
       "layout": "IPY_MODEL_c4972b7f0e3048e8beca2d19ff74f972",
       "style": "IPY_MODEL_15418900e90a4add9a0db398a09c3a36",
       "value": "<html><div style='color:white'>None</div></html>"
      }
     },
     "c9c6a38c48c64441ad46f7e022f6c4d8": {
      "model_module": "@jupyter-widgets/controls",
      "model_module_version": "2.0.0",
      "model_name": "VBoxModel",
      "state": {
       "children": [
        "IPY_MODEL_1a54106b6f8f410cb799b7b3c2b01e15",
        "IPY_MODEL_6aafc311acdf4718b4d77504ad1f329a"
       ],
       "layout": "IPY_MODEL_3509856a8bd34175bfc63d77825c6399"
      }
     },
     "ca72d5567cde41edb92e0494504f01c4": {
      "model_module": "@jupyter-widgets/base",
      "model_module_version": "2.0.0",
      "model_name": "LayoutModel",
      "state": {
       "border_bottom": "2px solid #000000",
       "border_left": "2px solid #000000",
       "border_right": "2px solid #000000",
       "border_top": "2px solid #000000",
       "height": "auto",
       "max_width": "180px",
       "min_width": "180px",
       "width": "180px"
      }
     },
     "cc2ea2c409a0422db176441401c4da46": {
      "model_module": "@jupyter-widgets/base",
      "model_module_version": "2.0.0",
      "model_name": "LayoutModel",
      "state": {
       "border_bottom": "1px solid black",
       "border_left": "1px solid black",
       "border_right": "1px solid black",
       "border_top": "1px solid black"
      }
     },
     "ccfe619799b346aa833cd6a3307ee510": {
      "model_module": "@jupyter-widgets/base",
      "model_module_version": "2.0.0",
      "model_name": "LayoutModel",
      "state": {}
     },
     "d541ab9f12554826bdd3344a7467a849": {
      "model_module": "jupyter-leaflet",
      "model_module_version": "^0.17",
      "model_name": "LeafletMapModel",
      "state": {
       "_model_module_version": "^0.17",
       "_view_module_version": "^0.17",
       "bottom": 1340,
       "center": [
        -19.973348786110602,
        0
       ],
       "close_popup_on_click": false,
       "controls": [
        "IPY_MODEL_354660079589435f80c13d5974152a84",
        "IPY_MODEL_338c839d2f724230a95f9154248df580",
        "IPY_MODEL_2dfa8302763b4ac6a91a1422c7f0c7d6",
        "IPY_MODEL_f8129e8f29e84fbebc383e1789bd250a"
       ],
       "default_style": "IPY_MODEL_5b07183a9d63439f8c9d598767d6abce",
       "dragging_style": "IPY_MODEL_01c434ccdfbf438fbfd076f686cec705",
       "east": 100.01953125000001,
       "fullscreen": false,
       "interpolation": "bilinear",
       "layers": [
        "IPY_MODEL_0cc5bf18c71443798425f94264d84b96",
        "IPY_MODEL_9f9fc3b2c69d46529cda98a58327542c",
        "IPY_MODEL_df9a4221990b48c395cf7eb5234adc1d",
        "IPY_MODEL_a00568e6e8344532951bffd4e07858f9",
        "IPY_MODEL_2cbeb49d9352402099d9a4c651b0a1da",
        "IPY_MODEL_4b050e151067423db9abaf5cf76b1efa",
        "IPY_MODEL_29f7c9d1c20e4d4b9d6441f9b2fbc230",
        "IPY_MODEL_4718336dc0ac48b291c799a85d2b7d9f",
        "IPY_MODEL_491b0c2380bc4c26a35db5cd8b868ca6",
        "IPY_MODEL_59826e4a5d2a4043b6be05473f69a881",
        "IPY_MODEL_d741aac5813e4a8f913449e677fb52e6",
        "IPY_MODEL_0d844c9f7edd42e0be7d793be647e812",
        "IPY_MODEL_42fd50e7bc9841b99c04edc2fdddf0d2",
        "IPY_MODEL_5ef4998f71ac4006bd4eb0c7ed8e470a",
        "IPY_MODEL_d7bf6b0e24264e0d901166e66cb1a4b8",
        "IPY_MODEL_51a5d3420e7c4563b0b9d5fe1af5da1f",
        "IPY_MODEL_a9658d52300640a4bf7f7659416bff32",
        "IPY_MODEL_2fceb691770748289cc0948b480c4f3a",
        "IPY_MODEL_53d2f087e72d4756817029b0c0c0433b"
       ],
       "layout": "IPY_MODEL_3f2f4237414a43498e48531b4cab36cd",
       "left": 455,
       "modisdate": "2023-12-15",
       "north": 14.604847155053898,
       "options": [
        "bounce_at_zoom_limits",
        "box_zoom",
        "center",
        "close_popup_on_click",
        "double_click_zoom",
        "dragging",
        "fullscreen",
        "inertia",
        "inertia_deceleration",
        "inertia_max_speed",
        "interpolation",
        "keyboard",
        "keyboard_pan_offset",
        "keyboard_zoom_offset",
        "max_zoom",
        "min_zoom",
        "prefer_canvas",
        "scroll_wheel_zoom",
        "tap",
        "tap_tolerance",
        "touch_zoom",
        "world_copy_jump",
        "zoom",
        "zoom_animation_threshold",
        "zoom_delta",
        "zoom_snap"
       ],
       "prefer_canvas": false,
       "right": 1593,
       "south": -48.45835188280866,
       "style": "IPY_MODEL_5b07183a9d63439f8c9d598767d6abce",
       "top": 940,
       "west": -100.01953125000001,
       "window_url": "http://localhost:8888/lab/tree/_LEAF_POPUPS_MOBILES_ORANGE_VBOX_BOUTONS.ipynb",
       "zoom": 3
      }
     },
     "d5598f64b0f34b42a72d72d2f52a72f6": {
      "model_module": "@jupyter-widgets/base",
      "model_module_version": "2.0.0",
      "model_name": "LayoutModel",
      "state": {}
     },
     "d741aac5813e4a8f913449e677fb52e6": {
      "model_module": "jupyter-leaflet",
      "model_module_version": "^0.17",
      "model_name": "LeafletPopupModel",
      "state": {
       "_model_module_version": "^0.17",
       "_view_module_version": "^0.17",
       "auto_close": true,
       "auto_pan": true,
       "auto_pan_padding": [
        5,
        5
       ],
       "auto_pan_padding_bottom_right": null,
       "auto_pan_padding_top_left": null,
       "child": "IPY_MODEL_1523dde78efb4be6a29b32b9d048924d",
       "close_button": false,
       "close_on_escape_key": false,
       "keep_in_view": false,
       "location": [
        -35,
        0
       ],
       "min_width": 400,
       "options": [
        "auto_close",
        "auto_pan",
        "auto_pan_padding",
        "auto_pan_padding_bottom_right",
        "auto_pan_padding_top_left",
        "close_button",
        "close_on_escape_key",
        "keep_in_view",
        "max_height",
        "max_width",
        "min_width"
       ]
      }
     },
     "d780e6ac46a24139acd34db2833cb130": {
      "model_module": "@jupyter-widgets/base",
      "model_module_version": "2.0.0",
      "model_name": "LayoutModel",
      "state": {
       "border_bottom": "0px solid black",
       "border_left": "0px solid black",
       "border_right": "0px solid black",
       "border_top": "0px solid black",
       "height": "auto",
       "margin": "10px 10px 10px 10px",
       "width": "200px"
      }
     },
     "d7bf6b0e24264e0d901166e66cb1a4b8": {
      "model_module": "jupyter-leaflet",
      "model_module_version": "^0.17",
      "model_name": "LeafletPopupModel",
      "state": {
       "_model_module_version": "^0.17",
       "_view_module_version": "^0.17",
       "auto_close": false,
       "auto_pan": true,
       "auto_pan_padding": [
        5,
        5
       ],
       "auto_pan_padding_bottom_right": null,
       "auto_pan_padding_top_left": null,
       "child": "IPY_MODEL_c9c6a38c48c64441ad46f7e022f6c4d8",
       "close_button": false,
       "close_on_escape_key": false,
       "keep_in_view": false,
       "location": [
        -35,
        80
       ],
       "min_width": 400,
       "options": [
        "auto_close",
        "auto_pan",
        "auto_pan_padding",
        "auto_pan_padding_bottom_right",
        "auto_pan_padding_top_left",
        "close_button",
        "close_on_escape_key",
        "keep_in_view",
        "max_height",
        "max_width",
        "min_width"
       ]
      }
     },
     "d87c4cc780434ca0beff3286f843c452": {
      "model_module": "@jupyter-widgets/controls",
      "model_module_version": "2.0.0",
      "model_name": "VBoxModel",
      "state": {
       "children": [
        "IPY_MODEL_e7e3a9789bc5464ca84e477c5dada523",
        "IPY_MODEL_00e93fa6baa74fe5a4e1e7f3c5119e11"
       ],
       "layout": "IPY_MODEL_20b6f24b854745339fa2d4c98c8f2817"
      }
     },
     "da1f07962fc34bb3a0abe3d80bc11a2f": {
      "model_module": "@jupyter-widgets/base",
      "model_module_version": "2.0.0",
      "model_name": "LayoutModel",
      "state": {}
     },
     "da841e0e76f54806995b49d5cd3c7553": {
      "model_module": "@jupyter-widgets/base",
      "model_module_version": "2.0.0",
      "model_name": "LayoutModel",
      "state": {}
     },
     "df9a4221990b48c395cf7eb5234adc1d": {
      "model_module": "jupyter-leaflet",
      "model_module_version": "^0.17",
      "model_name": "LeafletMarkerModel",
      "state": {
       "_model_module_version": "^0.17",
       "_view_module_version": "^0.17",
       "location": [
        -20,
        -40
       ],
       "options": [
        "alt",
        "draggable",
        "keyboard",
        "rise_offset",
        "rise_on_hover",
        "rotation_angle",
        "rotation_origin",
        "title",
        "z_index_offset"
       ],
       "popup": "IPY_MODEL_3d349167bc224e5aa4b9539af9f93875"
      }
     },
     "dfb8da1b81d34ed1a291509637f69b7f": {
      "model_module": "@jupyter-widgets/controls",
      "model_module_version": "2.0.0",
      "model_name": "HTMLModel",
      "state": {
       "layout": "IPY_MODEL_6ffeed0fcb35461ab043b15bc604446a",
       "style": "IPY_MODEL_4786d8eb57f34485b41284a0b3a22c35",
       "value": "<html><div style='color:white'>None</div></html>"
      }
     },
     "e361b333ba66460986ed9111049c15c2": {
      "model_module": "@jupyter-widgets/controls",
      "model_module_version": "2.0.0",
      "model_name": "VBoxModel",
      "state": {
       "children": [
        "IPY_MODEL_b786a9ed24984bf38bc6d90f2c3fc15e",
        "IPY_MODEL_6a170e3c26654130a21f9a03798dca6c"
       ],
       "layout": "IPY_MODEL_da841e0e76f54806995b49d5cd3c7553"
      }
     },
     "e6449ff8b5a046fbb62cc3b20a2281ce": {
      "model_module": "@jupyter-widgets/controls",
      "model_module_version": "2.0.0",
      "model_name": "HTMLModel",
      "state": {
       "layout": "IPY_MODEL_da1f07962fc34bb3a0abe3d80bc11a2f",
       "style": "IPY_MODEL_9421d32459e3419d88bcb1c5e17085ec"
      }
     },
     "e68aacecd1854c96bd80131925327a08": {
      "model_module": "@jupyter-widgets/controls",
      "model_module_version": "2.0.0",
      "model_name": "HTMLStyleModel",
      "state": {
       "description_width": "",
       "font_size": null,
       "text_color": null
      }
     },
     "e7e3a9789bc5464ca84e477c5dada523": {
      "model_module": "@jupyter-widgets/controls",
      "model_module_version": "2.0.0",
      "model_name": "HTMLModel",
      "state": {
       "layout": "IPY_MODEL_f028772156954653b770a76cc84ee868",
       "style": "IPY_MODEL_298647ddca5145cda735412bec67c395",
       "value": "CESE"
      }
     },
     "e9cb2053e0f94f2790b16517577ccf13": {
      "model_module": "@jupyter-widgets/controls",
      "model_module_version": "2.0.0",
      "model_name": "ButtonStyleModel",
      "state": {
       "font_family": null,
       "font_size": null,
       "font_style": null,
       "font_variant": null,
       "font_weight": null,
       "text_color": null,
       "text_decoration": null
      }
     },
     "ea540aa53978481f88a635cf331a7e1b": {
      "model_module": "@jupyter-widgets/base",
      "model_module_version": "2.0.0",
      "model_name": "LayoutModel",
      "state": {}
     },
     "ea68a8a345cb451aa849574e7f4276ef": {
      "model_module": "@jupyter-widgets/controls",
      "model_module_version": "2.0.0",
      "model_name": "HTMLStyleModel",
      "state": {
       "description_width": "",
       "font_size": null,
       "text_color": null
      }
     },
     "ec0303077d3149619eb30dfd6aee93f5": {
      "model_module": "@jupyter-widgets/base",
      "model_module_version": "2.0.0",
      "model_name": "LayoutModel",
      "state": {
       "border_bottom": "1px solid black",
       "border_left": "1px solid black",
       "border_right": "1px solid black",
       "border_top": "1px solid black"
      }
     },
     "ec68933c5eb84e1b9711a54daf22d1c8": {
      "model_module": "@jupyter-widgets/controls",
      "model_module_version": "2.0.0",
      "model_name": "HTMLStyleModel",
      "state": {
       "description_width": "",
       "font_size": null,
       "text_color": null
      }
     },
     "ec84968833e04cf3857d63242ff9032a": {
      "model_module": "@jupyter-widgets/base",
      "model_module_version": "2.0.0",
      "model_name": "LayoutModel",
      "state": {}
     },
     "ed1f5caff6e44204a207b0d3f464843d": {
      "model_module": "@jupyter-widgets/base",
      "model_module_version": "2.0.0",
      "model_name": "LayoutModel",
      "state": {}
     },
     "ee009ad121f648dd937229d6e4a54d2c": {
      "model_module": "@jupyter-widgets/controls",
      "model_module_version": "2.0.0",
      "model_name": "HTMLStyleModel",
      "state": {
       "description_width": "",
       "font_size": null,
       "text_color": null
      }
     },
     "ee05ee906fb74fb2a85a7807983b9e62": {
      "model_module": "@jupyter-widgets/controls",
      "model_module_version": "2.0.0",
      "model_name": "VBoxModel",
      "state": {
       "children": [
        "IPY_MODEL_2a1cf93c6ef5406e9514755cd3c65280",
        "IPY_MODEL_a95d2504247644aa8233e45c3605338f"
       ],
       "layout": "IPY_MODEL_023b6e95ab0a40ae96987cbb0f1f5ddd"
      }
     },
     "ef09b934a9bd47bdaaf8e283f2e916a8": {
      "model_module": "@jupyter-widgets/output",
      "model_module_version": "1.0.0",
      "model_name": "OutputModel",
      "state": {
       "layout": "IPY_MODEL_768f8a22243e4b41bc65752219005f9d"
      }
     },
     "ef67e1ce4be74b62a5137385803f06a0": {
      "model_module": "@jupyter-widgets/base",
      "model_module_version": "2.0.0",
      "model_name": "LayoutModel",
      "state": {}
     },
     "f028772156954653b770a76cc84ee868": {
      "model_module": "@jupyter-widgets/base",
      "model_module_version": "2.0.0",
      "model_name": "LayoutModel",
      "state": {}
     },
     "f07bf9e4bc2646a7ad66a2ad1e331461": {
      "model_module": "@jupyter-widgets/controls",
      "model_module_version": "2.0.0",
      "model_name": "ButtonStyleModel",
      "state": {
       "font_family": null,
       "font_size": null,
       "font_style": null,
       "font_variant": null,
       "font_weight": null,
       "text_color": null,
       "text_decoration": null
      }
     },
     "f301248ac3464781bff4be57a84dfad1": {
      "model_module": "@jupyter-widgets/base",
      "model_module_version": "2.0.0",
      "model_name": "LayoutModel",
      "state": {
       "border_bottom": "4px solid black",
       "border_left": "4px solid black",
       "border_right": "4px solid black",
       "border_top": "4px solid black"
      }
     },
     "f4c97a5756dc4fd5b9b95974476c6bb5": {
      "model_module": "@jupyter-widgets/controls",
      "model_module_version": "2.0.0",
      "model_name": "ButtonStyleModel",
      "state": {
       "font_family": null,
       "font_size": null,
       "font_style": null,
       "font_variant": null,
       "font_weight": null,
       "text_color": null,
       "text_decoration": null
      }
     },
     "f4fc78de315b40fb8f4685c61353efab": {
      "model_module": "@jupyter-widgets/output",
      "model_module_version": "1.0.0",
      "model_name": "OutputModel",
      "state": {
       "layout": "IPY_MODEL_cc2ea2c409a0422db176441401c4da46"
      }
     },
     "f7028bdaa6994d37b7f7a921f9ec3f6c": {
      "model_module": "@jupyter-widgets/controls",
      "model_module_version": "2.0.0",
      "model_name": "HTMLStyleModel",
      "state": {
       "description_width": "",
       "font_size": null,
       "text_color": null
      }
     },
     "f8129e8f29e84fbebc383e1789bd250a": {
      "model_module": "jupyter-leaflet",
      "model_module_version": "^0.17",
      "model_name": "LeafletFullScreenControlModel",
      "state": {
       "_model_module_version": "^0.17",
       "_view_module_version": "^0.17",
       "options": [
        "position"
       ]
      }
     },
     "f8c2d17306be4922a2adab4abcccdf4c": {
      "model_module": "@jupyter-widgets/controls",
      "model_module_version": "2.0.0",
      "model_name": "HTMLModel",
      "state": {
       "layout": "IPY_MODEL_ed1f5caff6e44204a207b0d3f464843d",
       "style": "IPY_MODEL_0cf78a4bfbf84231a41264cbec95ea01",
       "value": "Cour des comptes"
      }
     },
     "f8d782c24fa24c0dbce8b0ba6ae5830a": {
      "model_module": "@jupyter-widgets/base",
      "model_module_version": "2.0.0",
      "model_name": "LayoutModel",
      "state": {}
     },
     "f950098314c64d4bb15cf7c35dfab6e8": {
      "model_module": "@jupyter-widgets/base",
      "model_module_version": "2.0.0",
      "model_name": "LayoutModel",
      "state": {}
     },
     "f97027fef2cd432d95813fda9e4d4531": {
      "model_module": "jupyter-leaflet",
      "model_module_version": "^0.17",
      "model_name": "LeafletMapStyleModel",
      "state": {
       "_model_module_version": "^0.17"
      }
     },
     "f9b63661ae074a5c96f04d4a7424dc7d": {
      "model_module": "@jupyter-widgets/controls",
      "model_module_version": "2.0.0",
      "model_name": "HTMLModel",
      "state": {
       "layout": "IPY_MODEL_b23b9ddedfff47d5b2413d3eced83238",
       "style": "IPY_MODEL_b11877c3a2434b0caac698ce6fceea73",
       "value": "<html><div style='color:white'>None</div></html>"
      }
     },
     "fa2430cd59834875a97dce30d40e76f4": {
      "model_module": "@jupyter-widgets/controls",
      "model_module_version": "2.0.0",
      "model_name": "HTMLModel",
      "state": {
       "layout": "IPY_MODEL_043ae955b2b14cf6b9c57f392c1fdfff",
       "style": "IPY_MODEL_393a274d9c344c83b8cd99ae2de809ff",
       "value": "<html><div style='color:white'>None</div></html>"
      }
     },
     "fa82c2ddfb964f16b5a838ac41ec6d7e": {
      "model_module": "@jupyter-widgets/controls",
      "model_module_version": "2.0.0",
      "model_name": "HTMLStyleModel",
      "state": {
       "description_width": "",
       "font_size": null,
       "text_color": null
      }
     },
     "fc9da6a4fb5941288033df829dc13f4d": {
      "model_module": "@jupyter-widgets/controls",
      "model_module_version": "2.0.0",
      "model_name": "HTMLStyleModel",
      "state": {
       "description_width": "",
       "font_size": null,
       "text_color": null
      }
     },
     "fd8c35adec5545df93f056f30150facd": {
      "model_module": "@jupyter-widgets/controls",
      "model_module_version": "2.0.0",
      "model_name": "VBoxModel",
      "state": {
       "children": [
        "IPY_MODEL_84704b8931cc4c899dde55b39a892c93",
        "IPY_MODEL_5cf4ffb1efe64c41baf3a12ef374365e",
        "IPY_MODEL_c20cd843b352437984ddc30c380f39a4",
        "IPY_MODEL_808c81c1197e4c8aa24227bc4f4ed3f7",
        "IPY_MODEL_b051bc7bf9784633b3f1db54f4e4760b",
        "IPY_MODEL_5190cfc206df4b85b68e7e94d018e80d",
        "IPY_MODEL_8c26b470b7c243c18ec1642cec0662da",
        "IPY_MODEL_202c2bb5f786422e878ff614a87fdf9b",
        "IPY_MODEL_1e31011a67864db6a4978fe2a5256215"
       ],
       "layout": "IPY_MODEL_d780e6ac46a24139acd34db2833cb130"
      }
     }
    },
    "version_major": 2,
    "version_minor": 0
   }
  }
 },
 "nbformat": 4,
 "nbformat_minor": 4
}
