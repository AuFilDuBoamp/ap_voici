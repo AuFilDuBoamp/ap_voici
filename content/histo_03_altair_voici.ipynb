{
 "cells": [
  {
   "cell_type": "markdown",
   "id": "6825ab90-e9eb-4a59-82af-83a547ec9e11",
   "metadata": {
    "tags": []
   },
   "source": [
    "# Histogrammes 2"
   ]
  },
  {
   "cell_type": "markdown",
   "id": "860ae5e8-43ce-4e3c-8d93-576062f01540",
   "metadata": {
    "tags": []
   },
   "source": [
    "## Imports"
   ]
  },
  {
   "cell_type": "code",
   "execution_count": 1,
   "id": "9b830d3d-9b35-45ed-9b31-76c6d9909a24",
   "metadata": {
    "tags": []
   },
   "outputs": [],
   "source": [
    "import pandas as pd\n",
    "pd.set_option('display.max_rows', 600)\n",
    "import altair as alt\n",
    "alt.__version__\n",
    "\n",
    "from IPython.core.interactiveshell import InteractiveShell\n",
    "InteractiveShell.ast_node_interactivity ='all'"
   ]
  },
  {
   "cell_type": "code",
   "execution_count": 2,
   "id": "c2182e48-bf7c-404d-81ed-397f03bafeb4",
   "metadata": {},
   "outputs": [],
   "source": [
    "df = pd.read_parquet('boamp_23_12_26_dateparution_idweb.parquet')"
   ]
  },
  {
   "cell_type": "code",
   "execution_count": 3,
   "id": "01372790-c61e-455e-84a3-92b4144b5114",
   "metadata": {
    "tags": []
   },
   "outputs": [],
   "source": [
    "mes_assign = {'idweb':df.idweb.astype('string'),\n",
    "              'annee':df.dateparution.dt.year.astype('Int64').astype('string'),\n",
    "              'mois':df.dateparution.dt.month.astype('Int64').astype('string'),\n",
    "              'jour':df.dateparution.dt.day.astype('Int64').astype('string'),\n",
    "             }"
   ]
  },
  {
   "cell_type": "code",
   "execution_count": 4,
   "id": "254b7895-7739-4ee4-acbd-99b915cfdf93",
   "metadata": {
    "tags": []
   },
   "outputs": [],
   "source": [
    "df2 = df.assign(**mes_assign)"
   ]
  },
  {
   "cell_type": "code",
   "execution_count": 5,
   "id": "066cefcb-e56a-4665-9d88-4535caf6b0a7",
   "metadata": {
    "tags": []
   },
   "outputs": [],
   "source": [
    "gb_annee = df2.groupby(pd.Grouper(key='annee', dropna=False, sort=True))"
   ]
  },
  {
   "cell_type": "code",
   "execution_count": 6,
   "id": "52f797ba-6d2b-45bc-8dd7-4958a9bb4cda",
   "metadata": {
    "tags": []
   },
   "outputs": [],
   "source": [
    "df3 = gb_annee.annee.value_counts(dropna=True).reset_index(drop=False).rename(columns={'count': \"Nombre\", 'annee': 'Année'})"
   ]
  },
  {
   "cell_type": "code",
   "execution_count": 7,
   "id": "a4705361-a2b5-4162-a678-5445b64e08ea",
   "metadata": {
    "tags": []
   },
   "outputs": [
    {
     "data": {
      "text/html": [
       "\n",
       "<style>\n",
       "  #altair-viz-7ce483ea3c364fdd9325107507710a66.vega-embed {\n",
       "    width: 100%;\n",
       "    display: flex;\n",
       "  }\n",
       "\n",
       "  #altair-viz-7ce483ea3c364fdd9325107507710a66.vega-embed details,\n",
       "  #altair-viz-7ce483ea3c364fdd9325107507710a66.vega-embed details summary {\n",
       "    position: relative;\n",
       "  }\n",
       "</style>\n",
       "<div id=\"altair-viz-7ce483ea3c364fdd9325107507710a66\"></div>\n",
       "<script type=\"text/javascript\">\n",
       "  var VEGA_DEBUG = (typeof VEGA_DEBUG == \"undefined\") ? {} : VEGA_DEBUG;\n",
       "  (function(spec, embedOpt){\n",
       "    let outputDiv = document.currentScript.previousElementSibling;\n",
       "    if (outputDiv.id !== \"altair-viz-7ce483ea3c364fdd9325107507710a66\") {\n",
       "      outputDiv = document.getElementById(\"altair-viz-7ce483ea3c364fdd9325107507710a66\");\n",
       "    }\n",
       "    const paths = {\n",
       "      \"vega\": \"https://cdn.jsdelivr.net/npm/vega@5?noext\",\n",
       "      \"vega-lib\": \"https://cdn.jsdelivr.net/npm/vega-lib?noext\",\n",
       "      \"vega-lite\": \"https://cdn.jsdelivr.net/npm/vega-lite@5.15.1?noext\",\n",
       "      \"vega-embed\": \"https://cdn.jsdelivr.net/npm/vega-embed@6?noext\",\n",
       "    };\n",
       "\n",
       "    function maybeLoadScript(lib, version) {\n",
       "      var key = `${lib.replace(\"-\", \"\")}_version`;\n",
       "      return (VEGA_DEBUG[key] == version) ?\n",
       "        Promise.resolve(paths[lib]) :\n",
       "        new Promise(function(resolve, reject) {\n",
       "          var s = document.createElement('script');\n",
       "          document.getElementsByTagName(\"head\")[0].appendChild(s);\n",
       "          s.async = true;\n",
       "          s.onload = () => {\n",
       "            VEGA_DEBUG[key] = version;\n",
       "            return resolve(paths[lib]);\n",
       "          };\n",
       "          s.onerror = () => reject(`Error loading script: ${paths[lib]}`);\n",
       "          s.src = paths[lib];\n",
       "        });\n",
       "    }\n",
       "\n",
       "    function showError(err) {\n",
       "      outputDiv.innerHTML = `<div class=\"error\" style=\"color:red;\">${err}</div>`;\n",
       "      throw err;\n",
       "    }\n",
       "\n",
       "    function displayChart(vegaEmbed) {\n",
       "      vegaEmbed(outputDiv, spec, embedOpt)\n",
       "        .catch(err => showError(`Javascript Error: ${err.message}<br>This usually means there's a typo in your chart specification. See the javascript console for the full traceback.`));\n",
       "    }\n",
       "\n",
       "    if(typeof define === \"function\" && define.amd) {\n",
       "      requirejs.config({paths});\n",
       "      require([\"vega-embed\"], displayChart, err => showError(`Error loading script: ${err.message}`));\n",
       "    } else {\n",
       "      maybeLoadScript(\"vega\", \"5\")\n",
       "        .then(() => maybeLoadScript(\"vega-lite\", \"5.15.1\"))\n",
       "        .then(() => maybeLoadScript(\"vega-embed\", \"6\"))\n",
       "        .catch(showError)\n",
       "        .then(() => displayChart(vegaEmbed));\n",
       "    }\n",
       "  })({\"config\": {\"view\": {\"continuousWidth\": 300, \"continuousHeight\": 300}}, \"data\": {\"name\": \"data-d15b2140a0f92765256f3761454a6557\"}, \"mark\": {\"type\": \"bar\"}, \"encoding\": {\"x\": {\"field\": \"Ann\\u00e9e\", \"type\": \"nominal\"}, \"y\": {\"field\": \"Nombre\", \"type\": \"quantitative\"}}, \"$schema\": \"https://vega.github.io/schema/vega-lite/v5.15.1.json\", \"datasets\": {\"data-d15b2140a0f92765256f3761454a6557\": [{\"Ann\\u00e9e\": \"2006\", \"Nombre\": 178667}, {\"Ann\\u00e9e\": \"2007\", \"Nombre\": 173092}, {\"Ann\\u00e9e\": \"2008\", \"Nombre\": 239957}, {\"Ann\\u00e9e\": \"2009\", \"Nombre\": 228970}, {\"Ann\\u00e9e\": \"2010\", \"Nombre\": 235834}, {\"Ann\\u00e9e\": \"2011\", \"Nombre\": 241306}, {\"Ann\\u00e9e\": \"2012\", \"Nombre\": 212595}, {\"Ann\\u00e9e\": \"2013\", \"Nombre\": 200252}, {\"Ann\\u00e9e\": \"2014\", \"Nombre\": 175096}, {\"Ann\\u00e9e\": \"2015\", \"Nombre\": 172596}, {\"Ann\\u00e9e\": \"2016\", \"Nombre\": 156034}, {\"Ann\\u00e9e\": \"2017\", \"Nombre\": 156366}, {\"Ann\\u00e9e\": \"2018\", \"Nombre\": 156060}, {\"Ann\\u00e9e\": \"2019\", \"Nombre\": 158839}, {\"Ann\\u00e9e\": \"2020\", \"Nombre\": 134138}, {\"Ann\\u00e9e\": \"2021\", \"Nombre\": 145161}, {\"Ann\\u00e9e\": \"2022\", \"Nombre\": 146286}, {\"Ann\\u00e9e\": \"2023\", \"Nombre\": 147909}, {\"Ann\\u00e9e\": null, \"Nombre\": 1}]}}, {\"mode\": \"vega-lite\"});\n",
       "</script>"
      ],
      "text/plain": [
       "alt.Chart(...)"
      ]
     },
     "execution_count": 7,
     "metadata": {},
     "output_type": "execute_result"
    }
   ],
   "source": [
    "source = df3\n",
    "\n",
    "alt.Chart(source).mark_bar().encode(\n",
    "    x='Année',\n",
    "    y=\"Nombre\"\n",
    ")"
   ]
  }
 ],
 "metadata": {
  "kernelspec": {
   "display_name": "Python 3 (ipykernel)",
   "language": "python",
   "name": "python3"
  },
  "language_info": {
   "codemirror_mode": {
    "name": "ipython",
    "version": 3
   },
   "file_extension": ".py",
   "mimetype": "text/x-python",
   "name": "python",
   "nbconvert_exporter": "python",
   "pygments_lexer": "ipython3",
   "version": "3.11.5"
  },
  "widgets": {
   "application/vnd.jupyter.widget-state+json": {
    "state": {},
    "version_major": 2,
    "version_minor": 0
   }
  }
 },
 "nbformat": 4,
 "nbformat_minor": 5
}
