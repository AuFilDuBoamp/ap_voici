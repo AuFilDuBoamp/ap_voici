{
 "cells": [
  {
   "cell_type": "code",
   "execution_count": 11,
   "metadata": {},
   "outputs": [],
   "source": [
    "%run ipy\n"
   ]
  },
  {
   "cell_type": "code",
   "execution_count": 12,
   "metadata": {},
   "outputs": [],
   "source": [
    "import IPython\n",
    "from IPython.core.interactiveshell import InteractiveShell\n",
    "from IPython.display import HTML, display\n",
    "InteractiveShell.ast_node_interactivity = \"all\" \n",
    "\n",
    "import ipywidgets as wg\n",
    "import ipyleaflet as leaf\n",
    "\n",
    "\n",
    "from ipywidgets import Button, GridBox, Layout, ButtonStyle"
   ]
  },
  {
   "cell_type": "code",
   "execution_count": 13,
   "metadata": {},
   "outputs": [
    {
     "data": {
      "text/plain": [
       "1.4142857142857141"
      ]
     },
     "execution_count": 13,
     "metadata": {},
     "output_type": "execute_result"
    },
    {
     "data": {
      "text/plain": [
       "352.5"
      ]
     },
     "execution_count": 13,
     "metadata": {},
     "output_type": "execute_result"
    }
   ],
   "source": [
    "29.7 / 21\n",
    "250*1.41"
   ]
  },
  {
   "cell_type": "markdown",
   "metadata": {},
   "source": [
    "## WG Outputs"
   ]
  },
  {
   "cell_type": "code",
   "execution_count": 14,
   "metadata": {},
   "outputs": [
    {
     "data": {
      "application/vnd.jupyter.widget-view+json": {
       "model_id": "bb1cb5e949f440dd8c341f9957148f1c",
       "version_major": 2,
       "version_minor": 0
      },
      "text/plain": [
       "Output(layout=Layout(border_bottom='1px solid black', border_left='1px solid black', border_right='1px solid b…"
      ]
     },
     "metadata": {},
     "output_type": "display_data"
    }
   ],
   "source": [
    "## WG.OUTPUTS\n",
    "out_grid = wg.Output(layout=wg.Layout(width='250px', min_height='355px', border='1px solid black', ))\n",
    "\n",
    "display(out_grid)"
   ]
  },
  {
   "cell_type": "markdown",
   "metadata": {},
   "source": [
    "## BOUTONS"
   ]
  },
  {
   "cell_type": "code",
   "execution_count": 15,
   "metadata": {},
   "outputs": [],
   "source": [
    "# BOUTONS\n",
    "bout_nature = wg.Button(layout=wg.Layout(width='auto', height='auto'), style=wg.ButtonStyle(button_color='darkseagreen'), description='NATURE')\n",
    "bout_perimetre = wg.Button(layout=wg.Layout(width='auto', height='auto'), style=wg.ButtonStyle(button_color='darkseagreen'), description='PÉRIMÈTRE')\n",
    "    \n",
    "\n",
    "\n"
   ]
  },
  {
   "cell_type": "code",
   "execution_count": 16,
   "metadata": {},
   "outputs": [],
   "source": [
    "# GRIDBOX\n",
    "grid = wg.GridBox(children=[bout_nature, bout_perimetre],  layout=wg.Layout( width='100%',  grid_template_columns='100%', grid_template_rows='auto',  grid_gap='5px 10px'))\n",
    "\n",
    "with out_grid:\n",
    "    display(grid)\n",
    "    out_grid.clear_output(wait=True)\n"
   ]
  },
  {
   "cell_type": "markdown",
   "metadata": {},
   "source": [
    "## Contrôle Leaf + MAP"
   ]
  },
  {
   "cell_type": "code",
   "execution_count": 17,
   "metadata": {},
   "outputs": [],
   "source": [
    "import ipyleaflet as leaf\n",
    "from ipyleaflet import Map, basemaps, WidgetControl"
   ]
  },
  {
   "cell_type": "code",
   "execution_count": 18,
   "metadata": {},
   "outputs": [
    {
     "data": {
      "application/vnd.jupyter.widget-view+json": {
       "model_id": "ec3fa4a124bc44debb742b39f640ce26",
       "version_major": 2,
       "version_minor": 0
      },
      "text/plain": [
       "Map(center=[0.0, 0.0], close_popup_on_click=False, controls=(ZoomControl(options=['position', 'zoom_in_text', …"
      ]
     },
     "metadata": {},
     "output_type": "display_data"
    }
   ],
   "source": [
    "from ipyleaflet import Map, basemaps, WidgetControl\n",
    "\n",
    "m = leaf.Map(center=(0.0, 0.0), zoom=4, basemap=basemaps.Stamen.Terrain, close_popup_on_click=False)\n",
    "\n",
    "mes_controles = out_grid\n",
    "\n",
    "widget_control = leaf.WidgetControl(widget=mes_controles, position='topright', min_width=250, min_height=355 )\n",
    "m.add_control(leaf.FullScreenControl())\n",
    "\n",
    "m.add_control(widget_control)\n",
    "\n",
    "# CREATION DES POPUPS\n",
    "out_popup = wg.Output(layout = wg.Layout(height = '355px', width='250px', border='1px solid black'))\n",
    "out_popup.clear_output(wait=True)\n",
    "\n",
    "pop_nature = leaf.Popup(location=(-18.0,0.0), child=out_popup, close_button=False) \n",
    "pop_perimetre = leaf.Popup(location=(-18.0,-40.0), child=out_popup, close_button=False) \n",
    "\n",
    "m.add_layer(pop_nature)  \n",
    "m.add_layer(pop_perimetre)  \n",
    "\n",
    "\n",
    "display(m)"
   ]
  },
  {
   "cell_type": "code",
   "execution_count": null,
   "metadata": {},
   "outputs": [],
   "source": []
  },
  {
   "cell_type": "markdown",
   "metadata": {},
   "source": [
    "# FONCTIONS"
   ]
  },
  {
   "cell_type": "code",
   "execution_count": 19,
   "metadata": {},
   "outputs": [],
   "source": [
    "# LA FONCTION QUI COMMANDE LES BOUTONS\n",
    "\n",
    "def on_bout_nature(bout_nature):\n",
    "    m.center = (pop_nature.location[0] +18, pop_nature.location[1] )\n",
    "    \n",
    "for bout in [bout_nature]:\n",
    "    bout.on_click(on_bout_nature)\n",
    "    \n",
    "def on_bout_perimetre(bout_perimetre):\n",
    "    m.center = (pop_perimetre.location[0] +18, pop_perimetre.location[1] )\n",
    "    \n",
    "for bout in [bout_perimetre]:\n",
    "    bout.on_click(on_bout_perimetre)"
   ]
  },
  {
   "cell_type": "code",
   "execution_count": 20,
   "metadata": {},
   "outputs": [
    {
     "ename": "NameError",
     "evalue": "name 'b1' is not defined",
     "output_type": "error",
     "traceback": [
      "\u001b[1;31m---------------------------------------------------------------------------\u001b[0m",
      "\u001b[1;31mNameError\u001b[0m                                 Traceback (most recent call last)",
      "Cell \u001b[1;32mIn[20], line 2\u001b[0m\n\u001b[0;32m      1\u001b[0m \u001b[38;5;66;03m# FAIRE LE LIEN ENTRE BOUTONS ET LEUR FONCTION      \u001b[39;00m\n\u001b[1;32m----> 2\u001b[0m \u001b[38;5;28;01mfor\u001b[39;00m bout \u001b[38;5;129;01min\u001b[39;00m [b1, b2]:\n\u001b[0;32m      3\u001b[0m     bout\u001b[38;5;241m.\u001b[39mon_click(on_button_clicked)\n",
      "\u001b[1;31mNameError\u001b[0m: name 'b1' is not defined"
     ]
    }
   ],
   "source": [
    "# FAIRE LE LIEN ENTRE BOUTONS ET LEUR FONCTION      \n",
    "for bout in [b1, b2]:\n",
    "    bout.on_click(on_button_clicked)\n",
    "        \n",
    "#display(a, out_bouton2, out_twitter)"
   ]
  },
  {
   "cell_type": "code",
   "execution_count": null,
   "metadata": {},
   "outputs": [],
   "source": []
  },
  {
   "cell_type": "code",
   "execution_count": null,
   "metadata": {},
   "outputs": [],
   "source": [
    "display(m)"
   ]
  },
  {
   "cell_type": "code",
   "execution_count": null,
   "metadata": {},
   "outputs": [],
   "source": []
  },
  {
   "cell_type": "code",
   "execution_count": null,
   "metadata": {},
   "outputs": [],
   "source": []
  }
 ],
 "metadata": {
  "kernelspec": {
   "display_name": "Python 3 (ipykernel)",
   "language": "python",
   "name": "python3"
  },
  "language_info": {
   "codemirror_mode": {
    "name": "ipython",
    "version": 3
   },
   "file_extension": ".py",
   "mimetype": "text/x-python",
   "name": "python",
   "nbconvert_exporter": "python",
   "pygments_lexer": "ipython3",
   "version": "3.11.5"
  },
  "widgets": {
   "application/vnd.jupyter.widget-state+json": {
    "state": {
     "04433f519c834c5cae9b11415767879c": {
      "model_module": "jupyter-leaflet",
      "model_module_version": "^0.17",
      "model_name": "LeafletWidgetControlModel",
      "state": {
       "_model_module": "jupyter-leaflet",
       "_model_module_version": "^0.17",
       "_view_count": null,
       "_view_module": "jupyter-leaflet",
       "_view_module_version": "^0.17",
       "min_height": 355,
       "min_width": 250,
       "options": [
        "position",
        "transparent_bg"
       ],
       "position": "topright",
       "widget": "IPY_MODEL_bb1cb5e949f440dd8c341f9957148f1c"
      }
     },
     "0b3ec595e7d340048d029df0a9cac413": {
      "model_module": "jupyter-leaflet",
      "model_module_version": "^0.17",
      "model_name": "LeafletMapStyleModel",
      "state": {
       "_model_module_version": "^0.17"
      }
     },
     "1b93ed019c884a6c8081a36d4c3029b0": {
      "model_module": "jupyter-leaflet",
      "model_module_version": "^0.17",
      "model_name": "LeafletAttributionControlModel",
      "state": {
       "_model_module_version": "^0.17",
       "_view_module_version": "^0.17",
       "options": [
        "position",
        "prefix"
       ],
       "position": "bottomright",
       "prefix": "ipyleaflet"
      }
     },
     "201a440048c04ee68aa3423d789c924d": {
      "model_module": "jupyter-leaflet",
      "model_module_version": "^0.17",
      "model_name": "LeafletWidgetControlModel",
      "state": {
       "_model_module": "jupyter-leaflet",
       "_model_module_version": "^0.17",
       "_view_count": null,
       "_view_module": "jupyter-leaflet",
       "_view_module_version": "^0.17",
       "min_height": 355,
       "min_width": 250,
       "options": [
        "position",
        "transparent_bg"
       ],
       "position": "topright",
       "widget": "IPY_MODEL_77c160ff9bb244db993fa839e8d3bb66"
      }
     },
     "24c1492d4afa4b1c9bc95cf171466a08": {
      "model_module": "jupyter-leaflet",
      "model_module_version": "^0.17",
      "model_name": "LeafletTileLayerModel",
      "state": {
       "_model_module_version": "^0.17",
       "_view_module_version": "^0.17",
       "attribution": "Map tiles by <a href=\"http://stamen.com\">Stamen Design</a>, <a href=\"http://creativecommons.org/licenses/by/3.0\">CC BY 3.0</a> &mdash; Map data &copy; <a href=\"https://www.openstreetmap.org/copyright\">OpenStreetMap</a> contributors",
       "base": true,
       "name": "Stamen.Terrain",
       "options": [
        "attribution",
        "bounds",
        "detect_retina",
        "max_native_zoom",
        "max_zoom",
        "min_native_zoom",
        "min_zoom",
        "no_wrap",
        "tile_size",
        "tms",
        "zoom_offset"
       ],
       "url": "https://stamen-tiles-a.a.ssl.fastly.net/terrain/{z}/{x}/{y}.png"
      }
     },
     "2a117a850a1c41f08241d764c9eed048": {
      "model_module": "@jupyter-widgets/base",
      "model_module_version": "2.0.0",
      "model_name": "LayoutModel",
      "state": {
       "border_bottom": "1px solid black",
       "border_left": "1px solid black",
       "border_right": "1px solid black",
       "border_top": "1px solid black",
       "height": "355px",
       "width": "250px"
      }
     },
     "2b3e2d0b1e924323be6445769a12c78b": {
      "model_module": "jupyter-leaflet",
      "model_module_version": "^0.17",
      "model_name": "LeafletAttributionControlModel",
      "state": {
       "_model_module_version": "^0.17",
       "_view_module_version": "^0.17",
       "options": [
        "position",
        "prefix"
       ],
       "position": "bottomright",
       "prefix": "ipyleaflet"
      }
     },
     "3454e7831e454b7da33c095513853b67": {
      "model_module": "jupyter-leaflet",
      "model_module_version": "^0.17",
      "model_name": "LeafletZoomControlModel",
      "state": {
       "_model_module_version": "^0.17",
       "_view_module_version": "^0.17",
       "options": [
        "position",
        "zoom_in_text",
        "zoom_in_title",
        "zoom_out_text",
        "zoom_out_title"
       ]
      }
     },
     "36665ea294a242fabfc28fff19e02358": {
      "model_module": "@jupyter-widgets/controls",
      "model_module_version": "2.0.0",
      "model_name": "ButtonStyleModel",
      "state": {
       "button_color": "darkseagreen",
       "font_family": null,
       "font_size": null,
       "font_style": null,
       "font_variant": null,
       "font_weight": null,
       "text_color": null,
       "text_decoration": null
      }
     },
     "3cb19b8abb004786bd83fb49b3f7b34e": {
      "model_module": "jupyter-leaflet",
      "model_module_version": "^0.17",
      "model_name": "LeafletMapStyleModel",
      "state": {
       "_model_module_version": "^0.17",
       "cursor": "move"
      }
     },
     "4076af0f2c6048fb856a515ffd979004": {
      "model_module": "@jupyter-widgets/base",
      "model_module_version": "2.0.0",
      "model_name": "LayoutModel",
      "state": {
       "height": "auto",
       "width": "auto"
      }
     },
     "439cb44cb39d4221a2dc3034ed2c60fa": {
      "model_module": "jupyter-leaflet",
      "model_module_version": "^0.17",
      "model_name": "LeafletPopupModel",
      "state": {
       "_model_module_version": "^0.17",
       "_view_module_version": "^0.17",
       "auto_close": true,
       "auto_pan": true,
       "auto_pan_padding": [
        5,
        5
       ],
       "auto_pan_padding_bottom_right": null,
       "auto_pan_padding_top_left": null,
       "child": "IPY_MODEL_d7f78490cf9a4f428a6c54276ea47c14",
       "close_button": false,
       "close_on_escape_key": true,
       "keep_in_view": false,
       "location": [
        -18,
        -40
       ],
       "options": [
        "auto_close",
        "auto_pan",
        "auto_pan_padding",
        "auto_pan_padding_bottom_right",
        "auto_pan_padding_top_left",
        "close_button",
        "close_on_escape_key",
        "keep_in_view",
        "max_height",
        "max_width",
        "min_width"
       ]
      }
     },
     "48c67e6b993e45d9b2d33700e3d4281e": {
      "model_module": "@jupyter-widgets/controls",
      "model_module_version": "2.0.0",
      "model_name": "ButtonStyleModel",
      "state": {
       "button_color": "darkseagreen",
       "font_family": null,
       "font_size": null,
       "font_style": null,
       "font_variant": null,
       "font_weight": null,
       "text_color": null,
       "text_decoration": null
      }
     },
     "4e7317cdccdd4cf89d0e166a3ad96116": {
      "model_module": "jupyter-leaflet",
      "model_module_version": "^0.17",
      "model_name": "LeafletMapStyleModel",
      "state": {
       "_model_module_version": "^0.17"
      }
     },
     "53689894e65c494691c000cb9db011b7": {
      "model_module": "jupyter-leaflet",
      "model_module_version": "^0.17",
      "model_name": "LeafletMapStyleModel",
      "state": {
       "_model_module_version": "^0.17",
       "cursor": "move"
      }
     },
     "53f4566b4c084f01a7632d8f6bd2acbf": {
      "model_module": "jupyter-leaflet",
      "model_module_version": "^0.17",
      "model_name": "LeafletFullScreenControlModel",
      "state": {
       "_model_module_version": "^0.17",
       "_view_module_version": "^0.17",
       "options": [
        "position"
       ]
      }
     },
     "69e11db6cde347ada6d01d56bae4ee3b": {
      "model_module": "@jupyter-widgets/base",
      "model_module_version": "2.0.0",
      "model_name": "LayoutModel",
      "state": {
       "border_bottom": "1px solid black",
       "border_left": "1px solid black",
       "border_right": "1px solid black",
       "border_top": "1px solid black",
       "height": "355px",
       "width": "250px"
      }
     },
     "77c160ff9bb244db993fa839e8d3bb66": {
      "model_module": "@jupyter-widgets/output",
      "model_module_version": "1.0.0",
      "model_name": "OutputModel",
      "state": {
       "layout": "IPY_MODEL_a8fd9a229f93454babcd92d9c10b706f",
       "outputs": [
        {
         "data": {
          "application/vnd.jupyter.widget-view+json": {
           "model_id": "fadfdf1691594868b7815316e585ce66",
           "version_major": 2,
           "version_minor": 0
          },
          "text/plain": "GridBox(children=(Button(description='NATURE', layout=Layout(height='auto', width='auto'), style=ButtonStyle(b…"
         },
         "metadata": {},
         "output_type": "display_data"
        }
       ]
      }
     },
     "8132d292b8a547eb8dcce07a41f4780a": {
      "model_module": "@jupyter-widgets/base",
      "model_module_version": "2.0.0",
      "model_name": "LayoutModel",
      "state": {
       "border_bottom": "1px solid black",
       "border_left": "1px solid black",
       "border_right": "1px solid black",
       "border_top": "1px solid black",
       "min_height": "355px",
       "width": "250px"
      }
     },
     "843fbcca723a459994999d5f8b0978b8": {
      "model_module": "@jupyter-widgets/base",
      "model_module_version": "2.0.0",
      "model_name": "LayoutModel",
      "state": {}
     },
     "8976cd6ab34d434eadfe5c981f056046": {
      "model_module": "@jupyter-widgets/output",
      "model_module_version": "1.0.0",
      "model_name": "OutputModel",
      "state": {
       "layout": "IPY_MODEL_2a117a850a1c41f08241d764c9eed048"
      }
     },
     "8b2f19067974422692cb6bd0fa2333ec": {
      "model_module": "jupyter-leaflet",
      "model_module_version": "^0.17",
      "model_name": "LeafletFullScreenControlModel",
      "state": {
       "_model_module_version": "^0.17",
       "_view_module_version": "^0.17",
       "options": [
        "position"
       ]
      }
     },
     "8d4891667153490192f770ffa0207b72": {
      "model_module": "@jupyter-widgets/base",
      "model_module_version": "2.0.0",
      "model_name": "LayoutModel",
      "state": {}
     },
     "8d9bbfcce78343a5bcddfd6e12705b80": {
      "model_module": "jupyter-leaflet",
      "model_module_version": "^0.17",
      "model_name": "LeafletPopupModel",
      "state": {
       "_model_module_version": "^0.17",
       "_view_module_version": "^0.17",
       "auto_close": true,
       "auto_pan": true,
       "auto_pan_padding": [
        5,
        5
       ],
       "auto_pan_padding_bottom_right": null,
       "auto_pan_padding_top_left": null,
       "child": "IPY_MODEL_8976cd6ab34d434eadfe5c981f056046",
       "close_button": false,
       "close_on_escape_key": true,
       "keep_in_view": false,
       "location": [
        -18,
        -40
       ],
       "options": [
        "auto_close",
        "auto_pan",
        "auto_pan_padding",
        "auto_pan_padding_bottom_right",
        "auto_pan_padding_top_left",
        "close_button",
        "close_on_escape_key",
        "keep_in_view",
        "max_height",
        "max_width",
        "min_width"
       ]
      }
     },
     "90d858004925439ca344c47b39c193bb": {
      "model_module": "@jupyter-widgets/controls",
      "model_module_version": "2.0.0",
      "model_name": "ButtonStyleModel",
      "state": {
       "button_color": "darkseagreen",
       "font_family": null,
       "font_size": null,
       "font_style": null,
       "font_variant": null,
       "font_weight": null,
       "text_color": null,
       "text_decoration": null
      }
     },
     "96773a3c912a485f97796e3d57477a8f": {
      "model_module": "@jupyter-widgets/controls",
      "model_module_version": "2.0.0",
      "model_name": "GridBoxModel",
      "state": {
       "children": [
        "IPY_MODEL_ac13cf3245ec4729b506b1fe80ee21ab",
        "IPY_MODEL_f24ff86e37414575820c8fd6a5da87f7"
       ],
       "layout": "IPY_MODEL_fca134ba7c2e42ac8ac64bb1624368bb"
      }
     },
     "9b6686689ef74d7d933baf59161ca335": {
      "model_module": "jupyter-leaflet",
      "model_module_version": "^0.17",
      "model_name": "LeafletMapModel",
      "state": {
       "_model_module_version": "^0.17",
       "_view_module_version": "^0.17",
       "close_popup_on_click": false,
       "controls": [
        "IPY_MODEL_3454e7831e454b7da33c095513853b67",
        "IPY_MODEL_1b93ed019c884a6c8081a36d4c3029b0",
        "IPY_MODEL_53f4566b4c084f01a7632d8f6bd2acbf",
        "IPY_MODEL_201a440048c04ee68aa3423d789c924d"
       ],
       "default_style": "IPY_MODEL_ac3d87fbf9274642b310e0921bdb6095",
       "dragging_style": "IPY_MODEL_53689894e65c494691c000cb9db011b7",
       "east": null,
       "fullscreen": false,
       "interpolation": "bilinear",
       "layers": [
        "IPY_MODEL_24c1492d4afa4b1c9bc95cf171466a08",
        "IPY_MODEL_a91516c4ffb6409a85260e75091bd708",
        "IPY_MODEL_439cb44cb39d4221a2dc3034ed2c60fa"
       ],
       "layout": "IPY_MODEL_843fbcca723a459994999d5f8b0978b8",
       "modisdate": "2023-12-20",
       "north": -90,
       "options": [
        "bounce_at_zoom_limits",
        "box_zoom",
        "center",
        "close_popup_on_click",
        "double_click_zoom",
        "dragging",
        "fullscreen",
        "inertia",
        "inertia_deceleration",
        "inertia_max_speed",
        "interpolation",
        "keyboard",
        "keyboard_pan_offset",
        "keyboard_zoom_offset",
        "max_zoom",
        "min_zoom",
        "prefer_canvas",
        "scroll_wheel_zoom",
        "tap",
        "tap_tolerance",
        "touch_zoom",
        "world_copy_jump",
        "zoom",
        "zoom_animation_threshold",
        "zoom_delta",
        "zoom_snap"
       ],
       "prefer_canvas": false,
       "south": 90,
       "style": "IPY_MODEL_ac3d87fbf9274642b310e0921bdb6095",
       "west": null,
       "window_url": "http://localhost:8888/lab/tree/BOAMP_V2_230/050_CARTES_LEFLEAT/A_EXPLORER/_00_GRIDBOX_MOBILE_BOUTONS_LEAF.ipynb",
       "zoom": 4
      }
     },
     "a2cdf31ea1c548ab8ab55ca7e88c2b73": {
      "model_module": "@jupyter-widgets/base",
      "model_module_version": "2.0.0",
      "model_name": "LayoutModel",
      "state": {
       "height": "auto",
       "width": "auto"
      }
     },
     "a86d29655e9e4a96986d8dab0de90e59": {
      "model_module": "@jupyter-widgets/base",
      "model_module_version": "2.0.0",
      "model_name": "LayoutModel",
      "state": {
       "height": "auto",
       "width": "auto"
      }
     },
     "a8fd9a229f93454babcd92d9c10b706f": {
      "model_module": "@jupyter-widgets/base",
      "model_module_version": "2.0.0",
      "model_name": "LayoutModel",
      "state": {
       "border_bottom": "1px solid black",
       "border_left": "1px solid black",
       "border_right": "1px solid black",
       "border_top": "1px solid black",
       "min_height": "355px",
       "width": "250px"
      }
     },
     "a91516c4ffb6409a85260e75091bd708": {
      "model_module": "jupyter-leaflet",
      "model_module_version": "^0.17",
      "model_name": "LeafletPopupModel",
      "state": {
       "_model_module_version": "^0.17",
       "_view_module_version": "^0.17",
       "auto_close": true,
       "auto_pan": true,
       "auto_pan_padding": [
        5,
        5
       ],
       "auto_pan_padding_bottom_right": null,
       "auto_pan_padding_top_left": null,
       "child": "IPY_MODEL_d7f78490cf9a4f428a6c54276ea47c14",
       "close_button": false,
       "close_on_escape_key": true,
       "keep_in_view": false,
       "location": [
        -18,
        0
       ],
       "options": [
        "auto_close",
        "auto_pan",
        "auto_pan_padding",
        "auto_pan_padding_bottom_right",
        "auto_pan_padding_top_left",
        "close_button",
        "close_on_escape_key",
        "keep_in_view",
        "max_height",
        "max_width",
        "min_width"
       ]
      }
     },
     "ac13cf3245ec4729b506b1fe80ee21ab": {
      "model_module": "@jupyter-widgets/controls",
      "model_module_version": "2.0.0",
      "model_name": "ButtonModel",
      "state": {
       "description": "NATURE",
       "layout": "IPY_MODEL_fb756174bd864ac5ab91993de8249f9f",
       "style": "IPY_MODEL_36665ea294a242fabfc28fff19e02358",
       "tooltip": null
      }
     },
     "ac3d87fbf9274642b310e0921bdb6095": {
      "model_module": "jupyter-leaflet",
      "model_module_version": "^0.17",
      "model_name": "LeafletMapStyleModel",
      "state": {
       "_model_module_version": "^0.17"
      }
     },
     "b18174c1b20f43df86a73eee9a12d9cf": {
      "model_module": "@jupyter-widgets/controls",
      "model_module_version": "2.0.0",
      "model_name": "ButtonModel",
      "state": {
       "description": "PÉRIMÈTRE",
       "layout": "IPY_MODEL_4076af0f2c6048fb856a515ffd979004",
       "style": "IPY_MODEL_90d858004925439ca344c47b39c193bb",
       "tooltip": null
      }
     },
     "b3b30657e2874e34bd45f8878f2b40eb": {
      "model_module": "jupyter-leaflet",
      "model_module_version": "^0.17",
      "model_name": "LeafletZoomControlModel",
      "state": {
       "_model_module_version": "^0.17",
       "_view_module_version": "^0.17",
       "options": [
        "position",
        "zoom_in_text",
        "zoom_in_title",
        "zoom_out_text",
        "zoom_out_title"
       ]
      }
     },
     "b5dd367f3b914ad3977588658e90fbb5": {
      "model_module": "jupyter-leaflet",
      "model_module_version": "^0.17",
      "model_name": "LeafletPopupModel",
      "state": {
       "_model_module_version": "^0.17",
       "_view_module_version": "^0.17",
       "auto_close": true,
       "auto_pan": true,
       "auto_pan_padding": [
        5,
        5
       ],
       "auto_pan_padding_bottom_right": null,
       "auto_pan_padding_top_left": null,
       "child": "IPY_MODEL_8976cd6ab34d434eadfe5c981f056046",
       "close_button": false,
       "close_on_escape_key": true,
       "keep_in_view": false,
       "location": [
        -18,
        0
       ],
       "options": [
        "auto_close",
        "auto_pan",
        "auto_pan_padding",
        "auto_pan_padding_bottom_right",
        "auto_pan_padding_top_left",
        "close_button",
        "close_on_escape_key",
        "keep_in_view",
        "max_height",
        "max_width",
        "min_width"
       ]
      }
     },
     "bb1cb5e949f440dd8c341f9957148f1c": {
      "model_module": "@jupyter-widgets/output",
      "model_module_version": "1.0.0",
      "model_name": "OutputModel",
      "state": {
       "layout": "IPY_MODEL_8132d292b8a547eb8dcce07a41f4780a",
       "outputs": [
        {
         "data": {
          "application/vnd.jupyter.widget-view+json": {
           "model_id": "96773a3c912a485f97796e3d57477a8f",
           "version_major": 2,
           "version_minor": 0
          },
          "text/plain": "GridBox(children=(Button(description='NATURE', layout=Layout(height='auto', width='auto'), style=ButtonStyle(b…"
         },
         "metadata": {},
         "output_type": "display_data"
        }
       ]
      }
     },
     "c3376f23e2c946cdb9aae9d879f399e9": {
      "model_module": "@jupyter-widgets/controls",
      "model_module_version": "2.0.0",
      "model_name": "ButtonStyleModel",
      "state": {
       "button_color": "darkseagreen",
       "font_family": null,
       "font_size": null,
       "font_style": null,
       "font_variant": null,
       "font_weight": null,
       "text_color": null,
       "text_decoration": null
      }
     },
     "caddf104701f4e39b93be7958240bdc1": {
      "model_module": "@jupyter-widgets/base",
      "model_module_version": "2.0.0",
      "model_name": "LayoutModel",
      "state": {
       "grid_gap": "5px 10px",
       "grid_template_columns": "100%",
       "grid_template_rows": "auto",
       "width": "100%"
      }
     },
     "d1f11ab2ffac4cd6a15bafd3ac90e0a0": {
      "model_module": "jupyter-leaflet",
      "model_module_version": "^0.17",
      "model_name": "LeafletMapStyleModel",
      "state": {
       "_model_module_version": "^0.17"
      }
     },
     "d7f78490cf9a4f428a6c54276ea47c14": {
      "model_module": "@jupyter-widgets/output",
      "model_module_version": "1.0.0",
      "model_name": "OutputModel",
      "state": {
       "layout": "IPY_MODEL_69e11db6cde347ada6d01d56bae4ee3b"
      }
     },
     "e96ac008ab5247d2803153eaeb6172f4": {
      "model_module": "jupyter-leaflet",
      "model_module_version": "^0.17",
      "model_name": "LeafletTileLayerModel",
      "state": {
       "_model_module_version": "^0.17",
       "_view_module_version": "^0.17",
       "attribution": "Map tiles by <a href=\"http://stamen.com\">Stamen Design</a>, <a href=\"http://creativecommons.org/licenses/by/3.0\">CC BY 3.0</a> &mdash; Map data &copy; <a href=\"https://www.openstreetmap.org/copyright\">OpenStreetMap</a> contributors",
       "base": true,
       "name": "Stamen.Terrain",
       "options": [
        "attribution",
        "bounds",
        "detect_retina",
        "max_native_zoom",
        "max_zoom",
        "min_native_zoom",
        "min_zoom",
        "no_wrap",
        "tile_size",
        "tms",
        "zoom_offset"
       ],
       "url": "https://stamen-tiles-a.a.ssl.fastly.net/terrain/{z}/{x}/{y}.png"
      }
     },
     "ec3fa4a124bc44debb742b39f640ce26": {
      "model_module": "jupyter-leaflet",
      "model_module_version": "^0.17",
      "model_name": "LeafletMapModel",
      "state": {
       "_model_module_version": "^0.17",
       "_view_module_version": "^0.17",
       "bottom": 2248,
       "close_popup_on_click": false,
       "controls": [
        "IPY_MODEL_b3b30657e2874e34bd45f8878f2b40eb",
        "IPY_MODEL_2b3e2d0b1e924323be6445769a12c78b",
        "IPY_MODEL_8b2f19067974422692cb6bd0fa2333ec",
        "IPY_MODEL_04433f519c834c5cae9b11415767879c"
       ],
       "default_style": "IPY_MODEL_d1f11ab2ffac4cd6a15bafd3ac90e0a0",
       "dragging_style": "IPY_MODEL_3cb19b8abb004786bd83fb49b3f7b34e",
       "east": 29.794921875000004,
       "fullscreen": false,
       "interpolation": "bilinear",
       "layers": [
        "IPY_MODEL_e96ac008ab5247d2803153eaeb6172f4",
        "IPY_MODEL_b5dd367f3b914ad3977588658e90fbb5",
        "IPY_MODEL_8d9bbfcce78343a5bcddfd6e12705b80"
       ],
       "layout": "IPY_MODEL_8d4891667153490192f770ffa0207b72",
       "left": 1709,
       "modisdate": "2023-12-20",
       "north": 17.308687886770034,
       "options": [
        "bounce_at_zoom_limits",
        "box_zoom",
        "center",
        "close_popup_on_click",
        "double_click_zoom",
        "dragging",
        "fullscreen",
        "inertia",
        "inertia_deceleration",
        "inertia_max_speed",
        "interpolation",
        "keyboard",
        "keyboard_pan_offset",
        "keyboard_zoom_offset",
        "max_zoom",
        "min_zoom",
        "prefer_canvas",
        "scroll_wheel_zoom",
        "tap",
        "tap_tolerance",
        "touch_zoom",
        "world_copy_jump",
        "zoom",
        "zoom_animation_threshold",
        "zoom_delta",
        "zoom_snap"
       ],
       "prefer_canvas": false,
       "right": 2387,
       "south": -17.308687886770024,
       "style": "IPY_MODEL_d1f11ab2ffac4cd6a15bafd3ac90e0a0",
       "top": 1848,
       "west": -29.794921875000004,
       "window_url": "http://localhost:8888/lab/tree/BOAMP_V2_230/050_CARTES_LEFLEAT/A_EXPLORER/_00_GRIDBOX_MOBILE_BOUTONS_LEAF.ipynb",
       "zoom": 4
      }
     },
     "f0671def97134c8d972ff209caedcbc7": {
      "model_module": "@jupyter-widgets/controls",
      "model_module_version": "2.0.0",
      "model_name": "ButtonModel",
      "state": {
       "description": "NATURE",
       "layout": "IPY_MODEL_a2cdf31ea1c548ab8ab55ca7e88c2b73",
       "style": "IPY_MODEL_c3376f23e2c946cdb9aae9d879f399e9",
       "tooltip": null
      }
     },
     "f24ff86e37414575820c8fd6a5da87f7": {
      "model_module": "@jupyter-widgets/controls",
      "model_module_version": "2.0.0",
      "model_name": "ButtonModel",
      "state": {
       "description": "PÉRIMÈTRE",
       "layout": "IPY_MODEL_a86d29655e9e4a96986d8dab0de90e59",
       "style": "IPY_MODEL_48c67e6b993e45d9b2d33700e3d4281e",
       "tooltip": null
      }
     },
     "fadfdf1691594868b7815316e585ce66": {
      "model_module": "@jupyter-widgets/controls",
      "model_module_version": "2.0.0",
      "model_name": "GridBoxModel",
      "state": {
       "children": [
        "IPY_MODEL_f0671def97134c8d972ff209caedcbc7",
        "IPY_MODEL_b18174c1b20f43df86a73eee9a12d9cf"
       ],
       "layout": "IPY_MODEL_caddf104701f4e39b93be7958240bdc1"
      }
     },
     "fb756174bd864ac5ab91993de8249f9f": {
      "model_module": "@jupyter-widgets/base",
      "model_module_version": "2.0.0",
      "model_name": "LayoutModel",
      "state": {
       "height": "auto",
       "width": "auto"
      }
     },
     "fca134ba7c2e42ac8ac64bb1624368bb": {
      "model_module": "@jupyter-widgets/base",
      "model_module_version": "2.0.0",
      "model_name": "LayoutModel",
      "state": {
       "grid_gap": "5px 10px",
       "grid_template_columns": "100%",
       "grid_template_rows": "auto",
       "width": "100%"
      }
     }
    },
    "version_major": 2,
    "version_minor": 0
   }
  }
 },
 "nbformat": 4,
 "nbformat_minor": 4
}
