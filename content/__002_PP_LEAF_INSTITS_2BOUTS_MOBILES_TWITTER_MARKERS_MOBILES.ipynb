{
 "cells": [
  {
   "cell_type": "code",
   "execution_count": 1,
   "metadata": {},
   "outputs": [],
   "source": [
    "#from semaine52lab.configs import *\n",
    "import IPython.display\n",
    "\n",
    "\n",
    "import ipyleaflet as leaf\n",
    "import ipywidgets as wg\n",
    "from ipyleaflet import Map, Marker, Popup, FullScreenControl, WidgetControl, basemaps, basemap_to_tiles\n",
    "from ipywidgets import interact, interactive, IntSlider, HBox, VBox, HTML, Layout, Output, Box\n"
   ]
  },
  {
   "cell_type": "code",
   "execution_count": 2,
   "metadata": {},
   "outputs": [],
   "source": [
    "out_mapCE = wg.Output(layout=dict(border='1px solid black'))\n",
    "out_mapCC = wg.Output(layout=dict(border='1px solid black'))\n",
    "\n",
    "\n",
    "s_cons_etat = (\"\"\"\n",
    "<a class=\"twitter-timeline\" data-chrome=\"\"\n",
    "data-link-color=\"#ffcc00\" data-theme=\"dark\"\n",
    "height=\"500\" width=\"500\"\n",
    "href=\"https://twitter.com/Conseil_Etat\"></a>\n",
    "<script async src=\"//platform.twitter.com/widgets.js\" charset=\"utf-8\"></script>\n",
    "\"\"\")\n",
    "\n",
    "s_cons_constit = (\"\"\"\n",
    "<a class=\"twitter-timeline\" data-chrome=\"\"\n",
    "data-link-color=\"#ffcc00\" data-theme=\"dark\"\n",
    "height=\"500\" width=\"500\"\n",
    "href=\"https://twitter.com/conseil_constit\"></a>\n",
    "<script async src=\"//platform.twitter.com/widgets.js\" charset=\"utf-8\"></script>\n",
    "\"\"\")\n",
    "\n",
    "class creer_une_repr_html_(object):\n",
    "        def __init__(self, embed_str=None):\n",
    "            self.embed_str = embed_str\n",
    "        \n",
    "        def _repr_html_(self):\n",
    "            return self.embed_str\n",
    "        \n",
    "with out_mapCC:\n",
    "    creer_une_repr_html_(s_cons_constit)\n",
    "    \n",
    "with out_mapCE:\n",
    "    creer_une_repr_html_(s_cons_etat)\n",
    "\n"
   ]
  },
  {
   "cell_type": "code",
   "execution_count": 3,
   "metadata": {},
   "outputs": [],
   "source": [
    "# Carte\n",
    "m = leaf.Map(center=(0.0,0.0), zoom=4, close_popup_on_click=False)\n",
    "\n",
    "# Layer\n",
    "\n",
    "dark_matter_layer = basemap_to_tiles(basemaps.NASAGIBS.ViirsEarthAtNight2012)\n",
    "m.add_layer(dark_matter_layer)\n",
    "\n",
    "# Markers\n",
    "mk1 = leaf.Marker(location=(m.center[0]-20, m.center[1]), popup=wg.HTML('pop_inter1'), title='title1')\n",
    "m.add_layer(mk1)\n",
    "\n",
    "mk2 = leaf.Marker(location=(m.center[0]-20, m.center[1]-80.0), popup=wg.HTML('pop_inter2'),  title='title2')\n",
    "m.add_layer(mk2)\n",
    "\n",
    "\n",
    "# Boutons\n",
    "## Bout1\n",
    "bout1 = wg.Button(description=\"Conseil d'État\")\n",
    "widget_bout1 = WidgetControl(widget=bout1, position='topright')\n",
    "m.add_control(widget_bout1)\n",
    "\n",
    "def on_button1_clicked(b):\n",
    "    m.center = mk1.location\n",
    "bout1.on_click(on_button1_clicked)\n",
    "\n",
    "\n",
    "##Bout2\n",
    "bout2 = wg.Button(description='Conseil constitutionnel')\n",
    "widget_bout2 = WidgetControl(widget=bout2, position='topright')\n",
    "m.add_control(widget_bout2)\n",
    "\n",
    "def on_button2_clicked(b):\n",
    "    m.center = mk2.location\n",
    "bout2.on_click(on_button2_clicked)\n",
    "    \n",
    "# Popups\n",
    "pop1 = leaf.Popup(location=(mk1.location[0]-15.0,mk1.location[1]),\n",
    "                  child=wg.VBox([wg.HTML(value='Conseil d\\'État'), out_mapCE]), auto_close=False,\n",
    "                  close_on_escape_key=False, close_button=False,\n",
    "                  keep_in_view=True, min_width=400,)\n",
    "m.add_layer(pop1)\n",
    "\n",
    "pop2 = leaf.Popup(location=(mk2.location[0]-15.0,mk2.location[1]),\n",
    "                  child=wg.VBox([wg.HTML(value='Conseil constitutionnel'), out_mapCC]), auto_close=False,\n",
    "                  close_on_escape_key=False, close_button=False,\n",
    "                  keep_in_view=True, min_width=400,)\n",
    "m.add_layer(pop2)\n",
    "\n",
    "# contrôles\n",
    "m.add_control(FullScreenControl())"
   ]
  },
  {
   "cell_type": "code",
   "execution_count": 4,
   "metadata": {},
   "outputs": [
    {
     "data": {
      "application/vnd.jupyter.widget-view+json": {
       "model_id": "322a3f175d30477b95332aaed93992ec",
       "version_major": 2,
       "version_minor": 0
      },
      "text/plain": [
       "Output()"
      ]
     },
     "metadata": {},
     "output_type": "display_data"
    }
   ],
   "source": [
    "# widget OUT\n",
    "out = wg.Output()\n",
    "with out:\n",
    "    display(m)\n",
    "\n",
    "display(out)"
   ]
  }
 ],
 "metadata": {
  "kernelspec": {
   "display_name": "Python 3 (ipykernel)",
   "language": "python",
   "name": "python3"
  },
  "language_info": {
   "codemirror_mode": {
    "name": "ipython",
    "version": 3
   },
   "file_extension": ".py",
   "mimetype": "text/x-python",
   "name": "python",
   "nbconvert_exporter": "python",
   "pygments_lexer": "ipython3",
   "version": "3.11.5"
  },
  "widgets": {
   "application/vnd.jupyter.widget-state+json": {
    "state": {
     "06f4157fe4064faab8fa5e0b311afd28": {
      "model_module": "@jupyter-widgets/controls",
      "model_module_version": "2.0.0",
      "model_name": "HTMLStyleModel",
      "state": {
       "description_width": "",
       "font_size": null,
       "text_color": null
      }
     },
     "0a411b60dfb744728dc17ffecc46fa4d": {
      "model_module": "@jupyter-widgets/base",
      "model_module_version": "2.0.0",
      "model_name": "LayoutModel",
      "state": {}
     },
     "0cfbd5b8bdff4adbbf4553f1339f7b20": {
      "model_module": "jupyter-leaflet",
      "model_module_version": "^0.17",
      "model_name": "LeafletPopupModel",
      "state": {
       "_model_module_version": "^0.17",
       "_view_module_version": "^0.17",
       "auto_close": false,
       "auto_pan": true,
       "auto_pan_padding": [
        5,
        5
       ],
       "auto_pan_padding_bottom_right": null,
       "auto_pan_padding_top_left": null,
       "child": "IPY_MODEL_e665dd3730964171bd24bf3c24619f59",
       "close_button": false,
       "close_on_escape_key": false,
       "keep_in_view": true,
       "location": [
        -35,
        0
       ],
       "min_width": 400,
       "options": [
        "auto_close",
        "auto_pan",
        "auto_pan_padding",
        "auto_pan_padding_bottom_right",
        "auto_pan_padding_top_left",
        "close_button",
        "close_on_escape_key",
        "keep_in_view",
        "max_height",
        "max_width",
        "min_width"
       ]
      }
     },
     "181c37098ddd40debfafdc2d1bacf870": {
      "model_module": "jupyter-leaflet",
      "model_module_version": "^0.17",
      "model_name": "LeafletWidgetControlModel",
      "state": {
       "_model_module": "jupyter-leaflet",
       "_model_module_version": "^0.17",
       "_view_count": null,
       "_view_module": "jupyter-leaflet",
       "_view_module_version": "^0.17",
       "options": [
        "position",
        "transparent_bg"
       ],
       "position": "topright",
       "widget": "IPY_MODEL_24bd714cf3a24b5dabc31cba9da1ea78"
      }
     },
     "199ba48585c441b18586dbfe0c3d8139": {
      "model_module": "jupyter-leaflet",
      "model_module_version": "^0.17",
      "model_name": "LeafletPopupModel",
      "state": {
       "_model_module_version": "^0.17",
       "_view_module_version": "^0.17",
       "auto_close": false,
       "auto_pan": true,
       "auto_pan_padding": [
        5,
        5
       ],
       "auto_pan_padding_bottom_right": null,
       "auto_pan_padding_top_left": null,
       "child": "IPY_MODEL_76f815aca9054555a9492ef7e73a60fe",
       "close_button": false,
       "close_on_escape_key": false,
       "keep_in_view": true,
       "location": [
        -35,
        -80
       ],
       "min_width": 400,
       "options": [
        "auto_close",
        "auto_pan",
        "auto_pan_padding",
        "auto_pan_padding_bottom_right",
        "auto_pan_padding_top_left",
        "close_button",
        "close_on_escape_key",
        "keep_in_view",
        "max_height",
        "max_width",
        "min_width"
       ]
      }
     },
     "1a2d8d29cdea4f98b5068ec2c3a81f20": {
      "model_module": "jupyter-leaflet",
      "model_module_version": "^0.17",
      "model_name": "LeafletMarkerModel",
      "state": {
       "_model_module_version": "^0.17",
       "_view_module_version": "^0.17",
       "location": [
        -20,
        -80
       ],
       "options": [
        "alt",
        "draggable",
        "keyboard",
        "rise_offset",
        "rise_on_hover",
        "rotation_angle",
        "rotation_origin",
        "title",
        "z_index_offset"
       ],
       "popup": "IPY_MODEL_6f4bc9a6cb0d47e1b469d90d8bddead9",
       "title": "title2"
      }
     },
     "24bd714cf3a24b5dabc31cba9da1ea78": {
      "model_module": "@jupyter-widgets/controls",
      "model_module_version": "2.0.0",
      "model_name": "ButtonModel",
      "state": {
       "description": "Conseil d'État",
       "layout": "IPY_MODEL_9175e92b3a9c40699541abcc445de458",
       "style": "IPY_MODEL_39bc23a4415c47868b72c8143cd24212",
       "tooltip": null
      }
     },
     "2ec848de420f4ae4b2b9439c2a6fb8d5": {
      "model_module": "@jupyter-widgets/base",
      "model_module_version": "2.0.0",
      "model_name": "LayoutModel",
      "state": {}
     },
     "322a3f175d30477b95332aaed93992ec": {
      "model_module": "@jupyter-widgets/output",
      "model_module_version": "1.0.0",
      "model_name": "OutputModel",
      "state": {
       "layout": "IPY_MODEL_d6d62989967342d5bb3eaed7e3ab0202",
       "outputs": [
        {
         "data": {
          "application/vnd.jupyter.widget-view+json": {
           "model_id": "d3f4a6e9e57c43e2b58fd9404157417e",
           "version_major": 2,
           "version_minor": 0
          },
          "text/plain": "Map(center=[0.0, 0.0], close_popup_on_click=False, controls=(ZoomControl(options=['position', 'zoom_in_text', …"
         },
         "metadata": {},
         "output_type": "display_data"
        }
       ]
      }
     },
     "39bc23a4415c47868b72c8143cd24212": {
      "model_module": "@jupyter-widgets/controls",
      "model_module_version": "2.0.0",
      "model_name": "ButtonStyleModel",
      "state": {
       "font_family": null,
       "font_size": null,
       "font_style": null,
       "font_variant": null,
       "font_weight": null,
       "text_color": null,
       "text_decoration": null
      }
     },
     "3d86c5f5c696423e8c846a701ba0317f": {
      "model_module": "@jupyter-widgets/controls",
      "model_module_version": "2.0.0",
      "model_name": "HTMLModel",
      "state": {
       "layout": "IPY_MODEL_5570dd89614147da96912e06ee4f5e93",
       "style": "IPY_MODEL_cb1b380ba342431c990a6474dcc41287",
       "value": "Conseil d'État"
      }
     },
     "4350bb6cda224902993309d378a7123e": {
      "model_module": "@jupyter-widgets/output",
      "model_module_version": "1.0.0",
      "model_name": "OutputModel",
      "state": {
       "layout": "IPY_MODEL_c63fc62c967b4f0393e5a2438cee48a9"
      }
     },
     "449fdcbc31db419a8b177fdec48bbc29": {
      "model_module": "jupyter-leaflet",
      "model_module_version": "^0.17",
      "model_name": "LeafletMapStyleModel",
      "state": {
       "_model_module_version": "^0.17"
      }
     },
     "462fd07c3bca4919b5f182438200bc17": {
      "model_module": "jupyter-leaflet",
      "model_module_version": "^0.17",
      "model_name": "LeafletAttributionControlModel",
      "state": {
       "_model_module_version": "^0.17",
       "_view_module_version": "^0.17",
       "options": [
        "position",
        "prefix"
       ],
       "position": "bottomright",
       "prefix": "ipyleaflet"
      }
     },
     "48f2de6ec19f409d9c724301f546906f": {
      "model_module": "jupyter-leaflet",
      "model_module_version": "^0.17",
      "model_name": "LeafletMapStyleModel",
      "state": {
       "_model_module_version": "^0.17",
       "cursor": "move"
      }
     },
     "4bf77f0791ee46b6ab99b519c1d6971c": {
      "model_module": "jupyter-leaflet",
      "model_module_version": "^0.17",
      "model_name": "LeafletTileLayerModel",
      "state": {
       "_model_module_version": "^0.17",
       "_view_module_version": "^0.17",
       "attribution": "Imagery provided by services from the Global Imagery Browse Services (GIBS), operated by the NASA/GSFC/Earth Science Data and Information System (<a href=\"https://earthdata.nasa.gov\">ESDIS</a>) with funding provided by NASA/HQ.",
       "max_zoom": 8,
       "min_zoom": 1,
       "name": "NASAGIBS.ViirsEarthAtNight2012",
       "options": [
        "attribution",
        "bounds",
        "detect_retina",
        "max_native_zoom",
        "max_zoom",
        "min_native_zoom",
        "min_zoom",
        "no_wrap",
        "tile_size",
        "tms",
        "zoom_offset"
       ],
       "url": "https://map1.vis.earthdata.nasa.gov/wmts-webmerc/VIIRS_CityLights_2012/default/2023-12-21/GoogleMapsCompatible_Level8/{z}/{y}/{x}.jpg"
      }
     },
     "5129612af619426fb3a3ef381b3f1366": {
      "model_module": "@jupyter-widgets/controls",
      "model_module_version": "2.0.0",
      "model_name": "HTMLModel",
      "state": {
       "layout": "IPY_MODEL_9a7ea588f0d447eb8fe3bf01c837e4ae",
       "style": "IPY_MODEL_ecba784846ba4af2903356c822257431",
       "value": "Conseil constitutionnel"
      }
     },
     "51eb7f02251740a8a6b2a95249781401": {
      "model_module": "@jupyter-widgets/controls",
      "model_module_version": "2.0.0",
      "model_name": "ButtonStyleModel",
      "state": {
       "font_family": null,
       "font_size": null,
       "font_style": null,
       "font_variant": null,
       "font_weight": null,
       "text_color": null,
       "text_decoration": null
      }
     },
     "52c78b0b744c4b04a56390133cc17635": {
      "model_module": "@jupyter-widgets/base",
      "model_module_version": "2.0.0",
      "model_name": "LayoutModel",
      "state": {}
     },
     "5570dd89614147da96912e06ee4f5e93": {
      "model_module": "@jupyter-widgets/base",
      "model_module_version": "2.0.0",
      "model_name": "LayoutModel",
      "state": {}
     },
     "5a8e20c3d1734c778fbcf9e064f127d7": {
      "model_module": "@jupyter-widgets/base",
      "model_module_version": "2.0.0",
      "model_name": "LayoutModel",
      "state": {}
     },
     "6f4bc9a6cb0d47e1b469d90d8bddead9": {
      "model_module": "@jupyter-widgets/controls",
      "model_module_version": "2.0.0",
      "model_name": "HTMLModel",
      "state": {
       "layout": "IPY_MODEL_ec07a1a3e6d34dc4920ff3b1e9277f4b",
       "style": "IPY_MODEL_06f4157fe4064faab8fa5e0b311afd28",
       "value": "pop_inter2"
      }
     },
     "71e2929c220441be88aa70d39d80defa": {
      "model_module": "jupyter-leaflet",
      "model_module_version": "^0.17",
      "model_name": "LeafletMarkerModel",
      "state": {
       "_model_module_version": "^0.17",
       "_view_module_version": "^0.17",
       "location": [
        -20,
        0
       ],
       "options": [
        "alt",
        "draggable",
        "keyboard",
        "rise_offset",
        "rise_on_hover",
        "rotation_angle",
        "rotation_origin",
        "title",
        "z_index_offset"
       ],
       "popup": "IPY_MODEL_900e6cb94ab34af790eb5cca4098e321",
       "title": "title1"
      }
     },
     "76f815aca9054555a9492ef7e73a60fe": {
      "model_module": "@jupyter-widgets/controls",
      "model_module_version": "2.0.0",
      "model_name": "VBoxModel",
      "state": {
       "children": [
        "IPY_MODEL_5129612af619426fb3a3ef381b3f1366",
        "IPY_MODEL_cb4836b5a1d140c58dc70664cff13d3c"
       ],
       "layout": "IPY_MODEL_2ec848de420f4ae4b2b9439c2a6fb8d5"
      }
     },
     "8293a7b24d644db1989a4364efb380c8": {
      "model_module": "jupyter-leaflet",
      "model_module_version": "^0.17",
      "model_name": "LeafletMapStyleModel",
      "state": {
       "_model_module_version": "^0.17"
      }
     },
     "863c54913ab545f7a3106e20ed18fb1e": {
      "model_module": "jupyter-leaflet",
      "model_module_version": "^0.17",
      "model_name": "LeafletTileLayerModel",
      "state": {
       "_model_module_version": "^0.17",
       "_view_module_version": "^0.17",
       "attribution": "&copy; <a href=\"https://www.openstreetmap.org/copyright\">OpenStreetMap</a> contributors",
       "base": true,
       "max_zoom": 19,
       "min_zoom": 1,
       "name": "OpenStreetMap.Mapnik",
       "options": [
        "attribution",
        "bounds",
        "detect_retina",
        "max_native_zoom",
        "max_zoom",
        "min_native_zoom",
        "min_zoom",
        "no_wrap",
        "tile_size",
        "tms",
        "zoom_offset"
       ],
       "url": "https://tile.openstreetmap.org/{z}/{x}/{y}.png"
      }
     },
     "87ddf460c634452294ba093a4f5793ab": {
      "model_module": "@jupyter-widgets/controls",
      "model_module_version": "2.0.0",
      "model_name": "HTMLStyleModel",
      "state": {
       "description_width": "",
       "font_size": null,
       "text_color": null
      }
     },
     "900e6cb94ab34af790eb5cca4098e321": {
      "model_module": "@jupyter-widgets/controls",
      "model_module_version": "2.0.0",
      "model_name": "HTMLModel",
      "state": {
       "layout": "IPY_MODEL_52c78b0b744c4b04a56390133cc17635",
       "style": "IPY_MODEL_87ddf460c634452294ba093a4f5793ab",
       "value": "pop_inter1"
      }
     },
     "9175e92b3a9c40699541abcc445de458": {
      "model_module": "@jupyter-widgets/base",
      "model_module_version": "2.0.0",
      "model_name": "LayoutModel",
      "state": {}
     },
     "9a7ea588f0d447eb8fe3bf01c837e4ae": {
      "model_module": "@jupyter-widgets/base",
      "model_module_version": "2.0.0",
      "model_name": "LayoutModel",
      "state": {}
     },
     "a1a2a5a132d34f4497c5e106deeec390": {
      "model_module": "jupyter-leaflet",
      "model_module_version": "^0.17",
      "model_name": "LeafletZoomControlModel",
      "state": {
       "_model_module_version": "^0.17",
       "_view_module_version": "^0.17",
       "options": [
        "position",
        "zoom_in_text",
        "zoom_in_title",
        "zoom_out_text",
        "zoom_out_title"
       ]
      }
     },
     "acbbe7a47f394b6cb6f4c79a0ccbcadb": {
      "model_module": "@jupyter-widgets/base",
      "model_module_version": "2.0.0",
      "model_name": "LayoutModel",
      "state": {}
     },
     "c63fc62c967b4f0393e5a2438cee48a9": {
      "model_module": "@jupyter-widgets/base",
      "model_module_version": "2.0.0",
      "model_name": "LayoutModel",
      "state": {
       "border_bottom": "1px solid black",
       "border_left": "1px solid black",
       "border_right": "1px solid black",
       "border_top": "1px solid black"
      }
     },
     "c7a4cb9d5cd64201a61149fed9b3df67": {
      "model_module": "@jupyter-widgets/base",
      "model_module_version": "2.0.0",
      "model_name": "LayoutModel",
      "state": {
       "border_bottom": "1px solid black",
       "border_left": "1px solid black",
       "border_right": "1px solid black",
       "border_top": "1px solid black"
      }
     },
     "cb1b380ba342431c990a6474dcc41287": {
      "model_module": "@jupyter-widgets/controls",
      "model_module_version": "2.0.0",
      "model_name": "HTMLStyleModel",
      "state": {
       "description_width": "",
       "font_size": null,
       "text_color": null
      }
     },
     "cb4836b5a1d140c58dc70664cff13d3c": {
      "model_module": "@jupyter-widgets/output",
      "model_module_version": "1.0.0",
      "model_name": "OutputModel",
      "state": {
       "layout": "IPY_MODEL_c7a4cb9d5cd64201a61149fed9b3df67"
      }
     },
     "cde9a74e813f46c4be3da63cc99d8ffd": {
      "model_module": "jupyter-leaflet",
      "model_module_version": "^0.17",
      "model_name": "LeafletFullScreenControlModel",
      "state": {
       "_model_module_version": "^0.17",
       "_view_module_version": "^0.17",
       "options": [
        "position"
       ]
      }
     },
     "d096c78f1ac04254af73af741fedd3d5": {
      "model_module": "@jupyter-widgets/controls",
      "model_module_version": "2.0.0",
      "model_name": "ButtonModel",
      "state": {
       "description": "Conseil constitutionnel",
       "layout": "IPY_MODEL_5a8e20c3d1734c778fbcf9e064f127d7",
       "style": "IPY_MODEL_51eb7f02251740a8a6b2a95249781401",
       "tooltip": null
      }
     },
     "d3f4a6e9e57c43e2b58fd9404157417e": {
      "model_module": "jupyter-leaflet",
      "model_module_version": "^0.17",
      "model_name": "LeafletMapModel",
      "state": {
       "_model_module_version": "^0.17",
       "_view_module_version": "^0.17",
       "bottom": 2486,
       "center": [
        -20.46818922264095,
        -57.48046875000001
       ],
       "close_popup_on_click": false,
       "controls": [
        "IPY_MODEL_a1a2a5a132d34f4497c5e106deeec390",
        "IPY_MODEL_462fd07c3bca4919b5f182438200bc17",
        "IPY_MODEL_181c37098ddd40debfafdc2d1bacf870",
        "IPY_MODEL_e23080013d344eedb4556b6d4bd22ba2",
        "IPY_MODEL_cde9a74e813f46c4be3da63cc99d8ffd"
       ],
       "default_style": "IPY_MODEL_449fdcbc31db419a8b177fdec48bbc29",
       "dragging_style": "IPY_MODEL_48f2de6ec19f409d9c724301f546906f",
       "east": -14.853515625000002,
       "fullscreen": false,
       "interpolation": "bilinear",
       "layers": [
        "IPY_MODEL_863c54913ab545f7a3106e20ed18fb1e",
        "IPY_MODEL_4bf77f0791ee46b6ab99b519c1d6971c",
        "IPY_MODEL_71e2929c220441be88aa70d39d80defa",
        "IPY_MODEL_1a2d8d29cdea4f98b5068ec2c3a81f20",
        "IPY_MODEL_0cfbd5b8bdff4adbbf4553f1339f7b20",
        "IPY_MODEL_199ba48585c441b18586dbfe0c3d8139"
       ],
       "layout": "IPY_MODEL_0a411b60dfb744728dc17ffecc46fa4d",
       "left": 909,
       "modisdate": "2023-12-21",
       "north": -3.337953961416472,
       "options": [
        "bounce_at_zoom_limits",
        "box_zoom",
        "center",
        "close_popup_on_click",
        "double_click_zoom",
        "dragging",
        "fullscreen",
        "inertia",
        "inertia_deceleration",
        "inertia_max_speed",
        "interpolation",
        "keyboard",
        "keyboard_pan_offset",
        "keyboard_zoom_offset",
        "max_zoom",
        "min_zoom",
        "prefer_canvas",
        "scroll_wheel_zoom",
        "tap",
        "tap_tolerance",
        "touch_zoom",
        "world_copy_jump",
        "zoom",
        "zoom_animation_threshold",
        "zoom_delta",
        "zoom_snap"
       ],
       "prefer_canvas": false,
       "right": 1879,
       "south": -35.88905007936092,
       "style": "IPY_MODEL_449fdcbc31db419a8b177fdec48bbc29",
       "top": 2086,
       "west": -100.10742187500001,
       "window_url": "http://localhost:8888/lab/tree/BOAMP_V2_230/050_CARTES_LEFLEAT/A_EXPLORER/__002_PP_LEAF_INSTITS_2BOUTS_MOBILES_TWITTER_MARKERS_MOBILES.ipynb",
       "zoom": 4
      }
     },
     "d6d62989967342d5bb3eaed7e3ab0202": {
      "model_module": "@jupyter-widgets/base",
      "model_module_version": "2.0.0",
      "model_name": "LayoutModel",
      "state": {}
     },
     "e23080013d344eedb4556b6d4bd22ba2": {
      "model_module": "jupyter-leaflet",
      "model_module_version": "^0.17",
      "model_name": "LeafletWidgetControlModel",
      "state": {
       "_model_module": "jupyter-leaflet",
       "_model_module_version": "^0.17",
       "_view_count": null,
       "_view_module": "jupyter-leaflet",
       "_view_module_version": "^0.17",
       "options": [
        "position",
        "transparent_bg"
       ],
       "position": "topright",
       "widget": "IPY_MODEL_d096c78f1ac04254af73af741fedd3d5"
      }
     },
     "e665dd3730964171bd24bf3c24619f59": {
      "model_module": "@jupyter-widgets/controls",
      "model_module_version": "2.0.0",
      "model_name": "VBoxModel",
      "state": {
       "children": [
        "IPY_MODEL_3d86c5f5c696423e8c846a701ba0317f",
        "IPY_MODEL_4350bb6cda224902993309d378a7123e"
       ],
       "layout": "IPY_MODEL_acbbe7a47f394b6cb6f4c79a0ccbcadb"
      }
     },
     "ec07a1a3e6d34dc4920ff3b1e9277f4b": {
      "model_module": "@jupyter-widgets/base",
      "model_module_version": "2.0.0",
      "model_name": "LayoutModel",
      "state": {}
     },
     "ecba784846ba4af2903356c822257431": {
      "model_module": "@jupyter-widgets/controls",
      "model_module_version": "2.0.0",
      "model_name": "HTMLStyleModel",
      "state": {
       "description_width": "",
       "font_size": null,
       "text_color": null
      }
     }
    },
    "version_major": 2,
    "version_minor": 0
   }
  }
 },
 "nbformat": 4,
 "nbformat_minor": 4
}
