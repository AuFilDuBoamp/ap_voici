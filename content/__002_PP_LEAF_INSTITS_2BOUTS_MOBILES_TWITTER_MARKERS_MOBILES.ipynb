{
 "cells": [
  {
   "cell_type": "code",
   "execution_count": 1,
   "metadata": {},
   "outputs": [],
   "source": [
    "#from semaine52lab.configs import *\n",
    "import IPython.display\n",
    "\n",
    "\n",
    "import ipyleaflet as leaf\n",
    "import ipywidgets as wg\n",
    "from ipyleaflet import Map, Marker, Popup, FullScreenControl, WidgetControl, basemaps, basemap_to_tiles\n",
    "from ipywidgets import interact, interactive, IntSlider, HBox, VBox, HTML, Layout, Output, Box\n"
   ]
  },
  {
   "cell_type": "code",
   "execution_count": 2,
   "metadata": {},
   "outputs": [],
   "source": [
    "out_mapCE = wg.Output(layout=dict(border='1px solid black'))\n",
    "out_mapCC = wg.Output(layout=dict(border='1px solid black'))\n",
    "\n",
    "\n",
    "s_cons_etat = (\"\"\"\n",
    "<a class=\"twitter-timeline\" data-chrome=\"\"\n",
    "data-link-color=\"#ffcc00\" data-theme=\"dark\"\n",
    "height=\"500\" width=\"500\"\n",
    "href=\"https://twitter.com/Conseil_Etat\"></a>\n",
    "<script async src=\"//platform.twitter.com/widgets.js\" charset=\"utf-8\"></script>\n",
    "\"\"\")\n",
    "\n",
    "s_cons_constit = (\"\"\"\n",
    "<a class=\"twitter-timeline\" data-chrome=\"\"\n",
    "data-link-color=\"#ffcc00\" data-theme=\"dark\"\n",
    "height=\"500\" width=\"500\"\n",
    "href=\"https://twitter.com/conseil_constit\"></a>\n",
    "<script async src=\"//platform.twitter.com/widgets.js\" charset=\"utf-8\"></script>\n",
    "\"\"\")\n",
    "\n",
    "class creer_une_repr_html_(object):\n",
    "        def __init__(self, embed_str=None):\n",
    "            self.embed_str = embed_str\n",
    "        \n",
    "        def _repr_html_(self):\n",
    "            return self.embed_str\n",
    "        \n",
    "with out_mapCC:\n",
    "    creer_une_repr_html_(s_cons_constit)\n",
    "    \n",
    "with out_mapCE:\n",
    "    creer_une_repr_html_(s_cons_etat)\n",
    "\n"
   ]
  },
  {
   "cell_type": "code",
   "execution_count": 3,
   "metadata": {},
   "outputs": [],
   "source": [
    "# Carte\n",
    "m = leaf.Map(center=(0.0,0.0), zoom=4, close_popup_on_click=False)\n",
    "\n",
    "# Layer\n",
    "\n",
    "#dark_matter_layer = basemap_to_tiles(basemaps.NASAGIBS.ViirsEarthAtNight2012)\n",
    "#m.add_layer(dark_matter_layer)\n",
    "\n",
    "# Markers\n",
    "mk1 = leaf.Marker(location=(m.center[0]-20, m.center[1]), popup=wg.HTML('pop_inter1'), title='title1')\n",
    "m.add_layer(mk1)\n",
    "\n",
    "mk2 = leaf.Marker(location=(m.center[0]-20, m.center[1]-80.0), popup=wg.HTML('pop_inter2'),  title='title2')\n",
    "m.add_layer(mk2)\n",
    "\n",
    "\n",
    "# Boutons\n",
    "## Bout1\n",
    "bout1 = wg.Button(description=\"Conseil d'État\")\n",
    "widget_bout1 = WidgetControl(widget=bout1, position='topright')\n",
    "m.add_control(widget_bout1)\n",
    "\n",
    "def on_button1_clicked(b):\n",
    "    m.center = mk1.location\n",
    "bout1.on_click(on_button1_clicked)\n",
    "\n",
    "\n",
    "##Bout2\n",
    "bout2 = wg.Button(description='Conseil constitutionnel')\n",
    "widget_bout2 = WidgetControl(widget=bout2, position='topright')\n",
    "m.add_control(widget_bout2)\n",
    "\n",
    "def on_button2_clicked(b):\n",
    "    m.center = mk2.location\n",
    "bout2.on_click(on_button2_clicked)\n",
    "    \n",
    "# Popups\n",
    "pop1 = leaf.Popup(location=(mk1.location[0]-15.0,mk1.location[1]),\n",
    "                  child=wg.VBox([wg.HTML(value='Conseil d\\'État'), out_mapCE]), auto_close=False,\n",
    "                  close_on_escape_key=False, close_button=False,\n",
    "                  keep_in_view=True, min_width=400,)\n",
    "m.add_layer(pop1)\n",
    "\n",
    "pop2 = leaf.Popup(location=(mk2.location[0]-15.0,mk2.location[1]),\n",
    "                  child=wg.VBox([wg.HTML(value='Conseil constitutionnel'), out_mapCC]), auto_close=False,\n",
    "                  close_on_escape_key=False, close_button=False,\n",
    "                  keep_in_view=True, min_width=400,)\n",
    "m.add_layer(pop2)\n",
    "\n",
    "# contrôles\n",
    "m.add_control(FullScreenControl())"
   ]
  },
  {
   "cell_type": "code",
   "execution_count": 4,
   "metadata": {},
   "outputs": [
    {
     "data": {
      "application/vnd.jupyter.widget-view+json": {
       "model_id": "6688b4a299a540e8bb5172b841fad26a",
       "version_major": 2,
       "version_minor": 0
      },
      "text/plain": [
       "Output()"
      ]
     },
     "metadata": {},
     "output_type": "display_data"
    }
   ],
   "source": [
    "# widget OUT\n",
    "out = wg.Output()\n",
    "with out:\n",
    "    display(m)\n",
    "\n",
    "display(out)"
   ]
  },
  {
   "cell_type": "code",
   "execution_count": null,
   "metadata": {},
   "outputs": [],
   "source": []
  }
 ],
 "metadata": {
  "kernelspec": {
   "display_name": "Python 3 (ipykernel)",
   "language": "python",
   "name": "python3"
  },
  "language_info": {
   "codemirror_mode": {
    "name": "ipython",
    "version": 3
   },
   "file_extension": ".py",
   "mimetype": "text/x-python",
   "name": "python",
   "nbconvert_exporter": "python",
   "pygments_lexer": "ipython3",
   "version": "3.11.5"
  },
  "widgets": {
   "application/vnd.jupyter.widget-state+json": {
    "state": {
     "01faff5f29d3482c9a4be09651ab9ba8": {
      "model_module": "jupyter-leaflet",
      "model_module_version": "^0.17",
      "model_name": "LeafletPopupModel",
      "state": {
       "_model_module_version": "^0.17",
       "_view_module_version": "^0.17",
       "auto_close": false,
       "auto_pan": true,
       "auto_pan_padding": [
        5,
        5
       ],
       "auto_pan_padding_bottom_right": null,
       "auto_pan_padding_top_left": null,
       "child": "IPY_MODEL_578439b96b3f4a0db371bd0f7e0d56de",
       "close_button": false,
       "close_on_escape_key": false,
       "keep_in_view": true,
       "location": [
        -35,
        0
       ],
       "min_width": 400,
       "options": [
        "auto_close",
        "auto_pan",
        "auto_pan_padding",
        "auto_pan_padding_bottom_right",
        "auto_pan_padding_top_left",
        "close_button",
        "close_on_escape_key",
        "keep_in_view",
        "max_height",
        "max_width",
        "min_width"
       ]
      }
     },
     "04875796549f4ecdb5aa75c9a59a7aa4": {
      "model_module": "@jupyter-widgets/controls",
      "model_module_version": "2.0.0",
      "model_name": "ButtonModel",
      "state": {
       "description": "Conseil constitutionnel",
       "layout": "IPY_MODEL_8c7f7e31c869485c98a991bdae96a357",
       "style": "IPY_MODEL_810cf6530b9b4147995a41cb9a49c2ca",
       "tooltip": null
      }
     },
     "0f5b743a548f4c2087e7341395282a0e": {
      "model_module": "@jupyter-widgets/output",
      "model_module_version": "1.0.0",
      "model_name": "OutputModel",
      "state": {
       "layout": "IPY_MODEL_c3331511aa1041bfb62914957cf5f897"
      }
     },
     "13c053d6d0f64d2a9deafb8ea95530b0": {
      "model_module": "@jupyter-widgets/controls",
      "model_module_version": "2.0.0",
      "model_name": "HTMLStyleModel",
      "state": {
       "description_width": "",
       "font_size": null,
       "text_color": null
      }
     },
     "13da59f0c2414d78991848f4b5e45973": {
      "model_module": "jupyter-leaflet",
      "model_module_version": "^0.17",
      "model_name": "LeafletMarkerModel",
      "state": {
       "_model_module_version": "^0.17",
       "_view_module_version": "^0.17",
       "location": [
        -20,
        0
       ],
       "options": [
        "alt",
        "draggable",
        "keyboard",
        "rise_offset",
        "rise_on_hover",
        "rotation_angle",
        "rotation_origin",
        "title",
        "z_index_offset"
       ],
       "popup": "IPY_MODEL_2d3f50bb13904ef298b885f10c459442",
       "title": "title1"
      }
     },
     "15b224a40d3c4879acde450e6e401bb0": {
      "model_module": "@jupyter-widgets/base",
      "model_module_version": "2.0.0",
      "model_name": "LayoutModel",
      "state": {}
     },
     "172d197ad12646a0ae269c4c36e5d684": {
      "model_module": "jupyter-leaflet",
      "model_module_version": "^0.17",
      "model_name": "LeafletMapStyleModel",
      "state": {
       "_model_module_version": "^0.17"
      }
     },
     "19822a379a7e407fb672b1dd2a0aa15c": {
      "model_module": "@jupyter-widgets/base",
      "model_module_version": "2.0.0",
      "model_name": "LayoutModel",
      "state": {}
     },
     "2d3f50bb13904ef298b885f10c459442": {
      "model_module": "@jupyter-widgets/controls",
      "model_module_version": "2.0.0",
      "model_name": "HTMLModel",
      "state": {
       "layout": "IPY_MODEL_b8155f2542704afe84997df000fc9876",
       "style": "IPY_MODEL_dae8df9c925f4cca90dae34f70e8b8bf",
       "value": "pop_inter1"
      }
     },
     "47cf40f79697401e84a42a984c3c563b": {
      "model_module": "@jupyter-widgets/controls",
      "model_module_version": "2.0.0",
      "model_name": "VBoxModel",
      "state": {
       "children": [
        "IPY_MODEL_bc78c9de05ab4985a1ab2f760ff47c17",
        "IPY_MODEL_abe4fa670a9f43d3a1688e738b243a79"
       ],
       "layout": "IPY_MODEL_5f7463e2e25c4eb998598348f8e7ddb7"
      }
     },
     "485814b2169944a79ca0cfd2a8c8c097": {
      "model_module": "jupyter-leaflet",
      "model_module_version": "^0.17",
      "model_name": "LeafletTileLayerModel",
      "state": {
       "_model_module_version": "^0.17",
       "_view_module_version": "^0.17",
       "attribution": "&copy; <a href=\"https://www.openstreetmap.org/copyright\">OpenStreetMap</a> contributors",
       "base": true,
       "max_zoom": 19,
       "min_zoom": 1,
       "name": "OpenStreetMap.Mapnik",
       "options": [
        "attribution",
        "bounds",
        "detect_retina",
        "max_native_zoom",
        "max_zoom",
        "min_native_zoom",
        "min_zoom",
        "no_wrap",
        "tile_size",
        "tms",
        "zoom_offset"
       ],
       "url": "https://tile.openstreetmap.org/{z}/{x}/{y}.png"
      }
     },
     "48e824f80da049d9b4a263d4d400dfc1": {
      "model_module": "@jupyter-widgets/base",
      "model_module_version": "2.0.0",
      "model_name": "LayoutModel",
      "state": {}
     },
     "4c93fda2c6184715ab309235df42c263": {
      "model_module": "jupyter-leaflet",
      "model_module_version": "^0.17",
      "model_name": "LeafletZoomControlModel",
      "state": {
       "_model_module_version": "^0.17",
       "_view_module_version": "^0.17",
       "options": [
        "position",
        "zoom_in_text",
        "zoom_in_title",
        "zoom_out_text",
        "zoom_out_title"
       ]
      }
     },
     "4ea1273e1d0244d7a53b5f0c7c11acb5": {
      "model_module": "@jupyter-widgets/base",
      "model_module_version": "2.0.0",
      "model_name": "LayoutModel",
      "state": {}
     },
     "505cfdd04eab4dc398d3536d15a6ea08": {
      "model_module": "@jupyter-widgets/base",
      "model_module_version": "2.0.0",
      "model_name": "LayoutModel",
      "state": {
       "border_bottom": "1px solid black",
       "border_left": "1px solid black",
       "border_right": "1px solid black",
       "border_top": "1px solid black"
      }
     },
     "52a68b298b6f4b7ebe74fd5a9f4287ec": {
      "model_module": "jupyter-leaflet",
      "model_module_version": "^0.17",
      "model_name": "LeafletAttributionControlModel",
      "state": {
       "_model_module_version": "^0.17",
       "_view_module_version": "^0.17",
       "options": [
        "position",
        "prefix"
       ],
       "position": "bottomright",
       "prefix": "ipyleaflet"
      }
     },
     "578439b96b3f4a0db371bd0f7e0d56de": {
      "model_module": "@jupyter-widgets/controls",
      "model_module_version": "2.0.0",
      "model_name": "VBoxModel",
      "state": {
       "children": [
        "IPY_MODEL_655833ae840c4376966d1cc617f18822",
        "IPY_MODEL_0f5b743a548f4c2087e7341395282a0e"
       ],
       "layout": "IPY_MODEL_19822a379a7e407fb672b1dd2a0aa15c"
      }
     },
     "5b0e50785d6a4195bd16d7ba9cad78dd": {
      "model_module": "jupyter-leaflet",
      "model_module_version": "^0.17",
      "model_name": "LeafletWidgetControlModel",
      "state": {
       "_model_module": "jupyter-leaflet",
       "_model_module_version": "^0.17",
       "_view_count": null,
       "_view_module": "jupyter-leaflet",
       "_view_module_version": "^0.17",
       "options": [
        "position",
        "transparent_bg"
       ],
       "position": "topright",
       "widget": "IPY_MODEL_733abd6e71454da6a73b40f7eb20dc71"
      }
     },
     "5ca2439a6cef4a72b76d1a9509a1872c": {
      "model_module": "@jupyter-widgets/controls",
      "model_module_version": "2.0.0",
      "model_name": "HTMLStyleModel",
      "state": {
       "description_width": "",
       "font_size": null,
       "text_color": null
      }
     },
     "5f7463e2e25c4eb998598348f8e7ddb7": {
      "model_module": "@jupyter-widgets/base",
      "model_module_version": "2.0.0",
      "model_name": "LayoutModel",
      "state": {}
     },
     "655833ae840c4376966d1cc617f18822": {
      "model_module": "@jupyter-widgets/controls",
      "model_module_version": "2.0.0",
      "model_name": "HTMLModel",
      "state": {
       "layout": "IPY_MODEL_15b224a40d3c4879acde450e6e401bb0",
       "style": "IPY_MODEL_5ca2439a6cef4a72b76d1a9509a1872c",
       "value": "Conseil d'État"
      }
     },
     "6688b4a299a540e8bb5172b841fad26a": {
      "model_module": "@jupyter-widgets/output",
      "model_module_version": "1.0.0",
      "model_name": "OutputModel",
      "state": {
       "layout": "IPY_MODEL_4ea1273e1d0244d7a53b5f0c7c11acb5",
       "outputs": [
        {
         "data": {
          "application/vnd.jupyter.widget-view+json": {
           "model_id": "a132ad9d195c4c369d3f57fb167970f0",
           "version_major": 2,
           "version_minor": 0
          },
          "text/plain": "Map(center=[0.0, 0.0], close_popup_on_click=False, controls=(ZoomControl(options=['position', 'zoom_in_text', …"
         },
         "metadata": {},
         "output_type": "display_data"
        }
       ]
      }
     },
     "733abd6e71454da6a73b40f7eb20dc71": {
      "model_module": "@jupyter-widgets/controls",
      "model_module_version": "2.0.0",
      "model_name": "ButtonModel",
      "state": {
       "description": "Conseil d'État",
       "layout": "IPY_MODEL_48e824f80da049d9b4a263d4d400dfc1",
       "style": "IPY_MODEL_9497dec3a5a3414881c1bd0e556a0694",
       "tooltip": null
      }
     },
     "810cf6530b9b4147995a41cb9a49c2ca": {
      "model_module": "@jupyter-widgets/controls",
      "model_module_version": "2.0.0",
      "model_name": "ButtonStyleModel",
      "state": {
       "font_family": null,
       "font_size": null,
       "font_style": null,
       "font_variant": null,
       "font_weight": null,
       "text_color": null,
       "text_decoration": null
      }
     },
     "8c7f7e31c869485c98a991bdae96a357": {
      "model_module": "@jupyter-widgets/base",
      "model_module_version": "2.0.0",
      "model_name": "LayoutModel",
      "state": {}
     },
     "939e4501fbb044fbbca5f97c5018cc62": {
      "model_module": "jupyter-leaflet",
      "model_module_version": "^0.17",
      "model_name": "LeafletMapStyleModel",
      "state": {
       "_model_module_version": "^0.17"
      }
     },
     "9497dec3a5a3414881c1bd0e556a0694": {
      "model_module": "@jupyter-widgets/controls",
      "model_module_version": "2.0.0",
      "model_name": "ButtonStyleModel",
      "state": {
       "font_family": null,
       "font_size": null,
       "font_style": null,
       "font_variant": null,
       "font_weight": null,
       "text_color": null,
       "text_decoration": null
      }
     },
     "9a4e45ec47804b6b99699bdc601c9aac": {
      "model_module": "@jupyter-widgets/controls",
      "model_module_version": "2.0.0",
      "model_name": "HTMLModel",
      "state": {
       "layout": "IPY_MODEL_af4bb5af029643b3be74f4cb98bc2b44",
       "style": "IPY_MODEL_d8a43920573b4c0fa25179387bb83cc1",
       "value": "pop_inter2"
      }
     },
     "a132ad9d195c4c369d3f57fb167970f0": {
      "model_module": "jupyter-leaflet",
      "model_module_version": "^0.17",
      "model_name": "LeafletMapModel",
      "state": {
       "_model_module_version": "^0.17",
       "_view_module_version": "^0.17",
       "bottom": 2486,
       "center": [
        -20.46818922264095,
        -79.98046875000001
       ],
       "close_popup_on_click": false,
       "controls": [
        "IPY_MODEL_4c93fda2c6184715ab309235df42c263",
        "IPY_MODEL_52a68b298b6f4b7ebe74fd5a9f4287ec",
        "IPY_MODEL_5b0e50785d6a4195bd16d7ba9cad78dd",
        "IPY_MODEL_e21f6348b84f4206a6bf33402ae91c19",
        "IPY_MODEL_cca78c9de53e4e9f8455581ca53cc272"
       ],
       "default_style": "IPY_MODEL_172d197ad12646a0ae269c4c36e5d684",
       "dragging_style": "IPY_MODEL_ef14ec3c63384e97b17098717938d16c",
       "east": -37.35351562500001,
       "fullscreen": false,
       "interpolation": "bilinear",
       "layers": [
        "IPY_MODEL_485814b2169944a79ca0cfd2a8c8c097",
        "IPY_MODEL_13da59f0c2414d78991848f4b5e45973",
        "IPY_MODEL_e9b9eab5fc8d4e118f0c53c16bc321a9",
        "IPY_MODEL_01faff5f29d3482c9a4be09651ab9ba8",
        "IPY_MODEL_ff342c57650f43c6a5675262e946c64e"
       ],
       "layout": "IPY_MODEL_e5a46d7ca2c249819b989a7fc45b0926",
       "left": 653,
       "modisdate": "2023-12-21",
       "north": -3.337953961416472,
       "options": [
        "bounce_at_zoom_limits",
        "box_zoom",
        "center",
        "close_popup_on_click",
        "double_click_zoom",
        "dragging",
        "fullscreen",
        "inertia",
        "inertia_deceleration",
        "inertia_max_speed",
        "interpolation",
        "keyboard",
        "keyboard_pan_offset",
        "keyboard_zoom_offset",
        "max_zoom",
        "min_zoom",
        "prefer_canvas",
        "scroll_wheel_zoom",
        "tap",
        "tap_tolerance",
        "touch_zoom",
        "world_copy_jump",
        "zoom",
        "zoom_animation_threshold",
        "zoom_delta",
        "zoom_snap"
       ],
       "prefer_canvas": false,
       "right": 1623,
       "south": -35.88905007936092,
       "style": "IPY_MODEL_172d197ad12646a0ae269c4c36e5d684",
       "top": 2086,
       "west": -122.60742187500001,
       "window_url": "http://localhost:8888/lab/tree/BOAMP_V2_230/050_CARTES_LEFLEAT/A_EXPLORER/__002_PP_LEAF_INSTITS_2BOUTS_MOBILES_TWITTER_MARKERS_MOBILES.ipynb",
       "zoom": 4
      }
     },
     "abe4fa670a9f43d3a1688e738b243a79": {
      "model_module": "@jupyter-widgets/output",
      "model_module_version": "1.0.0",
      "model_name": "OutputModel",
      "state": {
       "layout": "IPY_MODEL_505cfdd04eab4dc398d3536d15a6ea08"
      }
     },
     "af4bb5af029643b3be74f4cb98bc2b44": {
      "model_module": "@jupyter-widgets/base",
      "model_module_version": "2.0.0",
      "model_name": "LayoutModel",
      "state": {}
     },
     "b8155f2542704afe84997df000fc9876": {
      "model_module": "@jupyter-widgets/base",
      "model_module_version": "2.0.0",
      "model_name": "LayoutModel",
      "state": {}
     },
     "bc78c9de05ab4985a1ab2f760ff47c17": {
      "model_module": "@jupyter-widgets/controls",
      "model_module_version": "2.0.0",
      "model_name": "HTMLModel",
      "state": {
       "layout": "IPY_MODEL_ee91a3f45c534266b7050b65b7ce7580",
       "style": "IPY_MODEL_13c053d6d0f64d2a9deafb8ea95530b0",
       "value": "Conseil constitutionnel"
      }
     },
     "c3331511aa1041bfb62914957cf5f897": {
      "model_module": "@jupyter-widgets/base",
      "model_module_version": "2.0.0",
      "model_name": "LayoutModel",
      "state": {
       "border_bottom": "1px solid black",
       "border_left": "1px solid black",
       "border_right": "1px solid black",
       "border_top": "1px solid black"
      }
     },
     "cca78c9de53e4e9f8455581ca53cc272": {
      "model_module": "jupyter-leaflet",
      "model_module_version": "^0.17",
      "model_name": "LeafletFullScreenControlModel",
      "state": {
       "_model_module_version": "^0.17",
       "_view_module_version": "^0.17",
       "options": [
        "position"
       ]
      }
     },
     "d8a43920573b4c0fa25179387bb83cc1": {
      "model_module": "@jupyter-widgets/controls",
      "model_module_version": "2.0.0",
      "model_name": "HTMLStyleModel",
      "state": {
       "description_width": "",
       "font_size": null,
       "text_color": null
      }
     },
     "dae8df9c925f4cca90dae34f70e8b8bf": {
      "model_module": "@jupyter-widgets/controls",
      "model_module_version": "2.0.0",
      "model_name": "HTMLStyleModel",
      "state": {
       "description_width": "",
       "font_size": null,
       "text_color": null
      }
     },
     "e21f6348b84f4206a6bf33402ae91c19": {
      "model_module": "jupyter-leaflet",
      "model_module_version": "^0.17",
      "model_name": "LeafletWidgetControlModel",
      "state": {
       "_model_module": "jupyter-leaflet",
       "_model_module_version": "^0.17",
       "_view_count": null,
       "_view_module": "jupyter-leaflet",
       "_view_module_version": "^0.17",
       "options": [
        "position",
        "transparent_bg"
       ],
       "position": "topright",
       "widget": "IPY_MODEL_04875796549f4ecdb5aa75c9a59a7aa4"
      }
     },
     "e5a46d7ca2c249819b989a7fc45b0926": {
      "model_module": "@jupyter-widgets/base",
      "model_module_version": "2.0.0",
      "model_name": "LayoutModel",
      "state": {}
     },
     "e9b9eab5fc8d4e118f0c53c16bc321a9": {
      "model_module": "jupyter-leaflet",
      "model_module_version": "^0.17",
      "model_name": "LeafletMarkerModel",
      "state": {
       "_model_module_version": "^0.17",
       "_view_module_version": "^0.17",
       "location": [
        -20,
        -80
       ],
       "options": [
        "alt",
        "draggable",
        "keyboard",
        "rise_offset",
        "rise_on_hover",
        "rotation_angle",
        "rotation_origin",
        "title",
        "z_index_offset"
       ],
       "popup": "IPY_MODEL_9a4e45ec47804b6b99699bdc601c9aac",
       "title": "title2"
      }
     },
     "ee91a3f45c534266b7050b65b7ce7580": {
      "model_module": "@jupyter-widgets/base",
      "model_module_version": "2.0.0",
      "model_name": "LayoutModel",
      "state": {}
     },
     "ef14ec3c63384e97b17098717938d16c": {
      "model_module": "jupyter-leaflet",
      "model_module_version": "^0.17",
      "model_name": "LeafletMapStyleModel",
      "state": {
       "_model_module_version": "^0.17",
       "cursor": "move"
      }
     },
     "ff342c57650f43c6a5675262e946c64e": {
      "model_module": "jupyter-leaflet",
      "model_module_version": "^0.17",
      "model_name": "LeafletPopupModel",
      "state": {
       "_model_module_version": "^0.17",
       "_view_module_version": "^0.17",
       "auto_close": false,
       "auto_pan": true,
       "auto_pan_padding": [
        5,
        5
       ],
       "auto_pan_padding_bottom_right": null,
       "auto_pan_padding_top_left": null,
       "child": "IPY_MODEL_47cf40f79697401e84a42a984c3c563b",
       "close_button": false,
       "close_on_escape_key": false,
       "keep_in_view": true,
       "location": [
        -35,
        -80
       ],
       "min_width": 400,
       "options": [
        "auto_close",
        "auto_pan",
        "auto_pan_padding",
        "auto_pan_padding_bottom_right",
        "auto_pan_padding_top_left",
        "close_button",
        "close_on_escape_key",
        "keep_in_view",
        "max_height",
        "max_width",
        "min_width"
       ]
      }
     }
    },
    "version_major": 2,
    "version_minor": 0
   }
  }
 },
 "nbformat": 4,
 "nbformat_minor": 4
}
